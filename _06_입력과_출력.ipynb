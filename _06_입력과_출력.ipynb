{
  "nbformat": 4,
  "nbformat_minor": 0,
  "metadata": {
    "colab": {
      "provenance": [],
      "include_colab_link": true
    },
    "kernelspec": {
      "name": "python3",
      "display_name": "Python 3"
    }
  },
  "cells": [
    {
      "cell_type": "markdown",
      "metadata": {
        "id": "view-in-github",
        "colab_type": "text"
      },
      "source": [
        "<a href=\"https://colab.research.google.com/github/seo-minsu/Python-Programming-Study_Minsu/blob/main/_06_%EC%9E%85%EB%A0%A5%EA%B3%BC_%EC%B6%9C%EB%A0%A5.ipynb\" target=\"_parent\"><img src=\"https://colab.research.google.com/assets/colab-badge.svg\" alt=\"Open In Colab\"/></a>"
      ]
    },
    {
      "cell_type": "markdown",
      "metadata": {
        "id": "bg5ZXMV2sn1M"
      },
      "source": [
        "# 입력과 출력"
      ]
    },
    {
      "cell_type": "markdown",
      "metadata": {
        "id": "Lj_iZPKnCRP0"
      },
      "source": [
        "\n",
        "\n",
        "---\n",
        "\n"
      ]
    },
    {
      "cell_type": "markdown",
      "metadata": {
        "id": "zXbENjlMCrkU"
      },
      "source": [
        "## 표준 입출력(Standard Input/Output)\n",
        "* 표준입력장치 → 표준입력함수 → 파이썬 프로그램 → 표준출력함수 → 표준출력장치\n"
      ]
    },
    {
      "cell_type": "markdown",
      "metadata": {
        "id": "QerabWfwCvtt"
      },
      "source": [
        "[링크 텍스트](https://)### 표준 입력 함수\n",
        "* input() 함수: 콘솔 창을 통해서 사용자 입력을 받는 표준 입력 함수\n",
        "* input() 함수 안에 입력 받기 위한 질문을 텍스트로 넣을 수 있음"
      ]
    },
    {
      "cell_type": "code",
      "metadata": {
        "id": "22ALZ21LE60j",
        "outputId": "3ff4a07c-32a2-438d-f23b-7e60707a1265",
        "colab": {
          "base_uri": "https://localhost:8080/"
        }
      },
      "source": [
        "name=input(\"이름:\")\n",
        "print(name)"
      ],
      "execution_count": 1,
      "outputs": [
        {
          "output_type": "stream",
          "name": "stdout",
          "text": [
            "이름:서민수\n",
            "서민수\n"
          ]
        }
      ]
    },
    {
      "cell_type": "markdown",
      "metadata": {
        "id": "7eTpB0QqxKI5"
      },
      "source": [
        "#### [Lab] 섭씨 온도를 화씨 온도로 변환\n",
        "\n",
        "* 섭씨 온도를 화씨 온도로 변환하는 공식: $F = (C * 1.8) + 32$"
      ]
    },
    {
      "cell_type": "code",
      "metadata": {
        "id": "ILFOCS30xVAJ",
        "outputId": "450229c3-508c-43fd-b423-8f5d9ecc5169",
        "colab": {
          "base_uri": "https://localhost:8080/"
        }
      },
      "source": [
        "celsius=float(input(\"섭씨온도: \"))\n",
        "fahrenheit=(celsius*1.8)+32\n",
        "print(\"화씨온도:\",fahrenheit)\n"
      ],
      "execution_count": 5,
      "outputs": [
        {
          "output_type": "stream",
          "name": "stdout",
          "text": [
            "섭씨온도: 28\n",
            "화씨온도: 82.4\n"
          ]
        }
      ]
    },
    {
      "cell_type": "markdown",
      "metadata": {
        "id": "i8D8CzQAyLET"
      },
      "source": [
        "#### [Lab] 구구단 중의 하나의 단을 입력받아 계산\n",
        "\n",
        "* 출력할 단을 입력\n",
        "* 해당 단의 계산 결과 출력"
      ]
    },
    {
      "cell_type": "code",
      "metadata": {
        "id": "s5_zXZsvyXu1",
        "outputId": "5ddea44b-169c-498e-e988-294de4bb61cc",
        "colab": {
          "base_uri": "https://localhost:8080/"
        }
      },
      "source": [
        "i=int(input(\"출력할 단: \"))\n",
        "for j in range(1,10):\n",
        "  print(\"{0} x {1} = {2}\".format(i,j,i*j))\n"
      ],
      "execution_count": 10,
      "outputs": [
        {
          "output_type": "stream",
          "name": "stdout",
          "text": [
            "출력할 단: 4\n",
            "4 x 1 = 4\n",
            "4 x 2 = 8\n",
            "4 x 3 = 12\n",
            "4 x 4 = 16\n",
            "4 x 5 = 20\n",
            "4 x 6 = 24\n",
            "4 x 7 = 28\n",
            "4 x 8 = 32\n",
            "4 x 9 = 36\n"
          ]
        }
      ]
    },
    {
      "cell_type": "markdown",
      "metadata": {
        "id": "dq9yEA9J20Mg"
      },
      "source": [
        "### 표준 출력 함수\n",
        "* print() 함수: 콘솔 창을 통해서 결과를 출력하는 표준 출력 함수\n",
        "* sep='seperator.': 개체가 분리하는 방법 지정, 기본값은 ''\n",
        "* end='end.': 끝에 출력할 항목 지정, 기본값은 '/n'\n",
        "* file: 쓰기 방법이 있는 객체, 기본값은 sys.stdout\n",
        "* flush: True일 경우 flush하고, False일 경우 버퍼, 기본값은 False"
      ]
    },
    {
      "cell_type": "code",
      "metadata": {
        "id": "pUGNUXMx292v",
        "outputId": "16dd0b9c-e8a4-4a30-9557-b1fd0c961408",
        "colab": {
          "base_uri": "https://localhost:8080/"
        }
      },
      "source": [
        "print(\"Hello python\")\n",
        "print(7)\n",
        "print(3.14)\n",
        "print([1,2,3])\n",
        "\n",
        "print(\"Hello\", \"Python\", sep=\"---\")\n",
        "print(1,2,3,)\n",
        "print(1,end=' ')\n",
        "print(2,end=' ')\n",
        "print(3,end=' ')"
      ],
      "execution_count": 16,
      "outputs": [
        {
          "output_type": "stream",
          "name": "stdout",
          "text": [
            "Hello python\n",
            "7\n",
            "3.14\n",
            "[1, 2, 3]\n",
            "Hello---Python\n",
            "1 2 3\n",
            "1 2 3 "
          ]
        }
      ]
    },
    {
      "cell_type": "markdown",
      "metadata": {
        "id": "ll_m-EALwmJ-"
      },
      "source": [
        "#### [Lab] 구구단 출력\n",
        "\n",
        "* `print()` 함수를 사용하여 각 단마다 횡으로 출력\n"
      ]
    },
    {
      "cell_type": "code",
      "metadata": {
        "id": "wgtwEAQywy03",
        "outputId": "bd297a22-aedd-4c1f-d61c-b86d32815f5f",
        "colab": {
          "base_uri": "https://localhost:8080/"
        }
      },
      "source": [
        "for i in range(2,10):\n",
        "  for j in range(1,10):\n",
        "    print(\"{0}x{1}={2}\".format(i,j,i*j), end='\\n')\n",
        "\n"
      ],
      "execution_count": 42,
      "outputs": [
        {
          "output_type": "stream",
          "name": "stdout",
          "text": [
            "2x1=2\n",
            "2x2=4\n",
            "2x3=6\n",
            "2x4=8\n",
            "2x5=10\n",
            "2x6=12\n",
            "2x7=14\n",
            "2x8=16\n",
            "2x9=18\n",
            "3x1=3\n",
            "3x2=6\n",
            "3x3=9\n",
            "3x4=12\n",
            "3x5=15\n",
            "3x6=18\n",
            "3x7=21\n",
            "3x8=24\n",
            "3x9=27\n",
            "4x1=4\n",
            "4x2=8\n",
            "4x3=12\n",
            "4x4=16\n",
            "4x5=20\n",
            "4x6=24\n",
            "4x7=28\n",
            "4x8=32\n",
            "4x9=36\n",
            "5x1=5\n",
            "5x2=10\n",
            "5x3=15\n",
            "5x4=20\n",
            "5x5=25\n",
            "5x6=30\n",
            "5x7=35\n",
            "5x8=40\n",
            "5x9=45\n",
            "6x1=6\n",
            "6x2=12\n",
            "6x3=18\n",
            "6x4=24\n",
            "6x5=30\n",
            "6x6=36\n",
            "6x7=42\n",
            "6x8=48\n",
            "6x9=54\n",
            "7x1=7\n",
            "7x2=14\n",
            "7x3=21\n",
            "7x4=28\n",
            "7x5=35\n",
            "7x6=42\n",
            "7x7=49\n",
            "7x8=56\n",
            "7x9=63\n",
            "8x1=8\n",
            "8x2=16\n",
            "8x3=24\n",
            "8x4=32\n",
            "8x5=40\n",
            "8x6=48\n",
            "8x7=56\n",
            "8x8=64\n",
            "8x9=72\n",
            "9x1=9\n",
            "9x2=18\n",
            "9x3=27\n",
            "9x4=36\n",
            "9x5=45\n",
            "9x6=54\n",
            "9x7=63\n",
            "9x8=72\n",
            "9x9=81\n"
          ]
        }
      ]
    },
    {
      "cell_type": "markdown",
      "metadata": {
        "id": "0BWIlqrPCr__"
      },
      "source": [
        "\n",
        "\n",
        "---\n",
        "\n"
      ]
    },
    {
      "cell_type": "markdown",
      "metadata": {
        "id": "ZfKg8LniN113"
      },
      "source": [
        "## 파일 입출력(File Input/Output)\n",
        "\n",
        "* 파일 → 파일입력함수 → 파이썬 프로그램 → 파일출력함수 → 파일\n",
        "\n",
        "\n"
      ]
    },
    {
      "cell_type": "markdown",
      "metadata": {
        "id": "mwhDmG2GBd-P"
      },
      "source": [
        "### 파일 입출력 과정\n",
        "\n",
        "* 파일의 입출력 과정은 단계를 가짐\n",
        "* 파일을 열고, 파일을 읽거나 쓰고, 파일을 닫는 순서"
      ]
    },
    {
      "cell_type": "markdown",
      "metadata": {
        "id": "lTETVHfIBYER"
      },
      "source": [
        "### 파일 열기/닫기\n",
        "\n",
        "* file.txt 파일을 생성하고, 열고 닫기\n"
      ]
    },
    {
      "cell_type": "code",
      "metadata": {
        "id": "nea-tg6gNSQB"
      },
      "source": [
        "f=open(\"file.txt\",'w')\n",
        "f=open(\"file.txt\",'r')\n",
        "f.close()"
      ],
      "execution_count": 30,
      "outputs": []
    },
    {
      "cell_type": "code",
      "metadata": {
        "id": "dzvmCBufDrhK",
        "outputId": "80596af2-4d57-421d-809b-38de63a7d7be",
        "colab": {
          "base_uri": "https://localhost:8080/"
        }
      },
      "source": [
        "!ls file.txt"
      ],
      "execution_count": 32,
      "outputs": [
        {
          "output_type": "stream",
          "name": "stdout",
          "text": [
            "file.txt\n"
          ]
        }
      ]
    },
    {
      "cell_type": "markdown",
      "metadata": {
        "id": "h1fePk0YCnXV"
      },
      "source": [
        "### 파일 모드(File Mode)\n",
        "\n",
        "r : 읽기모드(기본값)\n",
        "w : 쓰기모드, 기존에 파일이 있으면 덮어쓰기\n",
        "a : 쓰기모드, 기존에 파일이 있으면 이어쓰기(append)\n",
        "+ : 읽기/쓰기 모드\n",
        "t : 텍스트모드(기본값), 텍스트 파일을 처리\n",
        "b : 이진모드, 이진 파일을 처리"
      ]
    },
    {
      "cell_type": "markdown",
      "metadata": {
        "id": "iCfc-ODYDZQY"
      },
      "source": [
        "### 텍스트 파일 쓰기\n"
      ]
    },
    {
      "cell_type": "markdown",
      "metadata": {
        "id": "Hpq36wnEGoYT"
      },
      "source": [
        "#### write()\n",
        "\n",
        "* `write()`를 이용하여 파일에 쓰기"
      ]
    },
    {
      "cell_type": "code",
      "metadata": {
        "id": "7TftagQSBp7Y"
      },
      "source": [
        "f= open(\"file.txt\", 'w')\n",
        "f.write(\"파이썬 어려워\")\n",
        "f.close()"
      ],
      "execution_count": 34,
      "outputs": []
    },
    {
      "cell_type": "code",
      "metadata": {
        "id": "Vu2IvULnDo71",
        "outputId": "8777c151-a64e-4048-9fd7-20d3fb9fb8fa",
        "colab": {
          "base_uri": "https://localhost:8080/"
        }
      },
      "source": [
        "!cat file.txt"
      ],
      "execution_count": 35,
      "outputs": [
        {
          "output_type": "stream",
          "name": "stdout",
          "text": [
            "파이썬 어려워"
          ]
        }
      ]
    },
    {
      "cell_type": "markdown",
      "metadata": {
        "id": "JP9cNh9bGso1"
      },
      "source": [
        "#### writelines()\n",
        "\n",
        "* `writelines()`를 이용하여 list를 파일에 쓰기"
      ]
    },
    {
      "cell_type": "code",
      "metadata": {
        "id": "uQih5aQjD1ie"
      },
      "source": [
        "list=[\"one\\n\", \"two\\n\", \"three\\n\"]\n",
        "f=open(\"file.txt\", 'w')\n",
        "f.writelines(list)\n",
        "f.close()"
      ],
      "execution_count": 40,
      "outputs": []
    },
    {
      "cell_type": "code",
      "metadata": {
        "id": "tziPz-7uHDIN",
        "outputId": "fddc8ba8-7ef9-4141-9b30-346c49b600fb",
        "colab": {
          "base_uri": "https://localhost:8080/"
        }
      },
      "source": [
        "!cat file.txt"
      ],
      "execution_count": 41,
      "outputs": [
        {
          "output_type": "stream",
          "name": "stdout",
          "text": [
            "one\n",
            "two\n",
            "three\n"
          ]
        }
      ]
    },
    {
      "cell_type": "markdown",
      "metadata": {
        "id": "Y4JzUhHklI3f"
      },
      "source": [
        "#### 표준 입력 → 파일 쓰기\n",
        "\n",
        "* 표준 입력을 `input()` 함수를 통해 입력 받고, `write()` 함수를 통해 파일에 쓰기"
      ]
    },
    {
      "cell_type": "code",
      "metadata": {
        "id": "0hUDWW-zHJp3",
        "outputId": "56990714-8137-4275-8523-440a79ea3f4c",
        "colab": {
          "base_uri": "https://localhost:8080/"
        }
      },
      "source": [
        "text=input(\"입력: \")\n",
        "f=open(\"file.txt\", 'w')\n",
        "f.write(text)\n",
        "f.close()"
      ],
      "execution_count": 43,
      "outputs": [
        {
          "name": "stdout",
          "output_type": "stream",
          "text": [
            "입력: 서민수\n"
          ]
        }
      ]
    },
    {
      "cell_type": "code",
      "metadata": {
        "id": "YX-QNXwEjEA0",
        "outputId": "882d94a4-6918-4b24-c234-7a49bf08f783",
        "colab": {
          "base_uri": "https://localhost:8080/"
        }
      },
      "source": [
        "!cat file.txt"
      ],
      "execution_count": 44,
      "outputs": [
        {
          "output_type": "stream",
          "name": "stdout",
          "text": [
            "서민수"
          ]
        }
      ]
    },
    {
      "cell_type": "code",
      "metadata": {
        "id": "x3bZ3RoOjFf4",
        "outputId": "b05bc1a8-5dd1-430a-b163-bda50536db7b",
        "colab": {
          "base_uri": "https://localhost:8080/"
        }
      },
      "source": [
        "text=[str(text+'\\n')for text in input(\"여러 값 입력: \").split()]\n",
        "f=open(\"file.txt\", 'w')\n",
        "f.writelines(text)\n",
        "f.close()"
      ],
      "execution_count": 50,
      "outputs": [
        {
          "name": "stdout",
          "output_type": "stream",
          "text": [
            "여러 값 입력: 이거 왤케 어렵냐 혼자는 못하것다아~~\n"
          ]
        }
      ]
    },
    {
      "cell_type": "code",
      "metadata": {
        "id": "6p_C8UUjmMSF",
        "outputId": "c0b5caca-3140-4413-a44c-a422f8e10462",
        "colab": {
          "base_uri": "https://localhost:8080/"
        }
      },
      "source": [
        "!cat file.txt"
      ],
      "execution_count": 51,
      "outputs": [
        {
          "output_type": "stream",
          "name": "stdout",
          "text": [
            "이거\n",
            "왤케\n",
            "어렵냐\n",
            "혼자는\n",
            "못하것다아~~\n"
          ]
        }
      ]
    },
    {
      "cell_type": "code",
      "metadata": {
        "id": "aZyEMmshkV-j",
        "outputId": "e0832ca3-5031-4978-ca43-45e705732cf3",
        "colab": {
          "base_uri": "https://localhost:8080/"
        }
      },
      "source": [
        "x= \"\"\n",
        "## text=\"\" 이렇게 하면 이전꺼 지움\n",
        "while x != 'q':\n",
        "  x=input(\"반복 입력: \")\n",
        "  text += x + '\\n'\n",
        "\n",
        "f= open(\"file.txt\", 'w')\n",
        "f.writelines(text)\n",
        "f.close()"
      ],
      "execution_count": 55,
      "outputs": [
        {
          "name": "stdout",
          "output_type": "stream",
          "text": [
            "반복 입력: 1\n",
            "반복 입력: 2\n",
            "반복 입력: 3\n",
            "반복 입력: 4\n",
            "반복 입력: 5\n",
            "반복 입력: 6\n",
            "반복 입력: q\n"
          ]
        }
      ]
    },
    {
      "cell_type": "code",
      "metadata": {
        "id": "7szpp1H5kWrr",
        "outputId": "dfa5f6b7-e31f-4a68-92c0-7608f58f3817",
        "colab": {
          "base_uri": "https://localhost:8080/"
        }
      },
      "source": [
        "!cat file.txt"
      ],
      "execution_count": 56,
      "outputs": [
        {
          "output_type": "stream",
          "name": "stdout",
          "text": [
            "이거\n",
            "왤케\n",
            "어렵냐\n",
            "혼자는\n",
            "못하것다아~~\n",
            "1\n",
            "2\n",
            "3\n",
            "4\n",
            "5\n",
            "6\n",
            "q\n"
          ]
        }
      ]
    },
    {
      "cell_type": "markdown",
      "metadata": {
        "id": "WNkV859qiqU1"
      },
      "source": [
        "### [Lab] 구구단 결과를 파일에 쓰기\n",
        "\n",
        "* 구구단 결과를 파일에 쓰기"
      ]
    },
    {
      "cell_type": "code",
      "metadata": {
        "id": "Z-Dj-GKcnyvq"
      },
      "source": [
        "f=open(\"dan.txt\",'w')\n",
        "for i in range(2,10):\n",
        "  for j in range(1,10):\n",
        "    f.write(\"{0}x{1}={2}\\n\".format(i,j,i*j))\n",
        "  else:\n",
        "    f.write(\"\\n\")\n",
        "f.close()"
      ],
      "execution_count": 59,
      "outputs": []
    },
    {
      "cell_type": "code",
      "metadata": {
        "id": "KGuAERghrA1X",
        "outputId": "cce2a477-87bc-45da-986d-a34009693588",
        "colab": {
          "base_uri": "https://localhost:8080/"
        }
      },
      "source": [
        "!cat dan.txt"
      ],
      "execution_count": 60,
      "outputs": [
        {
          "output_type": "stream",
          "name": "stdout",
          "text": [
            "2x1=2\n",
            "2x2=4\n",
            "2x3=6\n",
            "2x4=8\n",
            "2x5=10\n",
            "2x6=12\n",
            "2x7=14\n",
            "2x8=16\n",
            "2x9=18\n",
            "\n",
            "3x1=3\n",
            "3x2=6\n",
            "3x3=9\n",
            "3x4=12\n",
            "3x5=15\n",
            "3x6=18\n",
            "3x7=21\n",
            "3x8=24\n",
            "3x9=27\n",
            "\n",
            "4x1=4\n",
            "4x2=8\n",
            "4x3=12\n",
            "4x4=16\n",
            "4x5=20\n",
            "4x6=24\n",
            "4x7=28\n",
            "4x8=32\n",
            "4x9=36\n",
            "\n",
            "5x1=5\n",
            "5x2=10\n",
            "5x3=15\n",
            "5x4=20\n",
            "5x5=25\n",
            "5x6=30\n",
            "5x7=35\n",
            "5x8=40\n",
            "5x9=45\n",
            "\n",
            "6x1=6\n",
            "6x2=12\n",
            "6x3=18\n",
            "6x4=24\n",
            "6x5=30\n",
            "6x6=36\n",
            "6x7=42\n",
            "6x8=48\n",
            "6x9=54\n",
            "\n",
            "7x1=7\n",
            "7x2=14\n",
            "7x3=21\n",
            "7x4=28\n",
            "7x5=35\n",
            "7x6=42\n",
            "7x7=49\n",
            "7x8=56\n",
            "7x9=63\n",
            "\n",
            "8x1=8\n",
            "8x2=16\n",
            "8x3=24\n",
            "8x4=32\n",
            "8x5=40\n",
            "8x6=48\n",
            "8x7=56\n",
            "8x8=64\n",
            "8x9=72\n",
            "\n",
            "9x1=9\n",
            "9x2=18\n",
            "9x3=27\n",
            "9x4=36\n",
            "9x5=45\n",
            "9x6=54\n",
            "9x7=63\n",
            "9x8=72\n",
            "9x9=81\n",
            "\n"
          ]
        }
      ]
    },
    {
      "cell_type": "markdown",
      "metadata": {
        "id": "Qb_pHnyWmXhf"
      },
      "source": [
        "### 텍스트 파일 출력\n"
      ]
    },
    {
      "cell_type": "markdown",
      "metadata": {
        "id": "04674ECuaVeg"
      },
      "source": [
        "* 텍스트 파일 예제"
      ]
    },
    {
      "cell_type": "code",
      "metadata": {
        "id": "ZBqDkuKHmPRl"
      },
      "source": [
        "!echo \"동해물과 백두산이 마르고 닳도록\" > anthem.txt\n",
        "!echo \"하느님이 보우하사 우리나라 만세\" >>anthem.txt"
      ],
      "execution_count": 61,
      "outputs": []
    },
    {
      "cell_type": "markdown",
      "metadata": {
        "id": "ynAP34NKmzBs"
      },
      "source": [
        "#### readline()\n",
        "\n",
        "* `readline()`를 이용하여 텍스트 파일을 라인 단위로 읽고 화면에 출력"
      ]
    },
    {
      "cell_type": "code",
      "metadata": {
        "id": "aSr5-3jbTpXL",
        "outputId": "d05b540f-e1b3-4b80-9c4a-084c4354c33a",
        "colab": {
          "base_uri": "https://localhost:8080/"
        }
      },
      "source": [
        "f= open(\"anthem.txt\", 'r')\n",
        "while True:\n",
        "  line=f.readline()\n",
        "  if not line:\n",
        "    break\n",
        "  print(line)\n",
        "f.close()"
      ],
      "execution_count": 62,
      "outputs": [
        {
          "output_type": "stream",
          "name": "stdout",
          "text": [
            "동해물과 백두산이 마르고 닳도록\n",
            "\n",
            "하느님이 보우하사 우리나라 만세\n",
            "\n"
          ]
        }
      ]
    },
    {
      "cell_type": "markdown",
      "metadata": {
        "id": "wfRSe7X7YQQr"
      },
      "source": [
        "#### readlines()\n",
        "\n",
        "* `readlines()`를 이용하여 텍스트 파일의 여러 라인을 읽고 화면에 출력"
      ]
    },
    {
      "cell_type": "code",
      "metadata": {
        "id": "UKvvxHziYdgS"
      },
      "source": [],
      "execution_count": null,
      "outputs": []
    },
    {
      "cell_type": "markdown",
      "metadata": {
        "id": "AW6SmMx8aEVn"
      },
      "source": [
        "#### read()\n",
        "\n",
        "* `read()`를 이용하여 텍스트 파일을 읽고 화면에 출력"
      ]
    },
    {
      "cell_type": "code",
      "metadata": {
        "id": "WGgYorQ0Yi6c"
      },
      "source": [],
      "execution_count": null,
      "outputs": []
    },
    {
      "cell_type": "markdown",
      "metadata": {
        "id": "Qy5AKrmZexQR"
      },
      "source": [
        "#### tell()\n",
        "\n",
        "* 파일 포인터 위치 변경"
      ]
    },
    {
      "cell_type": "code",
      "metadata": {
        "id": "b5FgVeUjaeB1"
      },
      "source": [],
      "execution_count": null,
      "outputs": []
    },
    {
      "cell_type": "markdown",
      "metadata": {
        "id": "TGOuMtV-fmzX"
      },
      "source": [
        "#### seek()\n",
        "\n",
        "* 파일 포인터 위치 이동"
      ]
    },
    {
      "cell_type": "code",
      "metadata": {
        "id": "iv9v8YgWe7ps"
      },
      "source": [],
      "execution_count": null,
      "outputs": []
    },
    {
      "cell_type": "markdown",
      "metadata": {
        "id": "L_Suw_pGgTir"
      },
      "source": [
        "### with 문\n",
        "\n",
        "* 항상 파일을 `open()` 함수로 열고, `close()` 함수로 닫아야 하는 일을 자동으로 처리\n",
        "* with문을 이용하면 with 블록 내에서 파일을 열고 벗어나면 파일을 닫음"
      ]
    },
    {
      "cell_type": "code",
      "metadata": {
        "id": "UoCCDoZSfxfm"
      },
      "source": [],
      "execution_count": null,
      "outputs": []
    },
    {
      "cell_type": "code",
      "metadata": {
        "id": "SQRXWFlrgsoz"
      },
      "source": [],
      "execution_count": null,
      "outputs": []
    },
    {
      "cell_type": "markdown",
      "metadata": {
        "id": "pdqlyRyrhJrO"
      },
      "source": [
        "### [Lab] 표준 입력으로 받은 내용을 파일로 쓰기\n",
        "\n",
        "* 사용자로부터 표준 입력 받음\n",
        "* 받은 내용을 계속 파일 쓰기"
      ]
    },
    {
      "cell_type": "code",
      "metadata": {
        "id": "Qy7mVrrggx8r"
      },
      "source": [],
      "execution_count": null,
      "outputs": []
    },
    {
      "cell_type": "code",
      "metadata": {
        "id": "CyogsvI8pHDH"
      },
      "source": [],
      "execution_count": null,
      "outputs": []
    },
    {
      "cell_type": "markdown",
      "metadata": {
        "id": "8u3USAlzkYBc"
      },
      "source": [
        "* 이진 파일(이미지) 예제\n"
      ]
    },
    {
      "cell_type": "code",
      "metadata": {
        "id": "zf2Cv4xBkcZ6"
      },
      "source": [],
      "execution_count": null,
      "outputs": []
    },
    {
      "cell_type": "code",
      "metadata": {
        "id": "-79_rqZSlAAj"
      },
      "source": [],
      "execution_count": null,
      "outputs": []
    },
    {
      "cell_type": "markdown",
      "metadata": {
        "id": "xAIKkI0kkNCc"
      },
      "source": [
        "### 이진 파일 복사\n",
        "\n",
        "* 하나의 이진 파일을 읽어서 다른 이진 파일로 쓰기 (복사)"
      ]
    },
    {
      "cell_type": "code",
      "metadata": {
        "id": "O1Lgc0xJifEe"
      },
      "source": [],
      "execution_count": null,
      "outputs": []
    },
    {
      "cell_type": "code",
      "metadata": {
        "id": "FYokBMPGloiG"
      },
      "source": [],
      "execution_count": null,
      "outputs": []
    },
    {
      "cell_type": "markdown",
      "metadata": {
        "id": "6cGa9Yu6aYTw"
      },
      "source": [
        "## 디렉토리 및 파일 처리"
      ]
    },
    {
      "cell_type": "markdown",
      "metadata": {
        "id": "Gx6vy4ugmTx3"
      },
      "source": [
        "### 디렉토리 생성\n",
        "\n",
        "* 디렉토리와 파일을 다루는 다양한 함수를 제공하는 shutil와 os 라이브러리\n",
        "* `mkdir()`: 디렉토리 생성"
      ]
    },
    {
      "cell_type": "code",
      "metadata": {
        "id": "7BjQCHTelp3J"
      },
      "source": [],
      "execution_count": null,
      "outputs": []
    },
    {
      "cell_type": "code",
      "metadata": {
        "id": "C7MpVtiJmi24"
      },
      "source": [],
      "execution_count": null,
      "outputs": []
    },
    {
      "cell_type": "code",
      "metadata": {
        "id": "bTzCbKxGmmYD"
      },
      "source": [],
      "execution_count": null,
      "outputs": []
    },
    {
      "cell_type": "markdown",
      "metadata": {
        "id": "O_RHayEvmsZI"
      },
      "source": [
        "### 디렉토리 및 파일 복사\n",
        "\n",
        "* `shutil.copy()`: 파일 복사\n",
        "* `shutil.copytree()`: 디렉토리 전체 복사"
      ]
    },
    {
      "cell_type": "code",
      "metadata": {
        "id": "WoEn0xGxmn0n"
      },
      "source": [],
      "execution_count": null,
      "outputs": []
    },
    {
      "cell_type": "code",
      "metadata": {
        "id": "kvhbuSyPnYCw"
      },
      "source": [],
      "execution_count": null,
      "outputs": []
    },
    {
      "cell_type": "code",
      "metadata": {
        "id": "V5TS0NAnnY8z"
      },
      "source": [],
      "execution_count": null,
      "outputs": []
    },
    {
      "cell_type": "code",
      "metadata": {
        "id": "Y_Uglnwjngzs"
      },
      "source": [],
      "execution_count": null,
      "outputs": []
    },
    {
      "cell_type": "code",
      "metadata": {
        "id": "GvoCuP-znh5Z"
      },
      "source": [],
      "execution_count": null,
      "outputs": []
    },
    {
      "cell_type": "markdown",
      "metadata": {
        "id": "V75epsj4nng9"
      },
      "source": [
        "### 디렉토리 및 파일 확인\n",
        "\n",
        "* `isdir()`: 디렉토리 존재 확인\n",
        "* `isfile()`: 파일 존재 확인\n",
        "* `exists()`: 디렉토리/파일 존재 확인"
      ]
    },
    {
      "cell_type": "code",
      "metadata": {
        "id": "aJjYdh2HnjdB"
      },
      "source": [],
      "execution_count": null,
      "outputs": []
    },
    {
      "cell_type": "markdown",
      "metadata": {
        "id": "dmMqt-iCoD8O"
      },
      "source": [
        "### 디렉토리 목록 보기\n",
        "\n",
        "* `os.walk()`: 디렉토리 목록 보기"
      ]
    },
    {
      "cell_type": "code",
      "metadata": {
        "id": "8dl_wZjKn30X"
      },
      "source": [],
      "execution_count": null,
      "outputs": []
    },
    {
      "cell_type": "markdown",
      "metadata": {
        "id": "estvZcJApGpc"
      },
      "source": [
        "### 디렉토리 및 파일 삭제\n",
        "\n",
        "* `os.remove()`: 파일 삭제\n",
        "* `shutil.rmtree()`: 디렉토리 안에 모든 파일/디렉토리 삭제"
      ]
    },
    {
      "cell_type": "code",
      "metadata": {
        "id": "czvnvkrKoTLm"
      },
      "source": [],
      "execution_count": null,
      "outputs": []
    },
    {
      "cell_type": "code",
      "metadata": {
        "id": "CwMlBpVFpXQ-"
      },
      "source": [],
      "execution_count": null,
      "outputs": []
    },
    {
      "cell_type": "code",
      "metadata": {
        "id": "-dNA3t0Gpb-E"
      },
      "source": [],
      "execution_count": null,
      "outputs": []
    },
    {
      "cell_type": "code",
      "metadata": {
        "id": "NHqsllWupeU2"
      },
      "source": [],
      "execution_count": null,
      "outputs": []
    },
    {
      "cell_type": "markdown",
      "metadata": {
        "id": "DiN7c--0pkYn"
      },
      "source": [
        "### 파일 크기\n",
        "\n",
        "* `os.path.getsize()`: 파일의 크기를 바이트 단위로 출력"
      ]
    },
    {
      "cell_type": "code",
      "metadata": {
        "id": "rmiTPJYDpe9m"
      },
      "source": [],
      "execution_count": null,
      "outputs": []
    },
    {
      "cell_type": "markdown",
      "metadata": {
        "id": "9GITxX2sp0tx"
      },
      "source": [
        "### 파일 압축\n"
      ]
    },
    {
      "cell_type": "code",
      "metadata": {
        "id": "JCXOQV2Ipt-E"
      },
      "source": [],
      "execution_count": null,
      "outputs": []
    },
    {
      "cell_type": "code",
      "metadata": {
        "id": "cpSLp4pGqeec"
      },
      "source": [],
      "execution_count": null,
      "outputs": []
    },
    {
      "cell_type": "code",
      "metadata": {
        "id": "PpUzZdiAqfPp"
      },
      "source": [],
      "execution_count": null,
      "outputs": []
    },
    {
      "cell_type": "code",
      "metadata": {
        "id": "Akgb1WQYqnzq"
      },
      "source": [],
      "execution_count": null,
      "outputs": []
    }
  ]
}