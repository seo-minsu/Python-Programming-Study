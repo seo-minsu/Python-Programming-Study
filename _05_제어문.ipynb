{
  "nbformat": 4,
  "nbformat_minor": 0,
  "metadata": {
    "colab": {
      "provenance": [],
      "toc_visible": true,
      "include_colab_link": true
    },
    "kernelspec": {
      "name": "python3",
      "display_name": "Python 3"
    }
  },
  "cells": [
    {
      "cell_type": "markdown",
      "metadata": {
        "id": "view-in-github",
        "colab_type": "text"
      },
      "source": [
        "<a href=\"https://colab.research.google.com/github/seo-minsu/Python-Programming-Study_Minsu/blob/main/_05_%EC%A0%9C%EC%96%B4%EB%AC%B8.ipynb\" target=\"_parent\"><img src=\"https://colab.research.google.com/assets/colab-badge.svg\" alt=\"Open In Colab\"/></a>"
      ]
    },
    {
      "cell_type": "markdown",
      "source": [
        "#제어문: if, else, elif\n",
        "![image.png](data:image/png;base64,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)\n",
        "#반복문: while, for\n",
        "\n"
      ],
      "metadata": {
        "id": "M1O5hmVEpLB7"
      }
    },
    {
      "cell_type": "markdown",
      "metadata": {
        "id": "bg5ZXMV2sn1M"
      },
      "source": [
        "# 1. 제어문(Control Statement)"
      ]
    },
    {
      "cell_type": "markdown",
      "metadata": {
        "id": "Lj_iZPKnCRP0"
      },
      "source": [
        "\n",
        "\n",
        "---\n",
        "\n"
      ]
    },
    {
      "cell_type": "markdown",
      "metadata": {
        "id": "zXbENjlMCrkU"
      },
      "source": [
        "## 조건문(Conditional Statement)\n",
        "### if, else, elif"
      ]
    },
    {
      "cell_type": "markdown",
      "metadata": {
        "id": "QerabWfwCvtt"
      },
      "source": [
        "### if 문\n",
        "   * if문은 True와 False를 판단하는 조건문\n",
        "   --> 조건이 true일때만 문장 실행\n",
        "   * if 조건 뒤에는 콜론(:) 필수"
      ]
    },
    {
      "cell_type": "markdown",
      "metadata": {
        "id": "UkYuDgdYjW1p"
      },
      "source": [
        "* if 문을 이용한 미세먼지 측정\n",
        "  + 미세먼지 농도 pm\n",
        "  + 35 초과는 미세먼지 농도 나쁨"
      ]
    },
    {
      "cell_type": "code",
      "metadata": {
        "id": "22ALZ21LE60j",
        "colab": {
          "base_uri": "https://localhost:8080/"
        },
        "outputId": "cff6f760-c1ef-4203-adcb-a5a3b9ecf73d"
      },
      "source": [
        "pm=40\n",
        "if pm>35:\n",
        "  print(\"미세먼지 농도: 나쁨\")\n",
        "\n",
        "pm=30\n",
        "if pm>35:\n",
        "  print(\"미세먼지 농도: 나쁨\"). ## False라서 출력안됨"
      ],
      "execution_count": null,
      "outputs": [
        {
          "output_type": "stream",
          "name": "stdout",
          "text": [
            "미세먼지 농도: 나쁨\n"
          ]
        }
      ]
    },
    {
      "cell_type": "markdown",
      "metadata": {
        "id": "of4Jq8l-McX7"
      },
      "source": [
        "### if-else 문\n",
        "  * 조건이 true일때는 if문으로 출력, false일때는 else문으로 출력\n",
        "  * if <조건> : <br>\n",
        "      <문장 1> <br>\n",
        "    else : <br>\n",
        "      <문장2>"
      ]
    },
    {
      "cell_type": "markdown",
      "metadata": {
        "id": "KBi_DsHtkj5R"
      },
      "source": [
        "* if-else 문을 이용한 미세먼지 측정\n",
        "  + 미세먼지 농도 pm\n",
        "  + 36 이상은 미세먼지 농도 나쁨\n",
        "  + 35 이하는 미세먼지 농도 좋음"
      ]
    },
    {
      "cell_type": "code",
      "metadata": {
        "id": "w4JB__zpL_BW",
        "colab": {
          "base_uri": "https://localhost:8080/"
        },
        "outputId": "52a100ec-a843-4933-fc6a-c6a7b6fbd2ab"
      },
      "source": [
        "pm=40\n",
        "if pm>=36:\n",
        "  print(\"미세먼지 농도: 나쁨\")\n",
        "else:                         ##true 아니면 false니까 따로 조건 안달아도됨\n",
        "  print(\"미세먼지 농도: 좋음\")\n",
        "\n",
        "pm=30\n",
        "if pm>=36:\n",
        "  print(\"미세먼지 농도: 나쁨\")\n",
        "else:\n",
        "  print(\"미세먼지 농도: 좋음\")"
      ],
      "execution_count": null,
      "outputs": [
        {
          "output_type": "stream",
          "name": "stdout",
          "text": [
            "미세먼지 농도: 나쁨\n",
            "미세먼지 농도: 좋음\n"
          ]
        }
      ]
    },
    {
      "cell_type": "markdown",
      "metadata": {
        "id": "lcdJvb_vFiKf"
      },
      "source": [
        "### if-elif-else 문\n",
        "   * true가 아니었을 때의 조건을 여러 개 만들 수 있는 조건문\n",
        "   * if <조건> : <br>\n",
        "       <문장1> <br>\n",
        "     elif <조건> : <br>\n",
        "       <문장2> <br>\n",
        "     else: <br>\n",
        "       <문장3>"
      ]
    },
    {
      "cell_type": "markdown",
      "metadata": {
        "id": "DV4n1qxhnFIV"
      },
      "source": [
        "* if-elif-else 문을 이용한 미세먼지 측정\n",
        "  + 미세먼지 농도 pm\n",
        "  + 미세먼지 농도 0~15: 좋음\n",
        "  + 미세먼지 농도 16~35: 보통\n",
        "  + 미세먼지 농도 36~75: 나쁨\n",
        "  + 미세먼지 농도 76~: 매우나쁨"
      ]
    },
    {
      "cell_type": "code",
      "metadata": {
        "id": "xlo8NoTeF0dV",
        "colab": {
          "base_uri": "https://localhost:8080/"
        },
        "outputId": "1a20c142-8afa-41bb-b752-8142fac753ce"
      },
      "source": [
        "pm = 40\n",
        "if pm<16 :\n",
        "  print(\"미세먼지 농도 : 좋음\")\n",
        "elif pm < 36 :\n",
        "  print(\"미세먼지 농도 : 보통\")\n",
        "elif pm <76 :\n",
        "  print(\"미세먼지 농도 : 나쁨\")\n",
        "else:\n",
        "  print(\"미세먼지 농도 : 매우 나쁨\")"
      ],
      "execution_count": null,
      "outputs": [
        {
          "output_type": "stream",
          "name": "stdout",
          "text": [
            "미세먼지 농도 : 나쁨\n"
          ]
        }
      ]
    },
    {
      "cell_type": "markdown",
      "metadata": {
        "id": "PdkLJlqioT_b"
      },
      "source": [
        "### 중첩 if 문\n",
        "\n",
        "  * if 문 안에 if문이 포함된 형태\n",
        "  * if -> if2, if3 --> 각각 true, false\n"
      ]
    },
    {
      "cell_type": "markdown",
      "metadata": {
        "id": "8JdYeATzowCy"
      },
      "source": [
        "* 중첩 if 문을 이용한 미세먼지 측정\n",
        "  + 미세먼지 농도 pm\n",
        "  + 미세먼지 농도 0~15: 좋음\n",
        "  + 미세먼지 농도 16~35: 보통\n",
        "  + 미세먼지 농도 36~75: 나쁨\n",
        "  + 미세먼지 농도 76~: 매우나쁨"
      ]
    },
    {
      "cell_type": "code",
      "metadata": {
        "id": "ZuYX5TCro3B9",
        "colab": {
          "base_uri": "https://localhost:8080/"
        },
        "outputId": "7a7616d7-c30a-4285-c28a-1f3561370442"
      },
      "source": [
        "pm=80\n",
        "if pm<36:\n",
        " if pm<16:\n",
        "  print(\"미세먼지 농도 : 좋음\")\n",
        " else:\n",
        "  print(\"미세먼지 농도 : 보통\")\n",
        "else:\n",
        "  if pm<76:\n",
        "   print(\"미세먼지 농도 : 나쁨\")\n",
        "  else:\n",
        "    print(\"미세먼지 농도 : 매우나쁨\")\n",
        "\n",
        "pm=50\n",
        "if pm<36:\n",
        " if pm<16:\n",
        "  print(\"미세먼지 농도 : 좋음\")\n",
        " else:\n",
        "  print(\"미세먼지 농도 : 보통\")\n",
        "else:\n",
        "  if pm<76:\n",
        "   print(\"미세먼지 농도 : 나쁨\")\n",
        "  else:\n",
        "    print(\"미세먼지 농도 : 매우나쁨\")\n"
      ],
      "execution_count": null,
      "outputs": [
        {
          "output_type": "stream",
          "name": "stdout",
          "text": [
            "미세먼지 농도 : 매우나쁨\n",
            "미세먼지 농도 : 나쁨\n"
          ]
        }
      ]
    },
    {
      "cell_type": "markdown",
      "metadata": {
        "id": "sB6Li0FmU9eM"
      },
      "source": [
        "### if-pass 문\n",
        "\n",
        "* 조건문은 있지만 실행할 문장이 없는 경우, 오류가 발생하지 않도록 무시하고 넘어가는 기능\n"
      ]
    },
    {
      "cell_type": "code",
      "metadata": {
        "id": "iIOjo8LEVPqy",
        "colab": {
          "base_uri": "https://localhost:8080/"
        },
        "outputId": "2cce25e5-7b9f-41ea-adc6-8ac9ec652be5"
      },
      "source": [
        "if 10>5:\n",
        "  print(10)\n",
        "else:\n",
        "  pass"
      ],
      "execution_count": null,
      "outputs": [
        {
          "output_type": "stream",
          "name": "stdout",
          "text": [
            "10\n"
          ]
        }
      ]
    },
    {
      "cell_type": "markdown",
      "metadata": {
        "id": "ERFC5XXnqTab"
      },
      "source": [
        "### if 조건 연산자\n",
        "\n",
        "* 비교연산자: <, >, ==, !=, >=, <=\n"
      ]
    },
    {
      "cell_type": "code",
      "metadata": {
        "id": "oON1NgdYvSVj",
        "colab": {
          "base_uri": "https://localhost:8080/"
        },
        "outputId": "cab465cd-686e-4c78-c0b8-da47502904f9"
      },
      "source": [
        "if 2>1:\n",
        "  print(2)\n",
        "\n",
        "if 3 ==3:\n",
        "  print(3)\n",
        "\n",
        "if 1!=2:\n",
        "  print(1)"
      ],
      "execution_count": null,
      "outputs": [
        {
          "output_type": "stream",
          "name": "stdout",
          "text": [
            "2\n",
            "3\n",
            "1\n"
          ]
        }
      ]
    },
    {
      "cell_type": "markdown",
      "metadata": {
        "id": "tsZNODf8vMdM"
      },
      "source": [
        "* 논리연산자: and, or, not"
      ]
    },
    {
      "cell_type": "code",
      "metadata": {
        "id": "xbhbbC_urU5t",
        "colab": {
          "base_uri": "https://localhost:8080/"
        },
        "outputId": "44efa52b-2d87-4624-cba1-878bd5bc2625"
      },
      "source": [
        "rain = True\n",
        "snow = True\n",
        "sun = False\n",
        "\n",
        "if rain and snow:\n",
        "  print(\"진눈깨비\")\n",
        "\n",
        "if not sun:\n",
        "  print(\"흐림\")\n",
        "else:\n",
        "  print(\"맑음\")"
      ],
      "execution_count": 2,
      "outputs": [
        {
          "output_type": "stream",
          "name": "stdout",
          "text": [
            "진눈깨비\n",
            "흐림\n"
          ]
        }
      ]
    },
    {
      "cell_type": "markdown",
      "metadata": {
        "id": "neifpa1BvNya"
      },
      "source": [
        "* 멤버연산자: in, not in\n"
      ]
    },
    {
      "cell_type": "code",
      "metadata": {
        "id": "WWu4uaX5rcTb",
        "colab": {
          "base_uri": "https://localhost:8080/"
        },
        "outputId": "1b2b278f-f829-4089-92cb-f8c6eb7871d3"
      },
      "source": [
        "list=['one','two','three']\n",
        "if 'one' in list:\n",
        "  print('one')\n",
        "\n",
        "if 'four' in list:\n",
        "  print('four')\n",
        "else:\n",
        "  print('no')"
      ],
      "execution_count": 3,
      "outputs": [
        {
          "output_type": "stream",
          "name": "stdout",
          "text": [
            "one\n",
            "no\n"
          ]
        }
      ]
    },
    {
      "cell_type": "markdown",
      "metadata": {
        "id": "0V1ky9ZMucnL"
      },
      "source": [
        "* 식별연산자: is, is not"
      ]
    },
    {
      "cell_type": "code",
      "metadata": {
        "id": "puETQb28t3ua",
        "colab": {
          "base_uri": "https://localhost:8080/"
        },
        "outputId": "346435d4-0cb8-44d0-8e9e-8b0e1586d0ab"
      },
      "source": [
        "if 'one' is 'one':\n",
        "  print('one')\n",
        "\n",
        "if 'one' is not 'two':\n",
        "  print('one is not two')"
      ],
      "execution_count": null,
      "outputs": [
        {
          "output_type": "stream",
          "name": "stdout",
          "text": [
            "one\n",
            "one is not two\n"
          ]
        },
        {
          "output_type": "stream",
          "name": "stderr",
          "text": [
            "<>:1: SyntaxWarning: \"is\" with a literal. Did you mean \"==\"?\n",
            "<>:4: SyntaxWarning: \"is not\" with a literal. Did you mean \"!=\"?\n",
            "<>:1: SyntaxWarning: \"is\" with a literal. Did you mean \"==\"?\n",
            "<>:4: SyntaxWarning: \"is not\" with a literal. Did you mean \"!=\"?\n",
            "<ipython-input-29-c75055d669ad>:1: SyntaxWarning: \"is\" with a literal. Did you mean \"==\"?\n",
            "  if 'one' is 'one':\n",
            "<ipython-input-29-c75055d669ad>:4: SyntaxWarning: \"is not\" with a literal. Did you mean \"!=\"?\n",
            "  if 'one' is not 'two':\n"
          ]
        }
      ]
    },
    {
      "cell_type": "markdown",
      "metadata": {
        "id": "9iV-FsBWzZ0k"
      },
      "source": [
        "### 조건부 표현식(Conditional Expression)\n",
        "\n",
        "* 한 라인으로 조건식을 사용한 표현(조건이 간단할 때)"
      ]
    },
    {
      "cell_type": "code",
      "metadata": {
        "id": "_oS5aQybzfxw",
        "colab": {
          "base_uri": "https://localhost:8080/"
        },
        "outputId": "ed4106c8-302a-452d-94e3-dc6fb504a9cd"
      },
      "source": [
        "##ex1)\n",
        "score=75\n",
        "msg=\"통과\" if score>=70 else \"탈락\"\n",
        "print(msg)"
      ],
      "execution_count": 7,
      "outputs": [
        {
          "output_type": "stream",
          "name": "stdout",
          "text": [
            "통과\n"
          ]
        }
      ]
    },
    {
      "cell_type": "code",
      "source": [
        "##ex2) ##위키독스 참고한 예제인데, 이 경우 왜 실행이 안되는지 궁금함.\n",
        "score=50\n",
        "message=\"success\" if score>=60 else \"failure\""
      ],
      "metadata": {
        "id": "naEvYStNr8vS",
        "outputId": "deece724-c58c-4025-af4d-c1377ee0f35c",
        "colab": {
          "base_uri": "https://localhost:8080/",
          "height": 106
        }
      },
      "execution_count": 13,
      "outputs": [
        {
          "output_type": "error",
          "ename": "SyntaxError",
          "evalue": "invalid syntax (<ipython-input-13-e331497fc5eb>, line 3)",
          "traceback": [
            "\u001b[0;36m  File \u001b[0;32m\"<ipython-input-13-e331497fc5eb>\"\u001b[0;36m, line \u001b[0;32m3\u001b[0m\n\u001b[0;31m    message=\"success\" if score>=60: else \"failure\":\u001b[0m\n\u001b[0m                                  ^\u001b[0m\n\u001b[0;31mSyntaxError\u001b[0m\u001b[0;31m:\u001b[0m invalid syntax\n"
          ]
        }
      ]
    },
    {
      "cell_type": "code",
      "source": [
        "##ex3) ##위키독스 참고한 예제인데, 이 경우 왜 실행이 안되는지 궁금함.\n",
        "score=50\n",
        "if score>=60:\n",
        "  message=\"success\"\n",
        "else:\n",
        "  message=\"failure\""
      ],
      "metadata": {
        "id": "LwmmwiMasYjx"
      },
      "execution_count": 16,
      "outputs": []
    },
    {
      "cell_type": "markdown",
      "metadata": {
        "id": "iaXO0nIe4IsM"
      },
      "source": [
        "### [Lab] 학생 종류\n",
        "\n",
        "* 8세 미만 \"학생 아님\"\n",
        "* 14세 미만 \"초등학생\"\n",
        "* 17세 미만 \"중학생\"\n",
        "* 20세 미만 \"고등학생\"\n",
        "* 26세 미만 \"대학생\"\n",
        "* 그 외에 \"학생 아님\""
      ]
    },
    {
      "cell_type": "code",
      "metadata": {
        "id": "tiSoSbvB4yZa",
        "colab": {
          "base_uri": "https://localhost:8080/"
        },
        "outputId": "4d56999e-83b3-43d9-8cee-18dba62c87de"
      },
      "source": [
        "age=28\n",
        "if age<8 :\n",
        "  print(\"학생 아님\")\n",
        "elif age<14:\n",
        "  print(\"초등학생\")\n",
        "elif age<17:\n",
        "  print(\"중학생\")\n",
        "elif age<20:\n",
        "  print(\"고등학생\")\n",
        "elif age<26:\n",
        "  print(\"대학생\")\n",
        "else:\n",
        "  print(\"학생아님\")"
      ],
      "execution_count": null,
      "outputs": [
        {
          "output_type": "stream",
          "name": "stdout",
          "text": [
            "학생아님\n"
          ]
        }
      ]
    },
    {
      "cell_type": "markdown",
      "metadata": {
        "id": "Xaqknnv_5weC"
      },
      "source": [
        "### [Lab] 학점 계산\n",
        "\n",
        "* 95점 이상 \"A+\"\n",
        "* 90점 이상 \"A\"\n",
        "* 85점 이상 \"B+\"\n",
        "* 80점 이상 \"B\"\n",
        "* 75점 이상 \"C+\"\n",
        "* 70점 이상 \"C\"\n",
        "* 65점 이상 \"D+\"\n",
        "* 60점 이상 \"D\"\n",
        "* 그 외 \"F\""
      ]
    },
    {
      "cell_type": "code",
      "metadata": {
        "id": "4fn4sB6a6BUL",
        "colab": {
          "base_uri": "https://localhost:8080/"
        },
        "outputId": "3594fe52-1cc3-4934-f0f2-582ceda6c6df"
      },
      "source": [
        "score=75\n",
        "if score>=95:\n",
        "  print(\"A+\")\n",
        "elif score>=90:\n",
        "  print(\"A\")\n",
        "elif score>=85:\n",
        "  print(\"B+\")\n",
        "elif score>=80:\n",
        "  print(\"B\")\n",
        "elif score>=75:\n",
        "  print(\"C+\")\n",
        "elif score>=70:\n",
        "  print(\"C\")\n",
        "elif score>=65:\n",
        "  print(\"D+\")\n",
        "elif score>=60:\n",
        "  print(\"D\")\n",
        "else:\n",
        "  print(\"F\")"
      ],
      "execution_count": null,
      "outputs": [
        {
          "output_type": "stream",
          "name": "stdout",
          "text": [
            "C+\n"
          ]
        }
      ]
    },
    {
      "cell_type": "markdown",
      "metadata": {
        "id": "0BWIlqrPCr__"
      },
      "source": [
        "\n",
        "\n",
        "---\n",
        "\n"
      ]
    },
    {
      "cell_type": "markdown",
      "metadata": {
        "id": "ZfKg8LniN113"
      },
      "source": [
        "## 2. 반복문(Repetitive Statement)\n",
        "* 문장을 반복적으로 수행\n",
        "* 정해진 동작을 반복하여 처리할 때 사용\n",
        "* 파이썬에서 제공하는 반복문: while, for"
      ]
    },
    {
      "cell_type": "markdown",
      "metadata": {
        "id": "tsxOiKAD7Lfw"
      },
      "source": [
        "### while 문\n",
        "\n",
        "* 어떤 조건이 만족하는 동안 문장을 수행하고 만족하지 않는 경우 수행 중단\n",
        "* while <조건>: <br>\n",
        "     <문장>"
      ]
    },
    {
      "cell_type": "markdown",
      "metadata": {
        "id": "q9SCeICMB32o"
      },
      "source": [
        "* while 문 예제: 1부터 10까지 반복"
      ]
    },
    {
      "cell_type": "code",
      "metadata": {
        "id": "zjBqbHUhPjUX",
        "colab": {
          "base_uri": "https://localhost:8080/"
        },
        "outputId": "5cb995cf-2420-4109-a2c8-e76ef47b6a84"
      },
      "source": [
        "i=1\n",
        "while i<=10:\n",
        "  print(i).  ##무한반복 되어버림;;\n",
        "  i += 1 ## \"+=\"의 기능 참고"
      ],
      "execution_count": null,
      "outputs": [
        {
          "output_type": "stream",
          "name": "stdout",
          "text": [
            "1\n",
            "2\n",
            "3\n",
            "4\n",
            "5\n",
            "6\n",
            "7\n",
            "8\n",
            "9\n",
            "10\n"
          ]
        }
      ]
    },
    {
      "cell_type": "markdown",
      "metadata": {
        "id": "GWKxC-EyB-ou"
      },
      "source": [
        "* while 문 예제: 1부터 10까지 더하기"
      ]
    },
    {
      "cell_type": "code",
      "metadata": {
        "id": "KamhbhLtBjyu",
        "colab": {
          "base_uri": "https://localhost:8080/"
        },
        "outputId": "0a19c75f-77c0-406d-cc19-06cbd3aa97f1"
      },
      "source": [
        "i=1\n",
        "sum=0  ##출력식 적고, while\n",
        "while i<=10:\n",
        "  sum += i\n",
        "  i += 1\n",
        "print(sum)"
      ],
      "execution_count": null,
      "outputs": [
        {
          "output_type": "stream",
          "name": "stdout",
          "text": [
            "55\n"
          ]
        }
      ]
    },
    {
      "cell_type": "markdown",
      "source": [
        "* 참고"
      ],
      "metadata": {
        "id": "joE6xNtKtAVe"
      }
    },
    {
      "cell_type": "code",
      "source": [
        "treeHit = 0\n",
        "while treeHit < 10:\n",
        "  treeHit = treeHit + 1\n",
        "  print(\"나무를 %d번 찍었습니다.\" %treeHit)\n",
        "  if treeHit == 10:\n",
        "    print(\"나무 넘어갑니다.\")"
      ],
      "metadata": {
        "id": "Ie9Pn_kDs_Gx",
        "outputId": "23c3e5af-b8d3-4a28-a225-1833ce70774d",
        "colab": {
          "base_uri": "https://localhost:8080/"
        }
      },
      "execution_count": 17,
      "outputs": [
        {
          "output_type": "stream",
          "name": "stdout",
          "text": [
            "나무를 1번 찍었습니다.\n",
            "나무를 2번 찍었습니다.\n",
            "나무를 3번 찍었습니다.\n",
            "나무를 4번 찍었습니다.\n",
            "나무를 5번 찍었습니다.\n",
            "나무를 6번 찍었습니다.\n",
            "나무를 7번 찍었습니다.\n",
            "나무를 8번 찍었습니다.\n",
            "나무를 9번 찍었습니다.\n",
            "나무를 10번 찍었습니다.\n",
            "나무 넘어갑니다.\n"
          ]
        }
      ]
    },
    {
      "cell_type": "markdown",
      "metadata": {
        "id": "fE4el4w8CVnn"
      },
      "source": [
        "### for 문\n",
        "* 반복 범위를 지정하여 반복 수정\n",
        "* while과 비슷하나, for문은 문장구조가 한눈에 들어옴\n",
        "* for 변수 in 리스트, 튜플, 문자열: <br>\n",
        "   <문장>"
      ]
    },
    {
      "cell_type": "markdown",
      "metadata": {
        "id": "Szg_RE0dDVUI"
      },
      "source": [
        "* 리스트 요소 반복"
      ]
    },
    {
      "cell_type": "code",
      "metadata": {
        "id": "q-6XmZ7pCKfu",
        "colab": {
          "base_uri": "https://localhost:8080/"
        },
        "outputId": "f58f5bb2-f4e4-4e1a-d9f2-df5cafcd436d"
      },
      "source": [
        "list=['one','two','three']\n",
        "for i in list:\n",
        "  print(i)"
      ],
      "execution_count": null,
      "outputs": [
        {
          "output_type": "stream",
          "name": "stdout",
          "text": [
            "one\n",
            "two\n",
            "three\n"
          ]
        }
      ]
    },
    {
      "cell_type": "markdown",
      "metadata": {
        "id": "Jxy-YCKaJy6U"
      },
      "source": [
        "* 튜플 요소 반복"
      ]
    },
    {
      "cell_type": "code",
      "metadata": {
        "id": "bPTK1Da9DifT",
        "colab": {
          "base_uri": "https://localhost:8080/"
        },
        "outputId": "415b4b66-3b03-43ae-a83f-43acf1b5b09f"
      },
      "source": [
        "tuple=['one','two','three']\n",
        "for i in tuple:\n",
        "  print(i)"
      ],
      "execution_count": null,
      "outputs": [
        {
          "output_type": "stream",
          "name": "stdout",
          "text": [
            "one\n",
            "two\n",
            "three\n"
          ]
        }
      ]
    },
    {
      "cell_type": "markdown",
      "metadata": {
        "id": "-a5BBmWHJ08e"
      },
      "source": [
        "* 문자열 요소 반복"
      ]
    },
    {
      "cell_type": "code",
      "metadata": {
        "id": "sg2jzObGDk5u",
        "colab": {
          "base_uri": "https://localhost:8080/"
        },
        "outputId": "bb382f30-aeeb-41fa-f857-54a6dc99e6eb"
      },
      "source": [
        "string = \"Minsu\"\n",
        "for i in string:\n",
        "  print(i)"
      ],
      "execution_count": null,
      "outputs": [
        {
          "output_type": "stream",
          "name": "stdout",
          "text": [
            "M\n",
            "i\n",
            "n\n",
            "s\n",
            "u\n"
          ]
        }
      ]
    },
    {
      "cell_type": "markdown",
      "metadata": {
        "id": "6bel7wU6EFp4"
      },
      "source": [
        "#### range()\n",
        "* 범위 반복에 사용\n",
        "* for 변수 in range(시작값, 마지막값, 증가값): <br>\n",
        "   <문장>\n",
        "* 시작값과 증가값은 생략 가능\n",
        "* 생략할 때 default value: 시작값은 0, 증가값은 1"
      ]
    },
    {
      "cell_type": "code",
      "metadata": {
        "id": "sIV6ouO3D1Pj",
        "colab": {
          "base_uri": "https://localhost:8080/"
        },
        "outputId": "afb6efd3-2a4a-4b67-da81-2d78ffc56201"
      },
      "source": [
        "##ex1\n",
        "sum=0\n",
        "for i in range(10):\n",
        "  sum += i\n",
        "\n",
        "print(sum)\n",
        "\n",
        "##ex2\n",
        "sum=0\n",
        "for i in range(11):\n",
        "  sum += i\n",
        "\n",
        "print(sum)\n",
        "\n",
        "##ex3\n",
        "sum=0\n",
        "for i in range(101): ##range 마지막값은 더해야 할 마지막값 +1\n",
        "  sum += i\n",
        "\n",
        "print(sum)\n"
      ],
      "execution_count": null,
      "outputs": [
        {
          "output_type": "stream",
          "name": "stdout",
          "text": [
            "45\n",
            "55\n",
            "5050\n"
          ]
        }
      ]
    },
    {
      "cell_type": "code",
      "metadata": {
        "id": "VtCQOfDpGG59",
        "colab": {
          "base_uri": "https://localhost:8080/"
        },
        "outputId": "21db82fe-9bb3-475c-abd5-75a3c1521041"
      },
      "source": [
        "for i in range(1,10,2):\n",
        "  print(i)"
      ],
      "execution_count": null,
      "outputs": [
        {
          "output_type": "stream",
          "name": "stdout",
          "text": [
            "1\n",
            "3\n",
            "5\n",
            "7\n",
            "9\n"
          ]
        }
      ]
    },
    {
      "cell_type": "markdown",
      "metadata": {
        "id": "1otcwtcWGU-Z"
      },
      "source": [
        "* 범위 반복 range를 이용한 구구단"
      ]
    },
    {
      "cell_type": "code",
      "metadata": {
        "id": "0AgNJV5LGJLf",
        "colab": {
          "base_uri": "https://localhost:8080/"
        },
        "outputId": "e3e9fd45-2068-4c2c-f078-b21697746c78"
      },
      "source": [
        "for i in range(2,10):\n",
        "  for j in range(1,10):\n",
        "    print('{0} x {1} = {2}'.format(i,j,i*j)) ##문자열 index 활용, return값은 format으로 지정"
      ],
      "execution_count": null,
      "outputs": [
        {
          "output_type": "stream",
          "name": "stdout",
          "text": [
            "2 x 1 = 2\n",
            "2 x 2 = 4\n",
            "2 x 3 = 6\n",
            "2 x 4 = 8\n",
            "2 x 5 = 10\n",
            "2 x 6 = 12\n",
            "2 x 7 = 14\n",
            "2 x 8 = 16\n",
            "2 x 9 = 18\n",
            "3 x 1 = 3\n",
            "3 x 2 = 6\n",
            "3 x 3 = 9\n",
            "3 x 4 = 12\n",
            "3 x 5 = 15\n",
            "3 x 6 = 18\n",
            "3 x 7 = 21\n",
            "3 x 8 = 24\n",
            "3 x 9 = 27\n",
            "4 x 1 = 4\n",
            "4 x 2 = 8\n",
            "4 x 3 = 12\n",
            "4 x 4 = 16\n",
            "4 x 5 = 20\n",
            "4 x 6 = 24\n",
            "4 x 7 = 28\n",
            "4 x 8 = 32\n",
            "4 x 9 = 36\n",
            "5 x 1 = 5\n",
            "5 x 2 = 10\n",
            "5 x 3 = 15\n",
            "5 x 4 = 20\n",
            "5 x 5 = 25\n",
            "5 x 6 = 30\n",
            "5 x 7 = 35\n",
            "5 x 8 = 40\n",
            "5 x 9 = 45\n",
            "6 x 1 = 6\n",
            "6 x 2 = 12\n",
            "6 x 3 = 18\n",
            "6 x 4 = 24\n",
            "6 x 5 = 30\n",
            "6 x 6 = 36\n",
            "6 x 7 = 42\n",
            "6 x 8 = 48\n",
            "6 x 9 = 54\n",
            "7 x 1 = 7\n",
            "7 x 2 = 14\n",
            "7 x 3 = 21\n",
            "7 x 4 = 28\n",
            "7 x 5 = 35\n",
            "7 x 6 = 42\n",
            "7 x 7 = 49\n",
            "7 x 8 = 56\n",
            "7 x 9 = 63\n",
            "8 x 1 = 8\n",
            "8 x 2 = 16\n",
            "8 x 3 = 24\n",
            "8 x 4 = 32\n",
            "8 x 5 = 40\n",
            "8 x 6 = 48\n",
            "8 x 7 = 56\n",
            "8 x 8 = 64\n",
            "8 x 9 = 72\n",
            "9 x 1 = 9\n",
            "9 x 2 = 18\n",
            "9 x 3 = 27\n",
            "9 x 4 = 36\n",
            "9 x 5 = 45\n",
            "9 x 6 = 54\n",
            "9 x 7 = 63\n",
            "9 x 8 = 72\n",
            "9 x 9 = 81\n"
          ]
        }
      ]
    },
    {
      "cell_type": "markdown",
      "metadata": {
        "id": "y9DVAjy0r5Ty"
      },
      "source": [
        "#### _ 기능\n",
        "* for문을 사용하면서 iterator 역할을 위해서 i 변수가 필요\n",
        "* for문 이후에는 iterator 변수 i가 필요하지 않음\n",
        "* 이후에 사용되지 않을 변수에 어떤 이름을 부여하고 싶지 않을 때 _사용"
      ]
    },
    {
      "cell_type": "code",
      "metadata": {
        "id": "qv8HZNCTsDFf",
        "colab": {
          "base_uri": "https://localhost:8080/"
        },
        "outputId": "ef255d6d-f458-4f57-9c3a-1f1e603cd591"
      },
      "source": [
        "for _ in range(5):\n",
        "  print(\"minsu\")"
      ],
      "execution_count": null,
      "outputs": [
        {
          "output_type": "stream",
          "name": "stdout",
          "text": [
            "minsu\n",
            "minsu\n",
            "minsu\n",
            "minsu\n",
            "minsu\n"
          ]
        }
      ]
    },
    {
      "cell_type": "code",
      "metadata": {
        "id": "pf8fIpSBsHZL",
        "colab": {
          "base_uri": "https://localhost:8080/"
        },
        "outputId": "3a03af19-917b-4e35-964b-8ad999704eb8"
      },
      "source": [
        "for i in range(5):\n",
        "  print(\"minsu\")"
      ],
      "execution_count": null,
      "outputs": [
        {
          "output_type": "stream",
          "name": "stdout",
          "text": [
            "minsu\n",
            "minsu\n",
            "minsu\n",
            "minsu\n",
            "minsu\n"
          ]
        }
      ]
    },
    {
      "cell_type": "markdown",
      "source": [
        "* 참고"
      ],
      "metadata": {
        "id": "xESA2NIyvf68"
      }
    },
    {
      "cell_type": "code",
      "source": [
        "## 총 5명의 학생이 시험을 보았는데, 시험 점수가 60점 이상이면 합격, 그렇지 않으면 불합격이다. 합격/불합격 결과를 보여주시오.\n",
        "\n",
        "marks=[90,25,67,45,80] ##시험점수 리스트\n",
        "number=0  ##학생 번호\n",
        "for mark in marks:\n",
        "  number+=1\n",
        "  if mark >=60 :\n",
        "    print(\"%d번 학생은 합격입니다.\" % number)\n",
        "  else:\n",
        "    print(\"%d학생은 불합격입니다.\" % number)"
      ],
      "metadata": {
        "id": "ZT8Z5H9ovgMR",
        "outputId": "a5e36d95-0dbd-4712-dfae-d7d5c90f3a40",
        "colab": {
          "base_uri": "https://localhost:8080/"
        }
      },
      "execution_count": 20,
      "outputs": [
        {
          "output_type": "stream",
          "name": "stdout",
          "text": [
            "1번 학생은 합격입니다.\n",
            "2학생은 불합격입니다.\n",
            "3번 학생은 합격입니다.\n",
            "4학생은 불합격입니다.\n",
            "5번 학생은 합격입니다.\n"
          ]
        }
      ]
    },
    {
      "cell_type": "markdown",
      "metadata": {
        "id": "-t7UubcSKJHY"
      },
      "source": [
        "### else 문\n",
        "\n",
        "* 반복이 종료된 후에 한번 더 실행되는 문장"
      ]
    },
    {
      "cell_type": "code",
      "metadata": {
        "id": "clXMvxeyMFj_",
        "colab": {
          "base_uri": "https://localhost:8080/"
        },
        "outputId": "47b171f8-8019-45bc-eaf3-bacdea93bbe5"
      },
      "source": [
        "i = 1\n",
        "sum=0\n",
        "while i<=10:\n",
        "  sum+=i\n",
        "  i+=1\n",
        "else:        ##그냥 이쁘게 정리하려고 쓰는 듯\n",
        " print(sum)"
      ],
      "execution_count": null,
      "outputs": [
        {
          "output_type": "stream",
          "name": "stdout",
          "text": [
            "55\n"
          ]
        }
      ]
    },
    {
      "cell_type": "code",
      "metadata": {
        "id": "4B6-nPWEGjvG",
        "colab": {
          "base_uri": "https://localhost:8080/"
        },
        "outputId": "537402d9-f20e-48ab-df12-51ed0f7a5028"
      },
      "source": [
        "sum=0\n",
        "for i in range(11):\n",
        "  sum+=i\n",
        "else:\n",
        "  print(sum)"
      ],
      "execution_count": null,
      "outputs": [
        {
          "output_type": "stream",
          "name": "stdout",
          "text": [
            "55\n"
          ]
        }
      ]
    },
    {
      "cell_type": "markdown",
      "metadata": {
        "id": "BlF9QvR5LTar"
      },
      "source": [
        "### break 문\n",
        "\n",
        "* 반복문 종료"
      ]
    },
    {
      "cell_type": "code",
      "metadata": {
        "id": "u0HvxKWvKSou",
        "colab": {
          "base_uri": "https://localhost:8080/"
        },
        "outputId": "89a20744-7905-4bad-8659-5de6db36d8a4"
      },
      "source": [
        "i=0\n",
        "while i<100:\n",
        "  print(i)\n",
        "  if i ==10:  ##break 지점\n",
        "    break\n",
        "  i += 1\n"
      ],
      "execution_count": null,
      "outputs": [
        {
          "output_type": "stream",
          "name": "stdout",
          "text": [
            "0\n",
            "1\n",
            "2\n",
            "3\n",
            "4\n",
            "5\n",
            "6\n",
            "7\n",
            "8\n",
            "9\n",
            "10\n"
          ]
        }
      ]
    },
    {
      "cell_type": "code",
      "metadata": {
        "id": "TJyNX_deMUvq",
        "colab": {
          "base_uri": "https://localhost:8080/"
        },
        "outputId": "bc04d897-01cf-45f4-d8a0-7085e9375039"
      },
      "source": [
        "for i in range(100):\n",
        "  print(i)\n",
        "  if i == 10:\n",
        "    break"
      ],
      "execution_count": null,
      "outputs": [
        {
          "output_type": "stream",
          "name": "stdout",
          "text": [
            "0\n",
            "1\n",
            "2\n",
            "3\n",
            "4\n",
            "5\n",
            "6\n",
            "7\n",
            "8\n",
            "9\n",
            "10\n"
          ]
        }
      ]
    },
    {
      "cell_type": "markdown",
      "metadata": {
        "id": "m7jZ8oc8Mezu"
      },
      "source": [
        "### continue 문\n",
        "\n",
        "* 반복 조건문으로 이동\n",
        "* while문을 빠져나가지 않고, while문의 맨 처음(조건문)으로 다시 돌아가게 만들고 싶은 경우 사용"
      ]
    },
    {
      "cell_type": "code",
      "metadata": {
        "id": "MpTJ5WtPMbYm",
        "colab": {
          "base_uri": "https://localhost:8080/"
        },
        "outputId": "4bd57c8c-9fa8-4b70-9b7a-bcfc76a5acd6"
      },
      "source": [
        "i = 0\n",
        "while i <10 :\n",
        "  i+=1\n",
        "  if i%2==0:  ##i를 2로 나눈 나머지가 0일때는 continue\n",
        "    continue  ##조건문으로 다시 이동\n",
        "  print(i)"
      ],
      "execution_count": null,
      "outputs": [
        {
          "output_type": "stream",
          "name": "stdout",
          "text": [
            "1\n",
            "3\n",
            "5\n",
            "7\n",
            "9\n"
          ]
        }
      ]
    },
    {
      "cell_type": "code",
      "metadata": {
        "id": "2oWKM2NDMqJ4",
        "colab": {
          "base_uri": "https://localhost:8080/"
        },
        "outputId": "ff54ae5a-0802-4368-8132-e7e0e664a566"
      },
      "source": [
        "for i in range(10):\n",
        "  if i%2==0:\n",
        "    continue\n",
        "  print(i)"
      ],
      "execution_count": null,
      "outputs": [
        {
          "output_type": "stream",
          "name": "stdout",
          "text": [
            "1\n",
            "3\n",
            "5\n",
            "7\n",
            "9\n"
          ]
        }
      ]
    },
    {
      "cell_type": "markdown",
      "metadata": {
        "id": "qQoq1VqQMxdR"
      },
      "source": [
        "### 리스트 내포(List Comprehension)\n",
        "\n",
        "* 리스트 안에 for 문과 if 문 사용"
      ]
    },
    {
      "cell_type": "code",
      "metadata": {
        "id": "dYS40UmTMuHf",
        "colab": {
          "base_uri": "https://localhost:8080/"
        },
        "outputId": "0c85367b-06d1-4467-d3d4-1b45a1717dca"
      },
      "source": [
        "list=[1,2,3,4,5]\n",
        "print([i for i in list])\n",
        "print([i*2 for i in list])\n",
        "print([i*2 for i in range(10)]) ##range 는 0부터 시작\n",
        "print([i*2 for i in range(10) if i%2==0])"
      ],
      "execution_count": null,
      "outputs": [
        {
          "output_type": "stream",
          "name": "stdout",
          "text": [
            "[1, 2, 3, 4, 5]\n",
            "[2, 4, 6, 8, 10]\n",
            "[0, 2, 4, 6, 8, 10, 12, 14, 16, 18]\n",
            "[0, 4, 8, 12, 16]\n"
          ]
        }
      ]
    },
    {
      "cell_type": "markdown",
      "metadata": {
        "id": "BNJU3Dz8NEtW"
      },
      "source": [
        "### [Lab] 문자열 반전\n",
        "\n",
        "* 문자열을 역순으로 만들기"
      ]
    },
    {
      "cell_type": "code",
      "metadata": {
        "id": "vtOOAlwBM7Ls",
        "colab": {
          "base_uri": "https://localhost:8080/",
          "height": 224
        },
        "outputId": "d642163d-69c4-492b-835e-25d5f146ecbe"
      },
      "source": [
        "string=\"Minsu\"\n",
        "reverse=\"\"\n",
        "for c in string:\n",
        "  reverse= c + reverse\n",
        "print(string)\n",
        "print(reverse)\n",
        "\n",
        "##참고\n",
        "string=\"minsu\"\n",
        "string.reverse()\n",
        "print(string)  ## <--문자열 reverse 기능이 원래 없음"
      ],
      "execution_count": null,
      "outputs": [
        {
          "output_type": "stream",
          "name": "stdout",
          "text": [
            "Minsu\n",
            "usniM\n"
          ]
        },
        {
          "output_type": "error",
          "ename": "AttributeError",
          "evalue": "'str' object has no attribute 'reverse'",
          "traceback": [
            "\u001b[0;31m---------------------------------------------------------------------------\u001b[0m",
            "\u001b[0;31mAttributeError\u001b[0m                            Traceback (most recent call last)",
            "\u001b[0;32m<ipython-input-42-67c31e4d9730>\u001b[0m in \u001b[0;36m<cell line: 9>\u001b[0;34m()\u001b[0m\n\u001b[1;32m      7\u001b[0m \u001b[0;34m\u001b[0m\u001b[0m\n\u001b[1;32m      8\u001b[0m \u001b[0mstring\u001b[0m\u001b[0;34m=\u001b[0m\u001b[0;34m\"minsu\"\u001b[0m\u001b[0;34m\u001b[0m\u001b[0;34m\u001b[0m\u001b[0m\n\u001b[0;32m----> 9\u001b[0;31m \u001b[0mstring\u001b[0m\u001b[0;34m.\u001b[0m\u001b[0mreverse\u001b[0m\u001b[0;34m(\u001b[0m\u001b[0;34m)\u001b[0m\u001b[0;34m\u001b[0m\u001b[0;34m\u001b[0m\u001b[0m\n\u001b[0m\u001b[1;32m     10\u001b[0m \u001b[0mprint\u001b[0m\u001b[0;34m(\u001b[0m\u001b[0mstring\u001b[0m\u001b[0;34m)\u001b[0m  \u001b[0;31m## <--문자열 reverse 기능이 원래 없음\u001b[0m\u001b[0;34m\u001b[0m\u001b[0;34m\u001b[0m\u001b[0m\n",
            "\u001b[0;31mAttributeError\u001b[0m: 'str' object has no attribute 'reverse'"
          ]
        }
      ]
    },
    {
      "cell_type": "markdown",
      "metadata": {
        "id": "e-5QZsGNXsrz"
      },
      "source": [
        "\n",
        "\n",
        "---\n",
        "\n"
      ]
    },
    {
      "cell_type": "markdown",
      "metadata": {
        "id": "9ygGlaKjKZRs"
      },
      "source": [
        "## 3. 에러와 예외(Errors and Exceptions)\n",
        "\n",
        "* 프로그램에서는 에러가 발생\n",
        "* 에러에 대한 예외 처리가 필요\n",
        "\n",
        "|에러|설명|\n",
        "|------|---|\n",
        "|AssertionError|assert문이 실패할 때 발생|\n",
        "|AttributeError|속성에 참조가 대입이 실패할 때 발생|\n",
        "|EOFError|EOF(End of File) 조건을 만날 때 발생|\n",
        "|ImportError|import문이 모듈 로드에 문제가 있을 때 발생|\n",
        "|ModuleNotFoundError|import할 모듈을 찾을 수 없을 때 발생|\n",
        "|IndexError|시퀀스 인덱스가 범위를 벗어날 때 발생|\n",
        "|KeyError|딕셔너리 키가 키 집합에서 발견되지 않을 때 발생|\n",
        "|KeyboardInterupt|사용자가 인터럽트 키(ctrl+c or delete)를 누를 때 발생|\n",
        "|MemoryError|작업에 메모리가 부족하지만, 일부 객체를 삭제해서 복구될 수 있는 경우 발생|\n",
        "|NameError|지역 또는 전역 이름을 찾을 수 없을 때 발생|\n",
        "|NotImplementedError|RuntimeError에서 내용이 없는 메소드 호출 시 발생|\n",
        "|OSError|운영체제에서 에러가 있을 경우 발생\n",
        "|OverflowError|산술 연산의 결과가 너무 커서 표현할 수 없을 때 발생|\n",
        "|RuntimeError|다른 범주에 속하지 않는 에러가 감지될 때 발생|\n",
        "|SyntaxError|문법 오류가 발견될 때 발생|\n",
        "|IndentationError|잘못된 들여쓰기와 관련된 문법 오류가 있을 때 발생|\n",
        "|TabError|들여쓰기가 일관성 없이 탭과 스페이스를 사용하는 경우 발생|\n",
        "|SystemError|인터프리터 내부에서 에러가 발견될 때 발생|\n",
        "|SystemExit|sys.exit() 함수가 호출될 때 발생|\n",
        "|TypeError|연산이나 함수가 부적절한 형의 객체에 적용될 때 발생|\n",
        "|UnboundLocalError|함수나 메소드에서 지역 변수를 참조하지만, 해당 변수에 값이 연결되지 않으면 발생|\n",
        "|UnicodeError|유니코드 관련 인코딩/디코딩 에러가 일어날 때 발생|\n",
        "|ValueError|연산이나 함수가 올바른 자료형이지만 부적절한 겂을 가진 인자를 받았을 때 발생|\n",
        "|ZeroDivisionError|0으로 다른 숫자를 나누는 경우에 발생|\n",
        "|FileExistsError|이미 존재하는 파일이나 디렉토리를 만들려고 할 때 발생|\n",
        "|InteruptedError|파일이나 디렉토리가 요청되었지만 존재하지 않을 때 발생|\n",
        "|IsADirectoryError|디렉토리에 파일 연산이 요청되었을 때 발생|\n",
        "|NotADirectoryError|디렉토리가 아닌 것에 디렉토리 연산이 요청되었을 때 발생|\n",
        "|PermissionError|적절한 접근권 없이 연산을 실행하려고 할 때 발생|\n",
        "|ProcessLockupError|주어진 프로세스가 존재하지 않을 때 발생|\n",
        "|TimeoutError|시스템 함수가 시스템 수준에서 시간이 초과될 때 발생|\n",
        "|Warning|오류는 아니고 주의가 필요한 경고 시 발생|\n"
      ]
    },
    {
      "cell_type": "markdown",
      "metadata": {
        "id": "Sem87gmsXux8"
      },
      "source": [
        "### 에러 예제\n",
        "\n",
        "* ZeroDivisionError"
      ]
    },
    {
      "cell_type": "code",
      "metadata": {
        "id": "nea-tg6gNSQB",
        "colab": {
          "base_uri": "https://localhost:8080/",
          "height": 139
        },
        "outputId": "c294b1bb-be0b-42f4-8810-4989e474d383"
      },
      "source": [
        "10/0"
      ],
      "execution_count": null,
      "outputs": [
        {
          "output_type": "error",
          "ename": "ZeroDivisionError",
          "evalue": "division by zero",
          "traceback": [
            "\u001b[0;31m---------------------------------------------------------------------------\u001b[0m",
            "\u001b[0;31mZeroDivisionError\u001b[0m                         Traceback (most recent call last)",
            "\u001b[0;32m<ipython-input-43-e574edb36883>\u001b[0m in \u001b[0;36m<cell line: 1>\u001b[0;34m()\u001b[0m\n\u001b[0;32m----> 1\u001b[0;31m \u001b[0;36m10\u001b[0m\u001b[0;34m/\u001b[0m\u001b[0;36m0\u001b[0m\u001b[0;34m\u001b[0m\u001b[0;34m\u001b[0m\u001b[0m\n\u001b[0m",
            "\u001b[0;31mZeroDivisionError\u001b[0m: division by zero"
          ]
        }
      ]
    },
    {
      "cell_type": "markdown",
      "metadata": {
        "id": "5Ape-cL37GWg"
      },
      "source": [
        "* NameError"
      ]
    },
    {
      "cell_type": "code",
      "metadata": {
        "id": "rX3x3eE_6zcJ",
        "colab": {
          "base_uri": "https://localhost:8080/",
          "height": 139
        },
        "outputId": "46a37386-e420-4f5a-c0d8-572d3608ba8f"
      },
      "source": [
        "noname+3 ##name 정의안했을 때"
      ],
      "execution_count": null,
      "outputs": [
        {
          "output_type": "error",
          "ename": "NameError",
          "evalue": "name 'noname' is not defined",
          "traceback": [
            "\u001b[0;31m---------------------------------------------------------------------------\u001b[0m",
            "\u001b[0;31mNameError\u001b[0m                                 Traceback (most recent call last)",
            "\u001b[0;32m<ipython-input-44-4d205ddbcc4e>\u001b[0m in \u001b[0;36m<cell line: 1>\u001b[0;34m()\u001b[0m\n\u001b[0;32m----> 1\u001b[0;31m \u001b[0mnoname\u001b[0m\u001b[0;34m+\u001b[0m\u001b[0;36m3\u001b[0m\u001b[0;34m\u001b[0m\u001b[0;34m\u001b[0m\u001b[0m\n\u001b[0m",
            "\u001b[0;31mNameError\u001b[0m: name 'noname' is not defined"
          ]
        }
      ]
    },
    {
      "cell_type": "markdown",
      "metadata": {
        "id": "Ij6ieZ6v7JXo"
      },
      "source": [
        "* TypeError"
      ]
    },
    {
      "cell_type": "code",
      "metadata": {
        "id": "EwuWO4tP68OT",
        "colab": {
          "base_uri": "https://localhost:8080/",
          "height": 139
        },
        "outputId": "4fc667b7-38dd-4668-ce06-6e7fdf8095ae"
      },
      "source": [
        "'1'+1 ##타입간의 충돌"
      ],
      "execution_count": null,
      "outputs": [
        {
          "output_type": "error",
          "ename": "TypeError",
          "evalue": "can only concatenate str (not \"int\") to str",
          "traceback": [
            "\u001b[0;31m---------------------------------------------------------------------------\u001b[0m",
            "\u001b[0;31mTypeError\u001b[0m                                 Traceback (most recent call last)",
            "\u001b[0;32m<ipython-input-45-d9f6420d3d87>\u001b[0m in \u001b[0;36m<cell line: 1>\u001b[0;34m()\u001b[0m\n\u001b[0;32m----> 1\u001b[0;31m \u001b[0;34m'1'\u001b[0m\u001b[0;34m+\u001b[0m\u001b[0;36m1\u001b[0m\u001b[0;34m\u001b[0m\u001b[0;34m\u001b[0m\u001b[0m\n\u001b[0m",
            "\u001b[0;31mTypeError\u001b[0m: can only concatenate str (not \"int\") to str"
          ]
        }
      ]
    },
    {
      "cell_type": "markdown",
      "metadata": {
        "id": "TSahjFWRNFSY"
      },
      "source": [
        "* ValueError"
      ]
    },
    {
      "cell_type": "code",
      "metadata": {
        "id": "QkZGJiqcNElu",
        "colab": {
          "base_uri": "https://localhost:8080/",
          "height": 156
        },
        "outputId": "102f48e9-0d0e-4e88-a545-57f123676522"
      },
      "source": [
        "int(\"10\")\n",
        "int(\"string\")\n"
      ],
      "execution_count": null,
      "outputs": [
        {
          "output_type": "error",
          "ename": "ValueError",
          "evalue": "invalid literal for int() with base 10: 'string'",
          "traceback": [
            "\u001b[0;31m---------------------------------------------------------------------------\u001b[0m",
            "\u001b[0;31mValueError\u001b[0m                                Traceback (most recent call last)",
            "\u001b[0;32m<ipython-input-50-49ba2d22ec27>\u001b[0m in \u001b[0;36m<cell line: 2>\u001b[0;34m()\u001b[0m\n\u001b[1;32m      1\u001b[0m \u001b[0mint\u001b[0m\u001b[0;34m(\u001b[0m\u001b[0;34m\"10\"\u001b[0m\u001b[0;34m)\u001b[0m\u001b[0;34m\u001b[0m\u001b[0;34m\u001b[0m\u001b[0m\n\u001b[0;32m----> 2\u001b[0;31m \u001b[0mint\u001b[0m\u001b[0;34m(\u001b[0m\u001b[0;34m\"string\"\u001b[0m\u001b[0;34m)\u001b[0m\u001b[0;34m\u001b[0m\u001b[0;34m\u001b[0m\u001b[0m\n\u001b[0m",
            "\u001b[0;31mValueError\u001b[0m: invalid literal for int() with base 10: 'string'"
          ]
        }
      ]
    },
    {
      "cell_type": "markdown",
      "metadata": {
        "id": "6gu37rq_AciU"
      },
      "source": [
        "### 예외 처리(Exception Handling)"
      ]
    },
    {
      "cell_type": "markdown",
      "metadata": {
        "id": "FYZUyQqgK5Z_"
      },
      "source": [
        "#### try, except 문\n",
        "\n",
        "* try 문을 통해 예외 발생 가능한 코드에 정의\n",
        "* except 문을 이용해 예외 처리 방법을 정의"
      ]
    },
    {
      "cell_type": "code",
      "metadata": {
        "id": "wfONldWmjWjI",
        "colab": {
          "base_uri": "https://localhost:8080/"
        },
        "outputId": "c9878c53-ed40-4e54-bbd6-dbe73e576f60"
      },
      "source": [
        "try:\n",
        "  print(2/0)\n",
        "except:\n",
        "  print(\"Error\")\n",
        "\n",
        "try:\n",
        "  print(2/1)\n",
        "except:\n",
        "  print(\"Error\")"
      ],
      "execution_count": null,
      "outputs": [
        {
          "output_type": "stream",
          "name": "stdout",
          "text": [
            "Error\n",
            "2.0\n"
          ]
        }
      ]
    },
    {
      "cell_type": "markdown",
      "metadata": {
        "id": "wCZtKuol63ET"
      },
      "source": [
        "#### 에러 분류에 따른 except 문\n",
        "\n",
        "* `ZeroDivisionError`에 대한 except 처리"
      ]
    },
    {
      "cell_type": "code",
      "metadata": {
        "id": "iI9q62ukjhLI",
        "colab": {
          "base_uri": "https://localhost:8080/"
        },
        "outputId": "f2a3f778-0ff9-443d-85f3-84ec98a5f638"
      },
      "source": [
        "try:\n",
        "  print(2/0)\n",
        "except ZeroDivisionError:\n",
        "  print(\"이 작업은 수행할 수 없습니다\")"
      ],
      "execution_count": null,
      "outputs": [
        {
          "output_type": "stream",
          "name": "stdout",
          "text": [
            "이 작업은 수행할 수 없습니다\n"
          ]
        }
      ]
    },
    {
      "cell_type": "markdown",
      "metadata": {
        "id": "5xb7qltz7EkZ"
      },
      "source": [
        "#### 에러 메시지가 포함된 except 문\n",
        "\n",
        "* `ZeroDivisionError`에 포함된 에러 메시지 `e`를 출력"
      ]
    },
    {
      "cell_type": "code",
      "metadata": {
        "id": "Hd8posBzjmQa",
        "colab": {
          "base_uri": "https://localhost:8080/"
        },
        "outputId": "c075ea4e-1d21-41c6-92fc-ca5d67c92e5f"
      },
      "source": [
        "try:\n",
        "  print(2/0)\n",
        "except ZeroDivisionError as e:\n",
        "  print(e)"
      ],
      "execution_count": null,
      "outputs": [
        {
          "output_type": "stream",
          "name": "stdout",
          "text": [
            "division by zero\n"
          ]
        }
      ]
    },
    {
      "cell_type": "markdown",
      "metadata": {
        "id": "JAasRBB0-BLK"
      },
      "source": [
        "#### 여러 에러 분류가 포함된 except 문"
      ]
    },
    {
      "cell_type": "code",
      "metadata": {
        "id": "IHqjg-lf6-SG",
        "colab": {
          "base_uri": "https://localhost:8080/"
        },
        "outputId": "d31f5956-0ed2-4584-cb62-343a3e1ef453"
      },
      "source": [
        "try:\n",
        "  n=int(input(\"입력:\"))\n",
        "  result = 1/n\n",
        "except ZeroDivisionError as e:\n",
        "  print(e)\n",
        "except ValueError as e:\n",
        "  print(e)\n",
        "else:\n",
        "  print(\"결과\"+str(result))"
      ],
      "execution_count": null,
      "outputs": [
        {
          "output_type": "stream",
          "name": "stdout",
          "text": [
            "입력:1\n",
            "결과1.0\n"
          ]
        }
      ]
    },
    {
      "cell_type": "markdown",
      "metadata": {
        "id": "1yvDiPGN9ko0"
      },
      "source": [
        "### 에러 발생"
      ]
    },
    {
      "cell_type": "markdown",
      "metadata": {
        "id": "UZVye8Ot9r3u"
      },
      "source": [
        "#### raise 문\n",
        "\n",
        "* 직접적으로 에러를 발생시킬 수 있음\n",
        "* 에러의 종류와 에러 상황을 정의하고 발생"
      ]
    },
    {
      "cell_type": "code",
      "metadata": {
        "id": "YhXCjSq-D0oX",
        "colab": {
          "base_uri": "https://localhost:8080/",
          "height": 139
        },
        "outputId": "831ccc5a-58e7-4e97-abf3-55c5b2990eac"
      },
      "source": [
        "raise ZeroDivisionError(\"숫자를 0으로 나눔\")"
      ],
      "execution_count": null,
      "outputs": [
        {
          "output_type": "error",
          "ename": "ZeroDivisionError",
          "evalue": "숫자를 0으로 나눔",
          "traceback": [
            "\u001b[0;31m---------------------------------------------------------------------------\u001b[0m",
            "\u001b[0;31mZeroDivisionError\u001b[0m                         Traceback (most recent call last)",
            "\u001b[0;32m<ipython-input-59-fb78988de7bc>\u001b[0m in \u001b[0;36m<cell line: 1>\u001b[0;34m()\u001b[0m\n\u001b[0;32m----> 1\u001b[0;31m \u001b[0;32mraise\u001b[0m \u001b[0mZeroDivisionError\u001b[0m\u001b[0;34m(\u001b[0m\u001b[0;34m\"숫자를 0으로 나눔\"\u001b[0m\u001b[0;34m)\u001b[0m\u001b[0;34m\u001b[0m\u001b[0;34m\u001b[0m\u001b[0m\n\u001b[0m",
            "\u001b[0;31mZeroDivisionError\u001b[0m: 숫자를 0으로 나눔"
          ]
        }
      ]
    },
    {
      "cell_type": "code",
      "metadata": {
        "id": "seVpG5qoEDUL",
        "colab": {
          "base_uri": "https://localhost:8080/",
          "height": 139
        },
        "outputId": "432d6047-69e1-47c1-fa08-b2ffecc7de8b"
      },
      "source": [
        "raise NameError(\"지역 또는 전역 이름을 찾을 수 없음\")"
      ],
      "execution_count": null,
      "outputs": [
        {
          "output_type": "error",
          "ename": "NameError",
          "evalue": "지역 또는 전역 이름을 찾을 수 없음",
          "traceback": [
            "\u001b[0;31m---------------------------------------------------------------------------\u001b[0m",
            "\u001b[0;31mNameError\u001b[0m                                 Traceback (most recent call last)",
            "\u001b[0;32m<ipython-input-60-e10ce1eb02bb>\u001b[0m in \u001b[0;36m<cell line: 1>\u001b[0;34m()\u001b[0m\n\u001b[0;32m----> 1\u001b[0;31m \u001b[0;32mraise\u001b[0m \u001b[0mNameError\u001b[0m\u001b[0;34m(\u001b[0m\u001b[0;34m\"지역 또는 전역 이름을 찾을 수 없음\"\u001b[0m\u001b[0;34m)\u001b[0m\u001b[0;34m\u001b[0m\u001b[0;34m\u001b[0m\u001b[0m\n\u001b[0m",
            "\u001b[0;31mNameError\u001b[0m: 지역 또는 전역 이름을 찾을 수 없음"
          ]
        }
      ]
    },
    {
      "cell_type": "code",
      "metadata": {
        "id": "Sg6jO8soEFRQ",
        "colab": {
          "base_uri": "https://localhost:8080/",
          "height": 139
        },
        "outputId": "84498455-33e5-4adb-fd60-77ab04d01d7e"
      },
      "source": [
        "raise TypeError(\"연산이나 함수가 부적절한 형의 객체에 적용\")"
      ],
      "execution_count": null,
      "outputs": [
        {
          "output_type": "error",
          "ename": "TypeError",
          "evalue": "연산이나 함수가 부적절한 형의 객체에 적용",
          "traceback": [
            "\u001b[0;31m---------------------------------------------------------------------------\u001b[0m",
            "\u001b[0;31mTypeError\u001b[0m                                 Traceback (most recent call last)",
            "\u001b[0;32m<ipython-input-61-90a278017362>\u001b[0m in \u001b[0;36m<cell line: 1>\u001b[0;34m()\u001b[0m\n\u001b[0;32m----> 1\u001b[0;31m \u001b[0;32mraise\u001b[0m \u001b[0mTypeError\u001b[0m\u001b[0;34m(\u001b[0m\u001b[0;34m\"연산이나 함수가 부적절한 형의 객체에 적용\"\u001b[0m\u001b[0;34m)\u001b[0m\u001b[0;34m\u001b[0m\u001b[0;34m\u001b[0m\u001b[0m\n\u001b[0m",
            "\u001b[0;31mTypeError\u001b[0m: 연산이나 함수가 부적절한 형의 객체에 적용"
          ]
        }
      ]
    },
    {
      "cell_type": "code",
      "metadata": {
        "id": "44cMcYh6EGmQ",
        "colab": {
          "base_uri": "https://localhost:8080/",
          "height": 139
        },
        "outputId": "8fad2026-6115-4038-e7be-53d0f89a2515"
      },
      "source": [
        "raise ValueError(\"연산이나 함수가 부적절한 값을 인자로 받음\")"
      ],
      "execution_count": null,
      "outputs": [
        {
          "output_type": "error",
          "ename": "ValueError",
          "evalue": "연산이나 함수가 부적절한 값을 인자로 받음",
          "traceback": [
            "\u001b[0;31m---------------------------------------------------------------------------\u001b[0m",
            "\u001b[0;31mValueError\u001b[0m                                Traceback (most recent call last)",
            "\u001b[0;32m<ipython-input-62-afc754670e9e>\u001b[0m in \u001b[0;36m<cell line: 1>\u001b[0;34m()\u001b[0m\n\u001b[0;32m----> 1\u001b[0;31m \u001b[0;32mraise\u001b[0m \u001b[0mValueError\u001b[0m\u001b[0;34m(\u001b[0m\u001b[0;34m\"연산이나 함수가 부적절한 값을 인자로 받음\"\u001b[0m\u001b[0;34m)\u001b[0m\u001b[0;34m\u001b[0m\u001b[0;34m\u001b[0m\u001b[0m\n\u001b[0m",
            "\u001b[0;31mValueError\u001b[0m: 연산이나 함수가 부적절한 값을 인자로 받음"
          ]
        }
      ]
    },
    {
      "cell_type": "markdown",
      "metadata": {
        "id": "1tlN-WGZ9the"
      },
      "source": [
        "#### assert 문\n",
        "\n",
        "* raise 문과 달리 주로 **\"검증\"**을 위한 목적으로 작성\n",
        "* 상태를 검증하는 목적으로 작성되며 검증식이 포함됨\n",
        "* 검증식이 `False`일 경우 `AssertionErro` 발생"
      ]
    },
    {
      "cell_type": "code",
      "metadata": {
        "id": "RDT6GAzpMtFu"
      },
      "source": [
        "assert True"
      ],
      "execution_count": null,
      "outputs": []
    },
    {
      "cell_type": "code",
      "metadata": {
        "id": "Wi5Dhu2yFzfW",
        "colab": {
          "base_uri": "https://localhost:8080/",
          "height": 139
        },
        "outputId": "78e8bd19-a115-41af-8640-c32bb4abc5bc"
      },
      "source": [
        "assert False"
      ],
      "execution_count": null,
      "outputs": [
        {
          "output_type": "error",
          "ename": "AssertionError",
          "evalue": "",
          "traceback": [
            "\u001b[0;31m---------------------------------------------------------------------------\u001b[0m",
            "\u001b[0;31mAssertionError\u001b[0m                            Traceback (most recent call last)",
            "\u001b[0;32m<ipython-input-64-a871fdc9ebee>\u001b[0m in \u001b[0;36m<cell line: 1>\u001b[0;34m()\u001b[0m\n\u001b[0;32m----> 1\u001b[0;31m \u001b[0;32massert\u001b[0m \u001b[0;32mFalse\u001b[0m\u001b[0;34m\u001b[0m\u001b[0;34m\u001b[0m\u001b[0m\n\u001b[0m",
            "\u001b[0;31mAssertionError\u001b[0m: "
          ]
        }
      ]
    },
    {
      "cell_type": "code",
      "metadata": {
        "id": "__lmGJw2G323",
        "colab": {
          "base_uri": "https://localhost:8080/",
          "height": 139
        },
        "outputId": "e29c46d0-3e27-426a-b3a3-5187d5089f9a"
      },
      "source": [
        "assert False, \"에러 메시지\""
      ],
      "execution_count": null,
      "outputs": [
        {
          "output_type": "error",
          "ename": "AssertionError",
          "evalue": "에러 메시지",
          "traceback": [
            "\u001b[0;31m---------------------------------------------------------------------------\u001b[0m",
            "\u001b[0;31mAssertionError\u001b[0m                            Traceback (most recent call last)",
            "\u001b[0;32m<ipython-input-65-1796aa5b1c60>\u001b[0m in \u001b[0;36m<cell line: 1>\u001b[0;34m()\u001b[0m\n\u001b[0;32m----> 1\u001b[0;31m \u001b[0;32massert\u001b[0m \u001b[0;32mFalse\u001b[0m\u001b[0;34m,\u001b[0m \u001b[0;34m\"에러 메시지\"\u001b[0m\u001b[0;34m\u001b[0m\u001b[0;34m\u001b[0m\u001b[0m\n\u001b[0m",
            "\u001b[0;31mAssertionError\u001b[0m: 에러 메시지"
          ]
        }
      ]
    },
    {
      "cell_type": "code",
      "metadata": {
        "id": "vmNwfDLcF0dm",
        "colab": {
          "base_uri": "https://localhost:8080/",
          "height": 156
        },
        "outputId": "e25081b8-bb31-4be5-bfd6-aaeede07b743"
      },
      "source": [
        "b=0\n",
        "assert b !=0, \"잘못된 접근입니다\""
      ],
      "execution_count": null,
      "outputs": [
        {
          "output_type": "error",
          "ename": "AssertionError",
          "evalue": "잘못된 접근입니다",
          "traceback": [
            "\u001b[0;31m---------------------------------------------------------------------------\u001b[0m",
            "\u001b[0;31mAssertionError\u001b[0m                            Traceback (most recent call last)",
            "\u001b[0;32m<ipython-input-67-a999bacfbd7d>\u001b[0m in \u001b[0;36m<cell line: 2>\u001b[0;34m()\u001b[0m\n\u001b[1;32m      1\u001b[0m \u001b[0mb\u001b[0m\u001b[0;34m=\u001b[0m\u001b[0;36m0\u001b[0m\u001b[0;34m\u001b[0m\u001b[0;34m\u001b[0m\u001b[0m\n\u001b[0;32m----> 2\u001b[0;31m \u001b[0;32massert\u001b[0m \u001b[0mb\u001b[0m \u001b[0;34m!=\u001b[0m\u001b[0;36m0\u001b[0m\u001b[0;34m,\u001b[0m \u001b[0;34m\"잘못된 접근입니다\"\u001b[0m\u001b[0;34m\u001b[0m\u001b[0;34m\u001b[0m\u001b[0m\n\u001b[0m",
            "\u001b[0;31mAssertionError\u001b[0m: 잘못된 접근입니다"
          ]
        }
      ]
    },
    {
      "cell_type": "code",
      "metadata": {
        "id": "7ebqv6zTF3dv"
      },
      "source": [],
      "execution_count": null,
      "outputs": []
    }
  ]
}