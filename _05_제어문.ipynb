{
  "nbformat": 4,
  "nbformat_minor": 0,
  "metadata": {
    "colab": {
      "provenance": [],
      "toc_visible": true,
      "include_colab_link": true
    },
    "kernelspec": {
      "name": "python3",
      "display_name": "Python 3"
    }
  },
  "cells": [
    {
      "cell_type": "markdown",
      "metadata": {
        "id": "view-in-github",
        "colab_type": "text"
      },
      "source": [
        "<a href=\"https://colab.research.google.com/github/seo-minsu/Python-Programming-Study_Minsu/blob/main/_05_%EC%A0%9C%EC%96%B4%EB%AC%B8.ipynb\" target=\"_parent\"><img src=\"https://colab.research.google.com/assets/colab-badge.svg\" alt=\"Open In Colab\"/></a>"
      ]
    },
    {
      "cell_type": "markdown",
      "metadata": {
        "id": "bg5ZXMV2sn1M"
      },
      "source": [
        "# 제어문(Control Statement)"
      ]
    },
    {
      "cell_type": "markdown",
      "metadata": {
        "id": "Lj_iZPKnCRP0"
      },
      "source": [
        "\n",
        "\n",
        "---\n",
        "\n"
      ]
    },
    {
      "cell_type": "markdown",
      "metadata": {
        "id": "zXbENjlMCrkU"
      },
      "source": [
        "## 조건문(Conditional Statement)\n",
        "### if, else, elif"
      ]
    },
    {
      "cell_type": "markdown",
      "metadata": {
        "id": "QerabWfwCvtt"
      },
      "source": [
        "### if 문\n",
        "   * if문은 True와 False를 판단하는 조건문\n",
        "   --> 조건이 true일때만 문장 실행\n",
        "   * if 조건 뒤에는 콜론(:) 필수"
      ]
    },
    {
      "cell_type": "markdown",
      "metadata": {
        "id": "UkYuDgdYjW1p"
      },
      "source": [
        "* if 문을 이용한 미세먼지 측정\n",
        "  + 미세먼지 농도 pm\n",
        "  + 35 초과는 미세먼지 농도 나쁨"
      ]
    },
    {
      "cell_type": "code",
      "metadata": {
        "id": "22ALZ21LE60j",
        "colab": {
          "base_uri": "https://localhost:8080/"
        },
        "outputId": "cff6f760-c1ef-4203-adcb-a5a3b9ecf73d"
      },
      "source": [
        "pm=40\n",
        "if pm>35:\n",
        "  print(\"미세먼지 농도: 나쁨\")\n",
        "\n",
        "pm=30\n",
        "if pm>35:\n",
        "  print(\"미세먼지 농도: 나쁨\"). ## False라서 출력안됨"
      ],
      "execution_count": 3,
      "outputs": [
        {
          "output_type": "stream",
          "name": "stdout",
          "text": [
            "미세먼지 농도: 나쁨\n"
          ]
        }
      ]
    },
    {
      "cell_type": "markdown",
      "metadata": {
        "id": "of4Jq8l-McX7"
      },
      "source": [
        "### if-else 문\n",
        "  * 조건이 true일때는 if문으로 출력, false일때는 else문으로 출력\n",
        "  * if <조건> : <br>\n",
        "      <문장 1> <br>\n",
        "    else : <br>\n",
        "      <문장2>"
      ]
    },
    {
      "cell_type": "markdown",
      "metadata": {
        "id": "KBi_DsHtkj5R"
      },
      "source": [
        "* if-else 문을 이용한 미세먼지 측정\n",
        "  + 미세먼지 농도 pm\n",
        "  + 36 이상은 미세먼지 농도 나쁨\n",
        "  + 35 이하는 미세먼지 농도 좋음"
      ]
    },
    {
      "cell_type": "code",
      "metadata": {
        "id": "w4JB__zpL_BW",
        "colab": {
          "base_uri": "https://localhost:8080/"
        },
        "outputId": "52a100ec-a843-4933-fc6a-c6a7b6fbd2ab"
      },
      "source": [
        "pm=40\n",
        "if pm>=36:\n",
        "  print(\"미세먼지 농도: 나쁨\")\n",
        "else:                         ##true 아니면 false니까 따로 조건 안달아도됨\n",
        "  print(\"미세먼지 농도: 좋음\")\n",
        "\n",
        "pm=30\n",
        "if pm>=36:\n",
        "  print(\"미세먼지 농도: 나쁨\")\n",
        "else:\n",
        "  print(\"미세먼지 농도: 좋음\")"
      ],
      "execution_count": 8,
      "outputs": [
        {
          "output_type": "stream",
          "name": "stdout",
          "text": [
            "미세먼지 농도: 나쁨\n",
            "미세먼지 농도: 좋음\n"
          ]
        }
      ]
    },
    {
      "cell_type": "markdown",
      "metadata": {
        "id": "lcdJvb_vFiKf"
      },
      "source": [
        "### if-elif-else 문\n",
        "   * true가 아니었을 때의 조건을 여러 개 만들 수 있는 조건문\n",
        "   * if <조건> : <br>\n",
        "       <문장1> <br>\n",
        "     elif <조건> : <br>\n",
        "       <문장2> <br>\n",
        "     else: <br>\n",
        "       <문장3>"
      ]
    },
    {
      "cell_type": "markdown",
      "metadata": {
        "id": "DV4n1qxhnFIV"
      },
      "source": [
        "* if-elif-else 문을 이용한 미세먼지 측정\n",
        "  + 미세먼지 농도 pm\n",
        "  + 미세먼지 농도 0~15: 좋음\n",
        "  + 미세먼지 농도 16~35: 보통\n",
        "  + 미세먼지 농도 36~75: 나쁨\n",
        "  + 미세먼지 농도 76~: 매우나쁨"
      ]
    },
    {
      "cell_type": "code",
      "metadata": {
        "id": "xlo8NoTeF0dV",
        "colab": {
          "base_uri": "https://localhost:8080/"
        },
        "outputId": "1a20c142-8afa-41bb-b752-8142fac753ce"
      },
      "source": [
        "pm = 40\n",
        "if pm<16 :\n",
        "  print(\"미세먼지 농도 : 좋음\")\n",
        "elif pm < 36 :\n",
        "  print(\"미세먼지 농도 : 보통\")\n",
        "elif pm <76 :\n",
        "  print(\"미세먼지 농도 : 나쁨\")\n",
        "else:\n",
        "  print(\"미세먼지 농도 : 매우 나쁨\")"
      ],
      "execution_count": 9,
      "outputs": [
        {
          "output_type": "stream",
          "name": "stdout",
          "text": [
            "미세먼지 농도 : 나쁨\n"
          ]
        }
      ]
    },
    {
      "cell_type": "markdown",
      "metadata": {
        "id": "PdkLJlqioT_b"
      },
      "source": [
        "### 중첩 if 문\n",
        "\n",
        "  * if 문 안에 if문이 포함된 형태\n",
        "  * if -> if2, if3 --> 각각 true, false\n"
      ]
    },
    {
      "cell_type": "markdown",
      "metadata": {
        "id": "8JdYeATzowCy"
      },
      "source": [
        "* 중첩 if 문을 이용한 미세먼지 측정\n",
        "  + 미세먼지 농도 pm\n",
        "  + 미세먼지 농도 0~15: 좋음\n",
        "  + 미세먼지 농도 16~35: 보통\n",
        "  + 미세먼지 농도 36~75: 나쁨\n",
        "  + 미세먼지 농도 76~: 매우나쁨"
      ]
    },
    {
      "cell_type": "code",
      "metadata": {
        "id": "ZuYX5TCro3B9",
        "colab": {
          "base_uri": "https://localhost:8080/"
        },
        "outputId": "7a7616d7-c30a-4285-c28a-1f3561370442"
      },
      "source": [
        "pm=80\n",
        "if pm<36:\n",
        " if pm<16:\n",
        "  print(\"미세먼지 농도 : 좋음\")\n",
        " else:\n",
        "  print(\"미세먼지 농도 : 보통\")\n",
        "else:\n",
        "  if pm<76:\n",
        "   print(\"미세먼지 농도 : 나쁨\")\n",
        "  else:\n",
        "    print(\"미세먼지 농도 : 매우나쁨\")\n",
        "\n",
        "pm=50\n",
        "if pm<36:\n",
        " if pm<16:\n",
        "  print(\"미세먼지 농도 : 좋음\")\n",
        " else:\n",
        "  print(\"미세먼지 농도 : 보통\")\n",
        "else:\n",
        "  if pm<76:\n",
        "   print(\"미세먼지 농도 : 나쁨\")\n",
        "  else:\n",
        "    print(\"미세먼지 농도 : 매우나쁨\")\n"
      ],
      "execution_count": 13,
      "outputs": [
        {
          "output_type": "stream",
          "name": "stdout",
          "text": [
            "미세먼지 농도 : 매우나쁨\n",
            "미세먼지 농도 : 나쁨\n"
          ]
        }
      ]
    },
    {
      "cell_type": "markdown",
      "metadata": {
        "id": "sB6Li0FmU9eM"
      },
      "source": [
        "### if-pass 문\n",
        "\n",
        "* 조건문은 있지만 실행할 문장이 없는 경우, 오류가 발생하지 않도록 무시하고 넘어가는 기능\n"
      ]
    },
    {
      "cell_type": "code",
      "metadata": {
        "id": "iIOjo8LEVPqy",
        "colab": {
          "base_uri": "https://localhost:8080/"
        },
        "outputId": "2cce25e5-7b9f-41ea-adc6-8ac9ec652be5"
      },
      "source": [
        "if 10>5:\n",
        "  print(10)\n",
        "else:\n",
        "  pass"
      ],
      "execution_count": 15,
      "outputs": [
        {
          "output_type": "stream",
          "name": "stdout",
          "text": [
            "10\n"
          ]
        }
      ]
    },
    {
      "cell_type": "markdown",
      "metadata": {
        "id": "ERFC5XXnqTab"
      },
      "source": [
        "### if 조건 연산자\n",
        "\n",
        "* 비교연산자: <, >, ==, !=, >=, <=\n"
      ]
    },
    {
      "cell_type": "code",
      "metadata": {
        "id": "oON1NgdYvSVj",
        "colab": {
          "base_uri": "https://localhost:8080/"
        },
        "outputId": "cab465cd-686e-4c78-c0b8-da47502904f9"
      },
      "source": [
        "if 2>1:\n",
        "  print(2)\n",
        "\n",
        "if 3 ==3:\n",
        "  print(3)\n",
        "\n",
        "if 1!=2:\n",
        "  print(1)"
      ],
      "execution_count": 18,
      "outputs": [
        {
          "output_type": "stream",
          "name": "stdout",
          "text": [
            "2\n",
            "3\n",
            "1\n"
          ]
        }
      ]
    },
    {
      "cell_type": "markdown",
      "metadata": {
        "id": "tsZNODf8vMdM"
      },
      "source": [
        "* 논리연산자: and, or, not"
      ]
    },
    {
      "cell_type": "code",
      "metadata": {
        "id": "xbhbbC_urU5t",
        "colab": {
          "base_uri": "https://localhost:8080/"
        },
        "outputId": "a08caaef-3827-4a9e-feaa-c8dc9d7c02b1"
      },
      "source": [
        "rain = True\n",
        "snow = True\n",
        "sun = False\n",
        "\n",
        "if rain and snow:\n",
        "  print(\"진눈깨비\")\n",
        "\n",
        "if not sun:\n",
        "  print(\"흐림\")\n",
        "else:\n",
        "  print(\"맑음\")"
      ],
      "execution_count": 24,
      "outputs": [
        {
          "output_type": "stream",
          "name": "stdout",
          "text": [
            "진눈깨비\n",
            "흐림\n"
          ]
        }
      ]
    },
    {
      "cell_type": "markdown",
      "metadata": {
        "id": "neifpa1BvNya"
      },
      "source": [
        "* 멤버연산자: in, not in\n"
      ]
    },
    {
      "cell_type": "code",
      "metadata": {
        "id": "WWu4uaX5rcTb",
        "colab": {
          "base_uri": "https://localhost:8080/"
        },
        "outputId": "9387bc0a-7e2a-4688-bccb-0030458deed4"
      },
      "source": [
        "list=['one','two','three']\n",
        "if 'one' in list:\n",
        "  print('one')\n",
        "\n",
        "if 'four' not in list:\n",
        "  print('no')"
      ],
      "execution_count": 27,
      "outputs": [
        {
          "output_type": "stream",
          "name": "stdout",
          "text": [
            "one\n",
            "no\n"
          ]
        }
      ]
    },
    {
      "cell_type": "markdown",
      "metadata": {
        "id": "0V1ky9ZMucnL"
      },
      "source": [
        "* 식별연산자: is, is not"
      ]
    },
    {
      "cell_type": "code",
      "metadata": {
        "id": "puETQb28t3ua",
        "colab": {
          "base_uri": "https://localhost:8080/"
        },
        "outputId": "346435d4-0cb8-44d0-8e9e-8b0e1586d0ab"
      },
      "source": [
        "if 'one' is 'one':\n",
        "  print('one')\n",
        "\n",
        "if 'one' is not 'two':\n",
        "  print('one is not two')"
      ],
      "execution_count": 29,
      "outputs": [
        {
          "output_type": "stream",
          "name": "stdout",
          "text": [
            "one\n",
            "one is not two\n"
          ]
        },
        {
          "output_type": "stream",
          "name": "stderr",
          "text": [
            "<>:1: SyntaxWarning: \"is\" with a literal. Did you mean \"==\"?\n",
            "<>:4: SyntaxWarning: \"is not\" with a literal. Did you mean \"!=\"?\n",
            "<>:1: SyntaxWarning: \"is\" with a literal. Did you mean \"==\"?\n",
            "<>:4: SyntaxWarning: \"is not\" with a literal. Did you mean \"!=\"?\n",
            "<ipython-input-29-c75055d669ad>:1: SyntaxWarning: \"is\" with a literal. Did you mean \"==\"?\n",
            "  if 'one' is 'one':\n",
            "<ipython-input-29-c75055d669ad>:4: SyntaxWarning: \"is not\" with a literal. Did you mean \"!=\"?\n",
            "  if 'one' is not 'two':\n"
          ]
        }
      ]
    },
    {
      "cell_type": "markdown",
      "metadata": {
        "id": "9iV-FsBWzZ0k"
      },
      "source": [
        "### 조건부 표현식(Conditional Expression)\n",
        "\n",
        "* 한 라인으로 조건식을 사용한 표현(조건이 간단할 때)"
      ]
    },
    {
      "cell_type": "code",
      "metadata": {
        "id": "_oS5aQybzfxw",
        "colab": {
          "base_uri": "https://localhost:8080/"
        },
        "outputId": "95b124f3-3b5c-4b05-eb9d-5a247e758c15"
      },
      "source": [
        "score=75\n",
        "msg=\"통과\" if score>=70 else \"탈락\"\n",
        "print(msg)"
      ],
      "execution_count": 2,
      "outputs": [
        {
          "output_type": "stream",
          "name": "stdout",
          "text": [
            "통과\n"
          ]
        }
      ]
    },
    {
      "cell_type": "markdown",
      "metadata": {
        "id": "iaXO0nIe4IsM"
      },
      "source": [
        "### [Lab] 학생 종류\n",
        "\n",
        "* 8세 미만 \"학생 아님\"\n",
        "* 14세 미만 \"초등학생\"\n",
        "* 17세 미만 \"중학생\"\n",
        "* 20세 미만 \"고등학생\"\n",
        "* 26세 미만 \"대학생\"\n",
        "* 그 외에 \"학생 아님\""
      ]
    },
    {
      "cell_type": "code",
      "metadata": {
        "id": "tiSoSbvB4yZa",
        "colab": {
          "base_uri": "https://localhost:8080/"
        },
        "outputId": "4d56999e-83b3-43d9-8cee-18dba62c87de"
      },
      "source": [
        "age=28\n",
        "if age<8 :\n",
        "  print(\"학생 아님\")\n",
        "elif age<14:\n",
        "  print(\"초등학생\")\n",
        "elif age<17:\n",
        "  print(\"중학생\")\n",
        "elif age<20:\n",
        "  print(\"고등학생\")\n",
        "elif age<26:\n",
        "  print(\"대학생\")\n",
        "else:\n",
        "  print(\"학생아님\")"
      ],
      "execution_count": 4,
      "outputs": [
        {
          "output_type": "stream",
          "name": "stdout",
          "text": [
            "학생아님\n"
          ]
        }
      ]
    },
    {
      "cell_type": "markdown",
      "metadata": {
        "id": "Xaqknnv_5weC"
      },
      "source": [
        "### [Lab] 학점 계산\n",
        "\n",
        "* 95점 이상 \"A+\"\n",
        "* 90점 이상 \"A\"\n",
        "* 85점 이상 \"B+\"\n",
        "* 80점 이상 \"B\"\n",
        "* 75점 이상 \"C+\"\n",
        "* 70점 이상 \"C\"\n",
        "* 65점 이상 \"D+\"\n",
        "* 60점 이상 \"D\"\n",
        "* 그 외 \"F\""
      ]
    },
    {
      "cell_type": "code",
      "metadata": {
        "id": "4fn4sB6a6BUL",
        "colab": {
          "base_uri": "https://localhost:8080/"
        },
        "outputId": "3594fe52-1cc3-4934-f0f2-582ceda6c6df"
      },
      "source": [
        "score=75\n",
        "if score>=95:\n",
        "  print(\"A+\")\n",
        "elif score>=90:\n",
        "  print(\"A\")\n",
        "elif score>=85:\n",
        "  print(\"B+\")\n",
        "elif score>=80:\n",
        "  print(\"B\")\n",
        "elif score>=75:\n",
        "  print(\"C+\")\n",
        "elif score>=70:\n",
        "  print(\"C\")\n",
        "elif score>=65:\n",
        "  print(\"D+\")\n",
        "elif score>=60:\n",
        "  print(\"D\")\n",
        "else:\n",
        "  print(\"F\")"
      ],
      "execution_count": 5,
      "outputs": [
        {
          "output_type": "stream",
          "name": "stdout",
          "text": [
            "C+\n"
          ]
        }
      ]
    },
    {
      "cell_type": "markdown",
      "metadata": {
        "id": "0BWIlqrPCr__"
      },
      "source": [
        "\n",
        "\n",
        "---\n",
        "\n"
      ]
    },
    {
      "cell_type": "markdown",
      "metadata": {
        "id": "ZfKg8LniN113"
      },
      "source": [
        "## 반복문(Repetitive Statement)\n",
        "* 문장을 반복적으로 수행\n",
        "* 정해진 동작을 반복하여 처리할 때 사용\n",
        "* 파이썬에서 제공하는 반복문: while, for"
      ]
    },
    {
      "cell_type": "markdown",
      "metadata": {
        "id": "tsxOiKAD7Lfw"
      },
      "source": [
        "### while 문\n",
        "\n",
        "* 어떤 조건이 만족하는 동안 문장을 수행하고 만족하지 않는 경우 수행 중단\n",
        "* while <조건>: <br>\n",
        "     <문장>"
      ]
    },
    {
      "cell_type": "markdown",
      "metadata": {
        "id": "q9SCeICMB32o"
      },
      "source": [
        "* while 문 예제: 1부터 10까지 반복"
      ]
    },
    {
      "cell_type": "code",
      "metadata": {
        "id": "zjBqbHUhPjUX",
        "colab": {
          "base_uri": "https://localhost:8080/"
        },
        "outputId": "5cb995cf-2420-4109-a2c8-e76ef47b6a84"
      },
      "source": [
        "i=1\n",
        "while i<=10:\n",
        "  print(i).  ##무한반복 되어버림;;\n",
        "  i += 1 ## \"+=\"의 기능 참고"
      ],
      "execution_count": 7,
      "outputs": [
        {
          "output_type": "stream",
          "name": "stdout",
          "text": [
            "1\n",
            "2\n",
            "3\n",
            "4\n",
            "5\n",
            "6\n",
            "7\n",
            "8\n",
            "9\n",
            "10\n"
          ]
        }
      ]
    },
    {
      "cell_type": "markdown",
      "metadata": {
        "id": "GWKxC-EyB-ou"
      },
      "source": [
        "* while 문 예제: 1부터 10까지 더하기"
      ]
    },
    {
      "cell_type": "code",
      "metadata": {
        "id": "KamhbhLtBjyu",
        "colab": {
          "base_uri": "https://localhost:8080/"
        },
        "outputId": "0a19c75f-77c0-406d-cc19-06cbd3aa97f1"
      },
      "source": [
        "i=1\n",
        "sum=0  ##출력식 적고, while\n",
        "while i<=10:\n",
        "  sum += i\n",
        "  i += 1\n",
        "print(sum)"
      ],
      "execution_count": 8,
      "outputs": [
        {
          "output_type": "stream",
          "name": "stdout",
          "text": [
            "55\n"
          ]
        }
      ]
    },
    {
      "cell_type": "markdown",
      "metadata": {
        "id": "fE4el4w8CVnn"
      },
      "source": [
        "### for 문\n",
        "* 반복 범위를 지정하여 반복 수정\n",
        "* for 변수 in 리스트, 튜플, 문자열: <br>\n",
        "   <문장>"
      ]
    },
    {
      "cell_type": "markdown",
      "metadata": {
        "id": "Szg_RE0dDVUI"
      },
      "source": [
        "* 리스트 요소 반복"
      ]
    },
    {
      "cell_type": "code",
      "metadata": {
        "id": "q-6XmZ7pCKfu",
        "colab": {
          "base_uri": "https://localhost:8080/"
        },
        "outputId": "f58f5bb2-f4e4-4e1a-d9f2-df5cafcd436d"
      },
      "source": [
        "list=['one','two','three']\n",
        "for i in list:\n",
        "  print(i)"
      ],
      "execution_count": 9,
      "outputs": [
        {
          "output_type": "stream",
          "name": "stdout",
          "text": [
            "one\n",
            "two\n",
            "three\n"
          ]
        }
      ]
    },
    {
      "cell_type": "markdown",
      "metadata": {
        "id": "Jxy-YCKaJy6U"
      },
      "source": [
        "* 튜플 요소 반복"
      ]
    },
    {
      "cell_type": "code",
      "metadata": {
        "id": "bPTK1Da9DifT",
        "colab": {
          "base_uri": "https://localhost:8080/"
        },
        "outputId": "415b4b66-3b03-43ae-a83f-43acf1b5b09f"
      },
      "source": [
        "tuple=['one','two','three']\n",
        "for i in tuple:\n",
        "  print(i)"
      ],
      "execution_count": 10,
      "outputs": [
        {
          "output_type": "stream",
          "name": "stdout",
          "text": [
            "one\n",
            "two\n",
            "three\n"
          ]
        }
      ]
    },
    {
      "cell_type": "markdown",
      "metadata": {
        "id": "-a5BBmWHJ08e"
      },
      "source": [
        "* 문자열 요소 반복"
      ]
    },
    {
      "cell_type": "code",
      "metadata": {
        "id": "sg2jzObGDk5u",
        "colab": {
          "base_uri": "https://localhost:8080/"
        },
        "outputId": "bb382f30-aeeb-41fa-f857-54a6dc99e6eb"
      },
      "source": [
        "string = \"Minsu\"\n",
        "for i in string:\n",
        "  print(i)"
      ],
      "execution_count": 11,
      "outputs": [
        {
          "output_type": "stream",
          "name": "stdout",
          "text": [
            "M\n",
            "i\n",
            "n\n",
            "s\n",
            "u\n"
          ]
        }
      ]
    },
    {
      "cell_type": "markdown",
      "metadata": {
        "id": "6bel7wU6EFp4"
      },
      "source": [
        "#### range()\n",
        "* 범위 반복에 사용\n",
        "* for 변수 in range(시작값, 마지막값, 증가값): <br>\n",
        "   <문장>\n",
        "* 시작값과 증가값은 생략 가능\n",
        "* 생략할 때 default value: 시작값은 0, 증가값은 1"
      ]
    },
    {
      "cell_type": "code",
      "metadata": {
        "id": "sIV6ouO3D1Pj",
        "colab": {
          "base_uri": "https://localhost:8080/"
        },
        "outputId": "afb6efd3-2a4a-4b67-da81-2d78ffc56201"
      },
      "source": [
        "##ex1\n",
        "sum=0\n",
        "for i in range(10):\n",
        "  sum += i\n",
        "\n",
        "print(sum)\n",
        "\n",
        "##ex2\n",
        "sum=0\n",
        "for i in range(11):\n",
        "  sum += i\n",
        "\n",
        "print(sum)\n",
        "\n",
        "##ex3\n",
        "sum=0\n",
        "for i in range(101): ##range 마지막값은 더해야 할 마지막값 +1\n",
        "  sum += i\n",
        "\n",
        "print(sum)\n"
      ],
      "execution_count": 17,
      "outputs": [
        {
          "output_type": "stream",
          "name": "stdout",
          "text": [
            "45\n",
            "55\n",
            "5050\n"
          ]
        }
      ]
    },
    {
      "cell_type": "code",
      "metadata": {
        "id": "VtCQOfDpGG59",
        "colab": {
          "base_uri": "https://localhost:8080/"
        },
        "outputId": "21db82fe-9bb3-475c-abd5-75a3c1521041"
      },
      "source": [
        "for i in range(1,10,2):\n",
        "  print(i)"
      ],
      "execution_count": 18,
      "outputs": [
        {
          "output_type": "stream",
          "name": "stdout",
          "text": [
            "1\n",
            "3\n",
            "5\n",
            "7\n",
            "9\n"
          ]
        }
      ]
    },
    {
      "cell_type": "markdown",
      "metadata": {
        "id": "1otcwtcWGU-Z"
      },
      "source": [
        "* 범위 반복 range를 이용한 구구단"
      ]
    },
    {
      "cell_type": "code",
      "metadata": {
        "id": "0AgNJV5LGJLf",
        "colab": {
          "base_uri": "https://localhost:8080/"
        },
        "outputId": "e3e9fd45-2068-4c2c-f078-b21697746c78"
      },
      "source": [
        "for i in range(2,10):\n",
        "  for j in range(1,10):\n",
        "    print('{0} x {1} = {2}'.format(i,j,i*j)) ##문자열 index 활용, return값은 format으로 지정"
      ],
      "execution_count": 22,
      "outputs": [
        {
          "output_type": "stream",
          "name": "stdout",
          "text": [
            "2 x 1 = 2\n",
            "2 x 2 = 4\n",
            "2 x 3 = 6\n",
            "2 x 4 = 8\n",
            "2 x 5 = 10\n",
            "2 x 6 = 12\n",
            "2 x 7 = 14\n",
            "2 x 8 = 16\n",
            "2 x 9 = 18\n",
            "3 x 1 = 3\n",
            "3 x 2 = 6\n",
            "3 x 3 = 9\n",
            "3 x 4 = 12\n",
            "3 x 5 = 15\n",
            "3 x 6 = 18\n",
            "3 x 7 = 21\n",
            "3 x 8 = 24\n",
            "3 x 9 = 27\n",
            "4 x 1 = 4\n",
            "4 x 2 = 8\n",
            "4 x 3 = 12\n",
            "4 x 4 = 16\n",
            "4 x 5 = 20\n",
            "4 x 6 = 24\n",
            "4 x 7 = 28\n",
            "4 x 8 = 32\n",
            "4 x 9 = 36\n",
            "5 x 1 = 5\n",
            "5 x 2 = 10\n",
            "5 x 3 = 15\n",
            "5 x 4 = 20\n",
            "5 x 5 = 25\n",
            "5 x 6 = 30\n",
            "5 x 7 = 35\n",
            "5 x 8 = 40\n",
            "5 x 9 = 45\n",
            "6 x 1 = 6\n",
            "6 x 2 = 12\n",
            "6 x 3 = 18\n",
            "6 x 4 = 24\n",
            "6 x 5 = 30\n",
            "6 x 6 = 36\n",
            "6 x 7 = 42\n",
            "6 x 8 = 48\n",
            "6 x 9 = 54\n",
            "7 x 1 = 7\n",
            "7 x 2 = 14\n",
            "7 x 3 = 21\n",
            "7 x 4 = 28\n",
            "7 x 5 = 35\n",
            "7 x 6 = 42\n",
            "7 x 7 = 49\n",
            "7 x 8 = 56\n",
            "7 x 9 = 63\n",
            "8 x 1 = 8\n",
            "8 x 2 = 16\n",
            "8 x 3 = 24\n",
            "8 x 4 = 32\n",
            "8 x 5 = 40\n",
            "8 x 6 = 48\n",
            "8 x 7 = 56\n",
            "8 x 8 = 64\n",
            "8 x 9 = 72\n",
            "9 x 1 = 9\n",
            "9 x 2 = 18\n",
            "9 x 3 = 27\n",
            "9 x 4 = 36\n",
            "9 x 5 = 45\n",
            "9 x 6 = 54\n",
            "9 x 7 = 63\n",
            "9 x 8 = 72\n",
            "9 x 9 = 81\n"
          ]
        }
      ]
    },
    {
      "cell_type": "markdown",
      "metadata": {
        "id": "y9DVAjy0r5Ty"
      },
      "source": [
        "#### _ 기능\n",
        "* for문을 사용하면서 iterator 역할을 위해서 i 변수가 필요\n",
        "* for문 이후에는 iterator 변수 i가 필요하지 않음\n",
        "* 이후에 사용되지 않을 변수에 어떤 이름을 부여하고 싶지 않을 때 _사용"
      ]
    },
    {
      "cell_type": "code",
      "metadata": {
        "id": "qv8HZNCTsDFf",
        "colab": {
          "base_uri": "https://localhost:8080/"
        },
        "outputId": "ef255d6d-f458-4f57-9c3a-1f1e603cd591"
      },
      "source": [
        "for _ in range(5):\n",
        "  print(\"minsu\")"
      ],
      "execution_count": 23,
      "outputs": [
        {
          "output_type": "stream",
          "name": "stdout",
          "text": [
            "minsu\n",
            "minsu\n",
            "minsu\n",
            "minsu\n",
            "minsu\n"
          ]
        }
      ]
    },
    {
      "cell_type": "code",
      "metadata": {
        "id": "pf8fIpSBsHZL",
        "colab": {
          "base_uri": "https://localhost:8080/"
        },
        "outputId": "3a03af19-917b-4e35-964b-8ad999704eb8"
      },
      "source": [
        "for i in range(5):\n",
        "  print(\"minsu\")"
      ],
      "execution_count": 24,
      "outputs": [
        {
          "output_type": "stream",
          "name": "stdout",
          "text": [
            "minsu\n",
            "minsu\n",
            "minsu\n",
            "minsu\n",
            "minsu\n"
          ]
        }
      ]
    },
    {
      "cell_type": "markdown",
      "metadata": {
        "id": "-t7UubcSKJHY"
      },
      "source": [
        "### else 문\n",
        "\n",
        "* 반복이 종료된 후에 한번 더 실행되는 문장"
      ]
    },
    {
      "cell_type": "code",
      "metadata": {
        "id": "clXMvxeyMFj_",
        "colab": {
          "base_uri": "https://localhost:8080/"
        },
        "outputId": "47b171f8-8019-45bc-eaf3-bacdea93bbe5"
      },
      "source": [
        "i = 1\n",
        "sum=0\n",
        "while i<=10:\n",
        "  sum+=i\n",
        "  i+=1\n",
        "else:        ##그냥 이쁘게 정리하려고 쓰는 듯\n",
        " print(sum)"
      ],
      "execution_count": 26,
      "outputs": [
        {
          "output_type": "stream",
          "name": "stdout",
          "text": [
            "55\n"
          ]
        }
      ]
    },
    {
      "cell_type": "code",
      "metadata": {
        "id": "4B6-nPWEGjvG",
        "colab": {
          "base_uri": "https://localhost:8080/"
        },
        "outputId": "537402d9-f20e-48ab-df12-51ed0f7a5028"
      },
      "source": [
        "sum=0\n",
        "for i in range(11):\n",
        "  sum+=i\n",
        "else:\n",
        "  print(sum)"
      ],
      "execution_count": 28,
      "outputs": [
        {
          "output_type": "stream",
          "name": "stdout",
          "text": [
            "55\n"
          ]
        }
      ]
    },
    {
      "cell_type": "markdown",
      "metadata": {
        "id": "BlF9QvR5LTar"
      },
      "source": [
        "### break 문\n",
        "\n",
        "* 반복문 종료"
      ]
    },
    {
      "cell_type": "code",
      "metadata": {
        "id": "u0HvxKWvKSou",
        "colab": {
          "base_uri": "https://localhost:8080/"
        },
        "outputId": "89a20744-7905-4bad-8659-5de6db36d8a4"
      },
      "source": [
        "i=0\n",
        "while i<100:\n",
        "  print(i)\n",
        "  if i ==10:  ##break 지점\n",
        "    break\n",
        "  i += 1\n"
      ],
      "execution_count": 29,
      "outputs": [
        {
          "output_type": "stream",
          "name": "stdout",
          "text": [
            "0\n",
            "1\n",
            "2\n",
            "3\n",
            "4\n",
            "5\n",
            "6\n",
            "7\n",
            "8\n",
            "9\n",
            "10\n"
          ]
        }
      ]
    },
    {
      "cell_type": "code",
      "metadata": {
        "id": "TJyNX_deMUvq",
        "colab": {
          "base_uri": "https://localhost:8080/"
        },
        "outputId": "bc04d897-01cf-45f4-d8a0-7085e9375039"
      },
      "source": [
        "for i in range(100):\n",
        "  print(i)\n",
        "  if i == 10:\n",
        "    break"
      ],
      "execution_count": 30,
      "outputs": [
        {
          "output_type": "stream",
          "name": "stdout",
          "text": [
            "0\n",
            "1\n",
            "2\n",
            "3\n",
            "4\n",
            "5\n",
            "6\n",
            "7\n",
            "8\n",
            "9\n",
            "10\n"
          ]
        }
      ]
    },
    {
      "cell_type": "markdown",
      "metadata": {
        "id": "m7jZ8oc8Mezu"
      },
      "source": [
        "### continue 문\n",
        "\n",
        "* 반복 조건문으로 이동"
      ]
    },
    {
      "cell_type": "code",
      "metadata": {
        "id": "MpTJ5WtPMbYm",
        "colab": {
          "base_uri": "https://localhost:8080/"
        },
        "outputId": "4bd57c8c-9fa8-4b70-9b7a-bcfc76a5acd6"
      },
      "source": [
        "i = 0\n",
        "while i <10 :\n",
        "  i+=1\n",
        "  if i%2==0:  ##i를 2로 나눈 나머지가 0일때는 continue\n",
        "    continue ##조건문으로 다시 이동(위 조건으로 필터링하는 개념)\n",
        "  print(i)"
      ],
      "execution_count": 31,
      "outputs": [
        {
          "output_type": "stream",
          "name": "stdout",
          "text": [
            "1\n",
            "3\n",
            "5\n",
            "7\n",
            "9\n"
          ]
        }
      ]
    },
    {
      "cell_type": "code",
      "metadata": {
        "id": "2oWKM2NDMqJ4",
        "colab": {
          "base_uri": "https://localhost:8080/"
        },
        "outputId": "ff54ae5a-0802-4368-8132-e7e0e664a566"
      },
      "source": [
        "for i in range(10):\n",
        "  if i%2==0:\n",
        "    continue\n",
        "  print(i)"
      ],
      "execution_count": 33,
      "outputs": [
        {
          "output_type": "stream",
          "name": "stdout",
          "text": [
            "1\n",
            "3\n",
            "5\n",
            "7\n",
            "9\n"
          ]
        }
      ]
    },
    {
      "cell_type": "markdown",
      "metadata": {
        "id": "qQoq1VqQMxdR"
      },
      "source": [
        "### 리스트 내포(List Comprehension)\n",
        "\n",
        "* 리스트 안에 for 문과 if 문 사용"
      ]
    },
    {
      "cell_type": "code",
      "metadata": {
        "id": "dYS40UmTMuHf",
        "colab": {
          "base_uri": "https://localhost:8080/"
        },
        "outputId": "0c85367b-06d1-4467-d3d4-1b45a1717dca"
      },
      "source": [
        "list=[1,2,3,4,5]\n",
        "print([i for i in list])\n",
        "print([i*2 for i in list])\n",
        "print([i*2 for i in range(10)]) ##range 는 0부터 시작\n",
        "print([i*2 for i in range(10) if i%2==0])"
      ],
      "execution_count": 38,
      "outputs": [
        {
          "output_type": "stream",
          "name": "stdout",
          "text": [
            "[1, 2, 3, 4, 5]\n",
            "[2, 4, 6, 8, 10]\n",
            "[0, 2, 4, 6, 8, 10, 12, 14, 16, 18]\n",
            "[0, 4, 8, 12, 16]\n"
          ]
        }
      ]
    },
    {
      "cell_type": "markdown",
      "metadata": {
        "id": "BNJU3Dz8NEtW"
      },
      "source": [
        "### [Lab] 문자열 반전\n",
        "\n",
        "* 문자열을 역순으로 만들기"
      ]
    },
    {
      "cell_type": "code",
      "metadata": {
        "id": "vtOOAlwBM7Ls",
        "colab": {
          "base_uri": "https://localhost:8080/",
          "height": 224
        },
        "outputId": "d642163d-69c4-492b-835e-25d5f146ecbe"
      },
      "source": [
        "string=\"Minsu\"\n",
        "reverse=\"\"\n",
        "for c in string:\n",
        "  reverse= c + reverse\n",
        "print(string)\n",
        "print(reverse)\n",
        "\n",
        "##참고\n",
        "string=\"minsu\"\n",
        "string.reverse()\n",
        "print(string)  ## <--문자열 reverse 기능이 원래 없음"
      ],
      "execution_count": 42,
      "outputs": [
        {
          "output_type": "stream",
          "name": "stdout",
          "text": [
            "Minsu\n",
            "usniM\n"
          ]
        },
        {
          "output_type": "error",
          "ename": "AttributeError",
          "evalue": "'str' object has no attribute 'reverse'",
          "traceback": [
            "\u001b[0;31m---------------------------------------------------------------------------\u001b[0m",
            "\u001b[0;31mAttributeError\u001b[0m                            Traceback (most recent call last)",
            "\u001b[0;32m<ipython-input-42-67c31e4d9730>\u001b[0m in \u001b[0;36m<cell line: 9>\u001b[0;34m()\u001b[0m\n\u001b[1;32m      7\u001b[0m \u001b[0;34m\u001b[0m\u001b[0m\n\u001b[1;32m      8\u001b[0m \u001b[0mstring\u001b[0m\u001b[0;34m=\u001b[0m\u001b[0;34m\"minsu\"\u001b[0m\u001b[0;34m\u001b[0m\u001b[0;34m\u001b[0m\u001b[0m\n\u001b[0;32m----> 9\u001b[0;31m \u001b[0mstring\u001b[0m\u001b[0;34m.\u001b[0m\u001b[0mreverse\u001b[0m\u001b[0;34m(\u001b[0m\u001b[0;34m)\u001b[0m\u001b[0;34m\u001b[0m\u001b[0;34m\u001b[0m\u001b[0m\n\u001b[0m\u001b[1;32m     10\u001b[0m \u001b[0mprint\u001b[0m\u001b[0;34m(\u001b[0m\u001b[0mstring\u001b[0m\u001b[0;34m)\u001b[0m  \u001b[0;31m## <--문자열 reverse 기능이 원래 없음\u001b[0m\u001b[0;34m\u001b[0m\u001b[0;34m\u001b[0m\u001b[0m\n",
            "\u001b[0;31mAttributeError\u001b[0m: 'str' object has no attribute 'reverse'"
          ]
        }
      ]
    },
    {
      "cell_type": "markdown",
      "metadata": {
        "id": "e-5QZsGNXsrz"
      },
      "source": [
        "\n",
        "\n",
        "---\n",
        "\n"
      ]
    },
    {
      "cell_type": "markdown",
      "metadata": {
        "id": "9ygGlaKjKZRs"
      },
      "source": [
        "## 에러와 예외(Errors and Exceptions)\n",
        "\n",
        "* 프로그램에서는 에러가 발생\n",
        "* 에러에 대한 예외 처리가 필요\n",
        "\n",
        "|에러|설명|\n",
        "|------|---|\n",
        "|AssertionError|assert문이 실패할 때 발생|\n",
        "|AttributeError|속성에 참조가 대입이 실패할 때 발생|\n",
        "|EOFError|EOF(End of File) 조건을 만날 때 발생|\n",
        "|ImportError|import문이 모듈 로드에 문제가 있을 때 발생|\n",
        "|ModuleNotFoundError|import할 모듈을 찾을 수 없을 때 발생|\n",
        "|IndexError|시퀀스 인덱스가 범위를 벗어날 때 발생|\n",
        "|KeyError|딕셔너리 키가 키 집합에서 발견되지 않을 때 발생|\n",
        "|KeyboardInterupt|사용자가 인터럽트 키(ctrl+c or delete)를 누를 때 발생|\n",
        "|MemoryError|작업에 메모리가 부족하지만, 일부 객체를 삭제해서 복구될 수 있는 경우 발생|\n",
        "|NameError|지역 또는 전역 이름을 찾을 수 없을 때 발생|\n",
        "|NotImplementedError|RuntimeError에서 내용이 없는 메소드 호출 시 발생|\n",
        "|OSError|운영체제에서 에러가 있을 경우 발생\n"
      ]
    },
    {
      "cell_type": "markdown",
      "metadata": {
        "id": "Sem87gmsXux8"
      },
      "source": [
        "### 에러 예제\n",
        "\n",
        "* ZeroDivisionError"
      ]
    },
    {
      "cell_type": "code",
      "metadata": {
        "id": "nea-tg6gNSQB"
      },
      "source": [],
      "execution_count": null,
      "outputs": []
    },
    {
      "cell_type": "markdown",
      "metadata": {
        "id": "5Ape-cL37GWg"
      },
      "source": [
        "* NameError"
      ]
    },
    {
      "cell_type": "code",
      "metadata": {
        "id": "rX3x3eE_6zcJ"
      },
      "source": [],
      "execution_count": null,
      "outputs": []
    },
    {
      "cell_type": "markdown",
      "metadata": {
        "id": "Ij6ieZ6v7JXo"
      },
      "source": [
        "* TypeError"
      ]
    },
    {
      "cell_type": "code",
      "metadata": {
        "id": "EwuWO4tP68OT"
      },
      "source": [],
      "execution_count": null,
      "outputs": []
    },
    {
      "cell_type": "markdown",
      "metadata": {
        "id": "TSahjFWRNFSY"
      },
      "source": [
        "* ValueError"
      ]
    },
    {
      "cell_type": "code",
      "metadata": {
        "id": "QkZGJiqcNElu"
      },
      "source": [],
      "execution_count": null,
      "outputs": []
    },
    {
      "cell_type": "markdown",
      "metadata": {
        "id": "6gu37rq_AciU"
      },
      "source": [
        "### 예외 처리(Exception Handling)"
      ]
    },
    {
      "cell_type": "markdown",
      "metadata": {
        "id": "FYZUyQqgK5Z_"
      },
      "source": [
        "#### try, except 문\n",
        "\n",
        "* try 문을 통해 예외 발생 가능한 코드에 정의\n",
        "* except 문을 이용해 예외 처리 방법을 정의"
      ]
    },
    {
      "cell_type": "code",
      "metadata": {
        "id": "wfONldWmjWjI"
      },
      "source": [],
      "execution_count": null,
      "outputs": []
    },
    {
      "cell_type": "markdown",
      "metadata": {
        "id": "wCZtKuol63ET"
      },
      "source": [
        "#### 에러 분류에 따른 except 문\n",
        "\n",
        "* `ZeroDivisionError`에 대한 except 처리"
      ]
    },
    {
      "cell_type": "code",
      "metadata": {
        "id": "iI9q62ukjhLI"
      },
      "source": [],
      "execution_count": null,
      "outputs": []
    },
    {
      "cell_type": "markdown",
      "metadata": {
        "id": "5xb7qltz7EkZ"
      },
      "source": [
        "#### 에러 메시지가 포함된 except 문\n",
        "\n",
        "* `ZeroDivisionError`에 포함된 에러 메시지 `e`를 출력"
      ]
    },
    {
      "cell_type": "code",
      "metadata": {
        "id": "Hd8posBzjmQa"
      },
      "source": [],
      "execution_count": null,
      "outputs": []
    },
    {
      "cell_type": "markdown",
      "metadata": {
        "id": "JAasRBB0-BLK"
      },
      "source": [
        "#### 여러 에러 분류가 포함된 except 문"
      ]
    },
    {
      "cell_type": "code",
      "metadata": {
        "id": "IHqjg-lf6-SG"
      },
      "source": [],
      "execution_count": null,
      "outputs": []
    },
    {
      "cell_type": "markdown",
      "metadata": {
        "id": "1yvDiPGN9ko0"
      },
      "source": [
        "### 에러 발생"
      ]
    },
    {
      "cell_type": "markdown",
      "metadata": {
        "id": "UZVye8Ot9r3u"
      },
      "source": [
        "#### raise 문\n",
        "\n",
        "* 직접적으로 에러를 발생시킬 수 있음\n",
        "* 에러의 종류와 에러 상황을 정의하고 발생"
      ]
    },
    {
      "cell_type": "code",
      "metadata": {
        "id": "YhXCjSq-D0oX"
      },
      "source": [],
      "execution_count": null,
      "outputs": []
    },
    {
      "cell_type": "code",
      "metadata": {
        "id": "seVpG5qoEDUL"
      },
      "source": [],
      "execution_count": null,
      "outputs": []
    },
    {
      "cell_type": "code",
      "metadata": {
        "id": "Sg6jO8soEFRQ"
      },
      "source": [],
      "execution_count": null,
      "outputs": []
    },
    {
      "cell_type": "code",
      "metadata": {
        "id": "44cMcYh6EGmQ"
      },
      "source": [],
      "execution_count": null,
      "outputs": []
    },
    {
      "cell_type": "markdown",
      "metadata": {
        "id": "1tlN-WGZ9the"
      },
      "source": [
        "#### assert 문\n",
        "\n",
        "* raise 문과 달리 주로 검증을 위한 목적으로 작성\n",
        "* 상태를 검증하는 목적으로 작성되며 검증식이 포함됨\n",
        "* 검증식이 `False`일 경우 `AssertionErro` 발생"
      ]
    },
    {
      "cell_type": "code",
      "metadata": {
        "id": "RDT6GAzpMtFu"
      },
      "source": [],
      "execution_count": null,
      "outputs": []
    },
    {
      "cell_type": "code",
      "metadata": {
        "id": "Wi5Dhu2yFzfW"
      },
      "source": [],
      "execution_count": null,
      "outputs": []
    },
    {
      "cell_type": "code",
      "metadata": {
        "id": "__lmGJw2G323"
      },
      "source": [],
      "execution_count": null,
      "outputs": []
    },
    {
      "cell_type": "code",
      "metadata": {
        "id": "vmNwfDLcF0dm"
      },
      "source": [],
      "execution_count": null,
      "outputs": []
    },
    {
      "cell_type": "code",
      "metadata": {
        "id": "7ebqv6zTF3dv"
      },
      "source": [],
      "execution_count": null,
      "outputs": []
    }
  ]
}