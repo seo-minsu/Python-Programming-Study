{
  "nbformat": 4,
  "nbformat_minor": 0,
  "metadata": {
    "colab": {
      "provenance": [],
      "toc_visible": true,
      "include_colab_link": true
    },
    "kernelspec": {
      "name": "python3",
      "display_name": "Python 3"
    }
  },
  "cells": [
    {
      "cell_type": "markdown",
      "metadata": {
        "id": "view-in-github",
        "colab_type": "text"
      },
      "source": [
        "<a href=\"https://colab.research.google.com/github/seo-minsu/Python-Programming-Study2/blob/main/_03_%EB%AC%B8%EC%9E%90%EC%97%B4.ipynb\" target=\"_parent\"><img src=\"https://colab.research.google.com/assets/colab-badge.svg\" alt=\"Open In Colab\"/></a>"
      ]
    },
    {
      "cell_type": "markdown",
      "metadata": {
        "id": "bg5ZXMV2sn1M"
      },
      "source": [
        "# 문자열(String)"
      ]
    },
    {
      "cell_type": "markdown",
      "metadata": {
        "id": "Lj_iZPKnCRP0"
      },
      "source": [
        "\n",
        "\n",
        "---\n",
        "\n"
      ]
    },
    {
      "cell_type": "markdown",
      "metadata": {
        "id": "E3Cd7WwAxDxm"
      },
      "source": [
        "## 문자열 정의\n",
        "  * 문자, 단어 등으로 구성된 문자들의 집합\n",
        "  * 시퀸스 자료형(sequence data type)\n"
      ]
    },
    {
      "cell_type": "code",
      "metadata": {
        "id": "YLGtw6y5iHPK",
        "colab": {
          "base_uri": "https://localhost:8080/"
        },
        "outputId": "fb362e47-aecb-449d-be7a-d8d9a9af60eb"
      },
      "source": [
        "s=\"string\"\n",
        "print(s)\n",
        "print(s[0])\n",
        "print(s[1])\n",
        "print(s[2])\n",
        "print(s[3])\n",
        "print(s[4])\n",
        "print(s[5])\n"
      ],
      "execution_count": 6,
      "outputs": [
        {
          "output_type": "stream",
          "name": "stdout",
          "text": [
            "string\n",
            "s\n",
            "t\n",
            "r\n",
            "i\n",
            "n\n",
            "g\n"
          ]
        }
      ]
    },
    {
      "cell_type": "code",
      "metadata": {
        "id": "1t41e-64iKjc",
        "colab": {
          "base_uri": "https://localhost:8080/"
        },
        "outputId": "f0ed0aef-8b89-413a-da50-dd460482dda0"
      },
      "source": [
        "s=\"문자열\"\n",
        "print(s)\n",
        "print(s[0])\n",
        "print(s[1])\n",
        "print(s[2])"
      ],
      "execution_count": 12,
      "outputs": [
        {
          "output_type": "stream",
          "name": "stdout",
          "text": [
            "문자열\n",
            "문\n",
            "자\n",
            "열\n"
          ]
        }
      ]
    },
    {
      "cell_type": "markdown",
      "metadata": {
        "id": "aKsMBDZohTu4"
      },
      "source": [
        "## 문자열 생성\n",
        "\n",
        "* 파이썬에서 문자열은 작은따옴표(') 또는 큰 따옴표(\")로 표현\n"
      ]
    },
    {
      "cell_type": "code",
      "metadata": {
        "id": "qLh1E-1_hxR_",
        "colab": {
          "base_uri": "https://localhost:8080/"
        },
        "outputId": "2766acc6-28cd-47b1-c6c5-6ab93c526834"
      },
      "source": [
        "print(\"hello\")\n",
        "print('hello')\n",
        "print(\"파이썬\")\n",
        "print('''파이썬은''')\n",
        "print(\"\"\"파이썬은 문자열\"\"\")"
      ],
      "execution_count": 11,
      "outputs": [
        {
          "output_type": "stream",
          "name": "stdout",
          "text": [
            "hello\n",
            "hello\n",
            "파이썬\n",
            "파이썬은\n",
            "파이썬은 문자열\n"
          ]
        }
      ]
    },
    {
      "cell_type": "markdown",
      "metadata": {
        "id": "z250OOXBirgb"
      },
      "source": [
        "### 따옴표가 있는 문자열 생성\n",
        "\n",
        "* 문자열에 작은따옴표가 있을 경우, 큰따옴표로 둘러싸서 표현\n",
        "* 문자열에 큰따옴표가 있을 경우, 작은따옴표로 둘러싸서 표현\n",
        "* 이스케이프 코드 \\를 이용하여 작은따옴표(‘)와 큰따옴표(“)를 문자열에 포함\n",
        "\n",
        "### 이스케이프 문자(escape character)\n",
        "  * 특수문자, 문자 앞에 백슬래시(\\) 사용, 문자열에서 특수문자를 표현하는데 사용"
      ]
    },
    {
      "cell_type": "code",
      "metadata": {
        "id": "JYNKaVT0i0aF",
        "colab": {
          "base_uri": "https://localhost:8080/"
        },
        "outputId": "305ba4d2-f70b-49e0-ae73-02a98a83c64c"
      },
      "source": [
        "string=\"Python's built-in strign clsses\"\n",
        "print(string)\n",
        "\n",
        "string = 'Python\\'s built-in string classes'\n",
        "print(string)\n",
        "string='모두가 \"파이썬은 매우 쉽다\"라고 말한다.'\n",
        "print(string)\n",
        "\n",
        "string=\"모두가 \\\"파이썬은 매우 쉽다\\\"라고 말한다.\"\n",
        "print(string)"
      ],
      "execution_count": 19,
      "outputs": [
        {
          "output_type": "stream",
          "name": "stdout",
          "text": [
            "Python's built-in strign clsses\n",
            "Python's built-in string classes\n",
            "모두가 \"파이썬은 매우 쉽다\"라고 말한다.\n",
            "모두가 \"파이썬은 매우 쉽다\"라고 말한다.\n"
          ]
        }
      ]
    },
    {
      "cell_type": "markdown",
      "metadata": {
        "id": "rM5rFj7nnx6Z"
      },
      "source": [
        "### 여러 줄이 있는 문자열 생성\n",
        "\n",
        "* 이스케이프 문자(\\\\n)를 이용하여 여러 줄이 있는 문자열 생성 가능"
      ]
    },
    {
      "cell_type": "code",
      "metadata": {
        "id": "XWqwisIai6ot",
        "colab": {
          "base_uri": "https://localhost:8080/"
        },
        "outputId": "a72e2f46-53dd-4f2b-8b32-2803343b8e35"
      },
      "source": [
        "text=\"동해물과 백두산이 마르고 닳도록\\n하느님이 보우하사 우리나라 만세\\n무궁화 삼천리 화려강산\\n대한사람 대한으로 길이 보전하세\"\n",
        "print(text)"
      ],
      "execution_count": 20,
      "outputs": [
        {
          "output_type": "stream",
          "name": "stdout",
          "text": [
            "동해물과 백두산이 마르고 닳도록\n",
            "하느님이 보우하사 우리나라 만세\n",
            "무궁화 삼천리 화려강산\n",
            "대한사람 대한으로 길이 보전하세\n"
          ]
        }
      ]
    },
    {
      "cell_type": "markdown",
      "metadata": {
        "id": "IKC5jvDpoGAT"
      },
      "source": [
        "* 작은 따옴표 3개 또는 큰 따옴표 3개를 이용하여 여러 줄이 있는 문자열 생성"
      ]
    },
    {
      "cell_type": "code",
      "metadata": {
        "id": "pgxgO7QwoDH8",
        "colab": {
          "base_uri": "https://localhost:8080/"
        },
        "outputId": "5e62b3a4-4aaa-4fc7-e852-969e830c772d"
      },
      "source": [
        "text=\"\"\"동해물과 백두산이 마르고 닳도록\n",
        "하느님이 보우하사 우리나라 만세\n",
        "무궁화 삼천리 화려강산\n",
        "대한 사람, 대한으로 길이 보전하세\"\"\"\n",
        "print(text)"
      ],
      "execution_count": 22,
      "outputs": [
        {
          "output_type": "stream",
          "name": "stdout",
          "text": [
            "동해물과 백두산이 마르고 닳도록\n",
            "하느님이 보우하사 우리나라 만세\n",
            "무궁화 삼천리 화려강산\n",
            "대한 사람, 대한으로 길이 보전하세\n"
          ]
        }
      ]
    },
    {
      "cell_type": "markdown",
      "metadata": {
        "id": "PzXHy8FxoW5l"
      },
      "source": [
        "\n",
        "\n",
        "---\n",
        "\n"
      ]
    },
    {
      "cell_type": "markdown",
      "metadata": {
        "id": "d38eO6_roX5E"
      },
      "source": [
        "## 문자열 연산(String Operators)"
      ]
    },
    {
      "cell_type": "markdown",
      "metadata": {
        "id": "SP7ztoZhXRV4"
      },
      "source": [
        "### 문자열 더하기\n",
        "\n",
        "+ 연산자를 사용하여 문자열 연결\n"
      ]
    },
    {
      "cell_type": "code",
      "metadata": {
        "id": "ZuecZ1D2oPnq",
        "colab": {
          "base_uri": "https://localhost:8080/"
        },
        "outputId": "7a3c4e35-56f0-4967-afc7-4be0b604ca40"
      },
      "source": [
        "s1=\"동해물과 \"\n",
        "s2=\"백두산이\"\n",
        "print(s1 + s2)\n",
        "print(s1,s2)"
      ],
      "execution_count": 29,
      "outputs": [
        {
          "output_type": "stream",
          "name": "stdout",
          "text": [
            "동해물과 백두산이\n",
            "동해물과  백두산이\n"
          ]
        }
      ]
    },
    {
      "cell_type": "markdown",
      "metadata": {
        "id": "0CPt-XMbvjWx"
      },
      "source": [
        "### 문자열 곱하기\n",
        "\n",
        "* \\* 연산자를 사용하여 문자열 반복\n"
      ]
    },
    {
      "cell_type": "code",
      "metadata": {
        "id": "tmpi5CMDolHd",
        "colab": {
          "base_uri": "https://localhost:8080/"
        },
        "outputId": "2df98c55-b946-47d9-e4f6-cb7d9a443c93"
      },
      "source": [
        "s=\"string \"\n",
        "print(s*5)"
      ],
      "execution_count": 26,
      "outputs": [
        {
          "output_type": "stream",
          "name": "stdout",
          "text": [
            "string string string string string \n"
          ]
        }
      ]
    },
    {
      "cell_type": "markdown",
      "metadata": {
        "id": "pjKywfKlvvp5"
      },
      "source": [
        "### 문자열 길이(length)\n",
        "\n",
        "* 문자열 길이를 구하는 `len()` 함수\n",
        "* 띄어쓰기도 포함됨"
      ]
    },
    {
      "cell_type": "code",
      "metadata": {
        "id": "vKff0qQdvtqh",
        "colab": {
          "base_uri": "https://localhost:8080/"
        },
        "outputId": "0a07747d-af58-41d2-d19e-4a1ca67b6ab4"
      },
      "source": [
        "s=\"string \"\n",
        "print(len(s))\n",
        "print(len(s*3))"
      ],
      "execution_count": 32,
      "outputs": [
        {
          "output_type": "stream",
          "name": "stdout",
          "text": [
            "7\n",
            "21\n"
          ]
        }
      ]
    },
    {
      "cell_type": "markdown",
      "metadata": {
        "id": "QaeVCcgnv_lD"
      },
      "source": [
        "### 문자열 인덱싱(indexing)\n",
        "\n",
        "* 문자열은 리스트처럼 문자 하나하나가 상대적인 주소(offset)를 가짐\n",
        "* 이 주소를 사용해 할당된 값을 가져오는 인덱싱을 사용"
      ]
    },
    {
      "cell_type": "code",
      "metadata": {
        "id": "yuYQOYe3v5iF",
        "colab": {
          "base_uri": "https://localhost:8080/"
        },
        "outputId": "3ff0c065-509f-4b3f-f3fc-e85d2b08389d"
      },
      "source": [
        "s=\"string\"\n",
        "print(s)\n",
        "print(s[-6])\n",
        "print(s[-5])\n",
        "print(s[-4])\n",
        "print(s[-3])\n",
        "print(s[-2])\n",
        "print(s[-1])"
      ],
      "execution_count": 33,
      "outputs": [
        {
          "output_type": "stream",
          "name": "stdout",
          "text": [
            "string\n",
            "s\n",
            "t\n",
            "r\n",
            "i\n",
            "n\n",
            "g\n"
          ]
        }
      ]
    },
    {
      "cell_type": "markdown",
      "metadata": {
        "id": "zcTUuycAw7np"
      },
      "source": [
        "### 문자열 슬라이싱(slicing)\n",
        "\n",
        "* 문자열의 주소를 이용하여 문자열을 조각(부분)을 추출"
      ]
    },
    {
      "cell_type": "code",
      "metadata": {
        "id": "JJUbjwcgw6PG",
        "colab": {
          "base_uri": "https://localhost:8080/"
        },
        "outputId": "a992e708-b163-45a6-d594-3fe04aeb7113"
      },
      "source": [
        "s=\"minsulab - minsu computer laboratory\"\n",
        "print(s)\n",
        "print(s[0:7])\n",
        "print(s[:7])\n",
        "print(s[10:])\n",
        "print(s[-10:])\n",
        "print(s[-19:-11])"
      ],
      "execution_count": 40,
      "outputs": [
        {
          "output_type": "stream",
          "name": "stdout",
          "text": [
            "minsulab - minsu computer laboratory\n",
            "minsula\n",
            "minsula\n",
            " minsu computer laboratory\n",
            "laboratory\n",
            "computer\n"
          ]
        }
      ]
    },
    {
      "cell_type": "markdown",
      "metadata": {
        "id": "-drrAXi3xY3y"
      },
      "source": [
        "\n",
        "\n",
        "---\n",
        "\n"
      ]
    },
    {
      "cell_type": "markdown",
      "metadata": {
        "id": "ZYyzer0TxVll"
      },
      "source": [
        "## 문자열 메소드(String Methods)\n"
      ]
    },
    {
      "cell_type": "markdown",
      "metadata": {
        "id": "5VO3DGMAyxHc"
      },
      "source": [
        "### capitalize() / casefold()\n",
        "\n",
        "* 문자열 \"string\"에 대해 `capitalize()`를 실행하면, 첫 문자가 대문자인 \"String\" 문자열로 변환\n",
        "* 문자열 \"String\"에 대해 `casefold()`를 실행하면, 모든 문자가 소문자인 \"string\" 문자열로 변환\n",
        "\n",
        "* 중요한 함수만 본다면,\n",
        "  * capitalize, casefold, count, find, rfind, index, rindex, isalnum, isalpha, isdecimal, isdigit, isnumeric, isidentifier, isspace, istitle, islower, isupper, join, center, ljust, rjust, lower, upper, title, swapcase, strip, rstrip, partition, rpartition, replace, split, splitline, startwith, endwith, zfill\n"
      ]
    },
    {
      "cell_type": "code",
      "metadata": {
        "id": "cXTaqtYbxNb3",
        "colab": {
          "base_uri": "https://localhost:8080/"
        },
        "outputId": "5a22f636-0c60-48de-c158-f7fb8d1325a4"
      },
      "source": [
        "s=\"string\"\n",
        "print(s)\n",
        "s=s.capitalize()\n",
        "print(s)\n",
        "s=s.casefold()\n",
        "print(s)"
      ],
      "execution_count": 42,
      "outputs": [
        {
          "output_type": "stream",
          "name": "stdout",
          "text": [
            "string\n",
            "String\n",
            "string\n"
          ]
        }
      ]
    },
    {
      "cell_type": "markdown",
      "metadata": {
        "id": "XE4t6o1f0haA"
      },
      "source": [
        "### count()\n",
        "\n",
        "* 문자열 \"string string\"에 포함된 문자 's'의 갯수를 반환하도록 `count()`를 실행\n",
        "* 문자 's'가 총 2개 존재하므로 2를 반환\n",
        "* 부분 문자열 \"str\"이 몇개인지 반환하는 것도 가능하고, 부분 문자열 \"str\"이 총 2개 존재하므로 2를 반환"
      ]
    },
    {
      "cell_type": "code",
      "metadata": {
        "id": "4o34mT_N0UDY",
        "colab": {
          "base_uri": "https://localhost:8080/"
        },
        "outputId": "71af3576-82ea-41d8-e296-8f3912e0303f"
      },
      "source": [
        "s=\"string string\"\n",
        "print(s.count('s'))\n",
        "print(s.count('str'))"
      ],
      "execution_count": 44,
      "outputs": [
        {
          "output_type": "stream",
          "name": "stdout",
          "text": [
            "2\n",
            "2\n"
          ]
        }
      ]
    },
    {
      "cell_type": "markdown",
      "metadata": {
        "id": "8k0mftqo0yVe"
      },
      "source": [
        "### find() / rfind()\n",
        "\n",
        "* 문자열 \"string string\"에서 문자 's'의 해당 위치를 `find()`를 통해 반환\n",
        "* 문자열 \"string string\"에서 부분 문자열 \"ing\"의 해당 위치를 `find()`를 통해 반환\n",
        "* 문자열 \"string string\"에서 문자 's'를 해당 위치를 `rfind()`를 통해 오른쪽부터 탐색하여 가장 큰 인덱스를 반환\n",
        "* 문자열 \"string string\"에서 부분 문자열 \"ring\"를 해당 위치를 `rfind()`를 통해 오른쪽부터 탐색하여 가장 큰 인덱스를 반환"
      ]
    },
    {
      "cell_type": "code",
      "metadata": {
        "id": "1TDT5Akz0nQn",
        "colab": {
          "base_uri": "https://localhost:8080/"
        },
        "outputId": "54cf239a-d40a-4556-bcf6-0a77511f1523"
      },
      "source": [
        "s=\"string string\"\n",
        "print(s.find('s'))\n",
        "\n",
        "print(s.find('ing'))\n",
        "print(s.rfind('s'))\n",
        "print(s.rfind('ring'))"
      ],
      "execution_count": 48,
      "outputs": [
        {
          "output_type": "stream",
          "name": "stdout",
          "text": [
            "0\n",
            "3\n",
            "7\n",
            "9\n"
          ]
        }
      ]
    },
    {
      "cell_type": "markdown",
      "metadata": {
        "id": "T9p8ylMq1-u7"
      },
      "source": [
        "### index() / rindex()\n",
        "\n",
        "* 문자열 \"string string\"에서 문자 's'의 해당 위치를 `index()`를 통해 반환\n",
        "* 문자열 \"string string\"에서 부분 문자열 \"ing\"의 해당 위치를 `index()`를 통해 반환\n",
        "* 문자열 \"string string\"에서 문자 's'를 해당 위치를 `rindex()`를 통해 오른쪽부터 탐색하여 가장 큰 인덱스를 반환\n",
        "* 문자열 \"string string\"에서 부분 문자열 \"ring\"를 해당 위치를 `rindex()`를 통해 오른쪽부터 탐색하여 가장 큰 인덱스를 반환\n",
        "* 문자열 \"string string\"에서 문자 'z'를 해당 위치를 `rindex()` 함수를 통해 오른쪽부터 탐색하지만 찾을 수 없어서 'ValueError' 발생"
      ]
    },
    {
      "cell_type": "code",
      "metadata": {
        "id": "tzp-p20519Bv",
        "colab": {
          "base_uri": "https://localhost:8080/",
          "height": 241
        },
        "outputId": "8c4d581f-0d25-441d-b28e-9c83fc274834"
      },
      "source": [
        "s=\"string string\"\n",
        "print(s.index('s'))\n",
        "print(s.index('ing'))\n",
        "print(s.rindex('s'))\n",
        "print(s.rindex('ring'))\n",
        "print(s.index('z'))"
      ],
      "execution_count": 51,
      "outputs": [
        {
          "output_type": "stream",
          "name": "stdout",
          "text": [
            "0\n",
            "3\n",
            "7\n",
            "9\n"
          ]
        },
        {
          "output_type": "error",
          "ename": "ValueError",
          "evalue": "substring not found",
          "traceback": [
            "\u001b[0;31m---------------------------------------------------------------------------\u001b[0m",
            "\u001b[0;31mValueError\u001b[0m                                Traceback (most recent call last)",
            "\u001b[0;32m<ipython-input-51-e7f849f02cf9>\u001b[0m in \u001b[0;36m<cell line: 6>\u001b[0;34m()\u001b[0m\n\u001b[1;32m      4\u001b[0m \u001b[0mprint\u001b[0m\u001b[0;34m(\u001b[0m\u001b[0ms\u001b[0m\u001b[0;34m.\u001b[0m\u001b[0mrindex\u001b[0m\u001b[0;34m(\u001b[0m\u001b[0;34m's'\u001b[0m\u001b[0;34m)\u001b[0m\u001b[0;34m)\u001b[0m\u001b[0;34m\u001b[0m\u001b[0;34m\u001b[0m\u001b[0m\n\u001b[1;32m      5\u001b[0m \u001b[0mprint\u001b[0m\u001b[0;34m(\u001b[0m\u001b[0ms\u001b[0m\u001b[0;34m.\u001b[0m\u001b[0mrindex\u001b[0m\u001b[0;34m(\u001b[0m\u001b[0;34m'ring'\u001b[0m\u001b[0;34m)\u001b[0m\u001b[0;34m)\u001b[0m\u001b[0;34m\u001b[0m\u001b[0;34m\u001b[0m\u001b[0m\n\u001b[0;32m----> 6\u001b[0;31m \u001b[0mprint\u001b[0m\u001b[0;34m(\u001b[0m\u001b[0ms\u001b[0m\u001b[0;34m.\u001b[0m\u001b[0mindex\u001b[0m\u001b[0;34m(\u001b[0m\u001b[0;34m'z'\u001b[0m\u001b[0;34m)\u001b[0m\u001b[0;34m)\u001b[0m\u001b[0;34m\u001b[0m\u001b[0;34m\u001b[0m\u001b[0m\n\u001b[0m",
            "\u001b[0;31mValueError\u001b[0m: substring not found"
          ]
        }
      ]
    },
    {
      "cell_type": "markdown",
      "metadata": {
        "id": "prav01jjje_G"
      },
      "source": [
        "### isalnum()\n",
        "\n",
        "* `isalnum()`은 문자열에 알파벳이나 숫자가 1개 이상 있으면 True 반환\n",
        "* 문자열 \"string\"은 알파벳으로 구성 되었으므로 True 반환\n",
        "* 문자열 \"한글\"은 알파벳으로 구성 되어있으므로 True 반환\n",
        "* 문자열 \"!@#\"은 특수기호로 구성 되어있으므로 False 반환\n",
        "* 문자열 \"123\"은 숫자들로 구성 되어있으므로 True 반환"
      ]
    },
    {
      "cell_type": "code",
      "metadata": {
        "id": "6H6gBF44DIke",
        "colab": {
          "base_uri": "https://localhost:8080/"
        },
        "outputId": "eb418efa-93f1-4d86-c0c1-1c2dece24f8f"
      },
      "source": [
        "print(\"string\".isalnum())\n",
        "print(\"한글\".isalnum())\n",
        "print(\"!@#\".isalnum())\n",
        "print(\"123\".isalnum())"
      ],
      "execution_count": 53,
      "outputs": [
        {
          "output_type": "stream",
          "name": "stdout",
          "text": [
            "True\n",
            "True\n",
            "False\n",
            "True\n"
          ]
        }
      ]
    },
    {
      "cell_type": "markdown",
      "metadata": {
        "id": "eHIt6rNFYCGE"
      },
      "source": [
        "### isalpha()\n",
        "\n",
        "* `isalpha()`는 문자열에 알파벳이 1개 이상 있으면 True 반환\n",
        "* 문자열 \"string\"은 알파벳으로 구성 되었으므로 True 반환\n",
        "* 문자열 \"한글\"은 알파벳으로 구성 되어있으므로 True 반환\n",
        "* 문자열 \"!@#\"은 특수기호로 구성 되어있으므로 False 반환\n",
        "* 문자열 \"123\"은 숫자들로 구성 되어있으므로 Flase 반환"
      ]
    },
    {
      "cell_type": "code",
      "metadata": {
        "id": "_dFo8ynlmd_B",
        "colab": {
          "base_uri": "https://localhost:8080/"
        },
        "outputId": "5813326f-cb33-462a-acb0-6cfe886c4b86"
      },
      "source": [
        "print(\"string\".isalpha())\n",
        "print(\"한글\".isalpha())\n",
        "print(\"!@#\".isalpha())\n",
        "print(\"123\".isalpha())\n"
      ],
      "execution_count": 55,
      "outputs": [
        {
          "output_type": "stream",
          "name": "stdout",
          "text": [
            "True\n",
            "True\n",
            "False\n",
            "False\n"
          ]
        }
      ]
    },
    {
      "cell_type": "markdown",
      "metadata": {
        "id": "_WGNBgfilCZg"
      },
      "source": [
        "### isdecimal()\n",
        "\n",
        "* `isdecimal()`는 문자열의 모든 문자가 10진수 문자이면 True 반환\n",
        "* 문자열 \"123\"은 모두 10진수 문자열이므로 True 반환\n",
        "* 문자열 \"1.23\"은 실수형 문자열이므로 False 반환"
      ]
    },
    {
      "cell_type": "code",
      "metadata": {
        "id": "E2kVKYNHjtlN",
        "colab": {
          "base_uri": "https://localhost:8080/"
        },
        "outputId": "988ee17d-734c-4711-da1c-71cf65e21ed5"
      },
      "source": [
        "print(\"123\".isdecimal())\n",
        "print(\"1.23\".isdecimal())"
      ],
      "execution_count": 57,
      "outputs": [
        {
          "output_type": "stream",
          "name": "stdout",
          "text": [
            "True\n",
            "False\n"
          ]
        }
      ]
    },
    {
      "cell_type": "markdown",
      "metadata": {
        "id": "J0pJ-8T_Yhlx"
      },
      "source": [
        "### isdigit()\n",
        "\n",
        "* `isdigit()`는 문자열의 모든 문자가 숫자일 때 True 반환\n",
        "* 문자열 \"123\"은 모든 문자가 숫자에 해당하므로 True 반환\n",
        "* 문자열 \"1.23\"은 문자 중 숫자에 해당안되는 . 이 존재하여 False"
      ]
    },
    {
      "cell_type": "code",
      "metadata": {
        "id": "oOsCWfMhmjHo",
        "colab": {
          "base_uri": "https://localhost:8080/"
        },
        "outputId": "206ee784-cef5-4aeb-f176-f944bd9f0cb2"
      },
      "source": [
        "print(\"123\".isdigit())\n",
        "print(\"1.23\".isdigit())"
      ],
      "execution_count": 58,
      "outputs": [
        {
          "output_type": "stream",
          "name": "stdout",
          "text": [
            "True\n",
            "False\n"
          ]
        }
      ]
    },
    {
      "cell_type": "markdown",
      "metadata": {
        "id": "2jPib-Z8ZAlj"
      },
      "source": [
        "### isnumeric()\n",
        "\n",
        "* `isnumeric()`는 문자열의 모든 문자가 수치형일 때 True 반환\n",
        "* 문자열 \"123\"은 모든 문자가 숫자에 해당하므로 True 반환\n",
        "* 문자열 \"1.23\"은 문자 중 수치형에 해당안되는 . 이 존재하여 False"
      ]
    },
    {
      "cell_type": "code",
      "metadata": {
        "id": "J5EsHyjfpidQ",
        "colab": {
          "base_uri": "https://localhost:8080/"
        },
        "outputId": "dc9de286-e8aa-40bf-b864-47f630cdad94"
      },
      "source": [
        "print(\"123\".isnumeric())\n",
        "print(\"1.23\".isnumeric())"
      ],
      "execution_count": 60,
      "outputs": [
        {
          "output_type": "stream",
          "name": "stdout",
          "text": [
            "True\n",
            "False\n"
          ]
        }
      ]
    },
    {
      "cell_type": "markdown",
      "metadata": {
        "id": "krM9QrrEp5TB"
      },
      "source": [
        "### isidentifier()\n",
        "\n",
        "* `isidentifier()`는 문자열이 파이썬에서 사용하는 식별자인 경우 True 반환\n",
        "* 문자열 \"123\"은 식별자로 사용되지 않는 문자열이라서 False 반환\n",
        "* 문자열 \"True\"는 식별자로 사용되기 때문에 True 반환\n",
        "* 문자열 \"print\"는 식별자로 사용되기 때문에 True 반환"
      ]
    },
    {
      "cell_type": "code",
      "metadata": {
        "id": "ir5WknFUpO7r",
        "colab": {
          "base_uri": "https://localhost:8080/"
        },
        "outputId": "d0bb9374-a976-4622-ab8b-5b464beff5a6"
      },
      "source": [
        "print(\"123\".isidentifier())\n",
        "print(\"true\".isidentifier())\n",
        "print(\"print\".isidentifier())"
      ],
      "execution_count": 63,
      "outputs": [
        {
          "output_type": "stream",
          "name": "stdout",
          "text": [
            "False\n",
            "True\n",
            "True\n"
          ]
        }
      ]
    },
    {
      "cell_type": "markdown",
      "metadata": {
        "id": "jHm6aRyAlypa"
      },
      "source": [
        "### isspace()\n",
        "\n",
        "* 문자열 \" \"은 문자열 내에 공백 문자가 있어서 True 반환\n",
        "* 문자열 \" 1 \"은 문자열 내에 공백 아닌 문자가 있어서 False 반환"
      ]
    },
    {
      "cell_type": "code",
      "metadata": {
        "id": "x0Nmi2NtqQpI",
        "colab": {
          "base_uri": "https://localhost:8080/"
        },
        "outputId": "76141638-7735-4626-cbb2-4f603afc25b7"
      },
      "source": [
        "print(\"  \".isspace())\n",
        "print(\" 1 \".isspace())"
      ],
      "execution_count": 65,
      "outputs": [
        {
          "output_type": "stream",
          "name": "stdout",
          "text": [
            "True\n",
            "False\n"
          ]
        }
      ]
    },
    {
      "cell_type": "markdown",
      "metadata": {
        "id": "SG3Odc9fIHpT"
      },
      "source": [
        "### istitle()\n",
        "\n",
        "* 문자열 \"String\"은 문자열 내에 제목과 같이 첫 글자가 대문자여서 True 반환\n",
        "* 문자열 \"STRING\"은 모든 문자가 대문자이기 때문에 False 반환"
      ]
    },
    {
      "cell_type": "code",
      "metadata": {
        "id": "c7eht5HErgrr",
        "colab": {
          "base_uri": "https://localhost:8080/"
        },
        "outputId": "63576835-7bd1-4656-d1dc-ceecebb6c994"
      },
      "source": [
        "print(\"String\".istitle())\n",
        "print(\"STRING\".istitle())"
      ],
      "execution_count": 67,
      "outputs": [
        {
          "output_type": "stream",
          "name": "stdout",
          "text": [
            "True\n",
            "False\n"
          ]
        }
      ]
    },
    {
      "cell_type": "markdown",
      "metadata": {
        "id": "ctZKMIrHI8-A"
      },
      "source": [
        "### islower()\n",
        "\n",
        "* 문자열 \"string\"은 모든 문자가 소문자여서 True 반환\n",
        "* 문자열 \"String\"은 첫 문자가 대문자여서 False 반환"
      ]
    },
    {
      "cell_type": "code",
      "metadata": {
        "id": "xznSyZT9lzp5",
        "colab": {
          "base_uri": "https://localhost:8080/"
        },
        "outputId": "7e57b215-5332-420f-8efb-01241cfd7d18"
      },
      "source": [
        "print(\"string\".islower())\n",
        "print(\"sTring\".islower())"
      ],
      "execution_count": 69,
      "outputs": [
        {
          "output_type": "stream",
          "name": "stdout",
          "text": [
            "True\n",
            "False\n"
          ]
        }
      ]
    },
    {
      "cell_type": "markdown",
      "metadata": {
        "id": "KVnECEUXI_MN"
      },
      "source": [
        "### isupper() 함수\n",
        "\n",
        "* 문자열 \"STRING\"은 모든 문자가 대문자여서 True 반환\n",
        "* 문자열 \"String\"은 첫 문자만 대문자여서 False 반환"
      ]
    },
    {
      "cell_type": "code",
      "metadata": {
        "id": "ZAmXy2lCqIbi",
        "colab": {
          "base_uri": "https://localhost:8080/"
        },
        "outputId": "46849809-ced9-4d51-84fa-0a85df48f8cf"
      },
      "source": [
        "print(\"STRING\".isupper())\n",
        "print(\"STrING\".isupper())"
      ],
      "execution_count": 71,
      "outputs": [
        {
          "output_type": "stream",
          "name": "stdout",
          "text": [
            "True\n",
            "False\n"
          ]
        }
      ]
    },
    {
      "cell_type": "markdown",
      "metadata": {
        "id": "mGdbqGsSr8Ee"
      },
      "source": [
        "### join()\n",
        "\n",
        "* 문자열 \"String\"에 대해서 `join()`으로 공백 문자 ' '를 문자 사이마다 추가한 문자열 \"S t r i n g\"을 반환\n",
        "* 문자열 \"String\"에 대해서 `join()` 으로 공백 문자 '_'를 문자 사이마다 추가한 문자열 \"S_t_r_i_n_g\"을 반환\n",
        "* 문자열 \"String\"에 대해서 `join()` 으로 공백 문자 '|'를 문자 사이마다 추가한 문자열 \"S|t|r|i|n|g\"을 반환"
      ]
    },
    {
      "cell_type": "code",
      "metadata": {
        "id": "A8tTe2l3rwLw",
        "colab": {
          "base_uri": "https://localhost:8080/"
        },
        "outputId": "ed8a6a57-00d4-4e85-fea4-488d0847fea1"
      },
      "source": [
        "s=\"string\"\n",
        "print(' '.join(s))\n",
        "print('_'.join(s))"
      ],
      "execution_count": 73,
      "outputs": [
        {
          "output_type": "stream",
          "name": "stdout",
          "text": [
            "s t r i n g\n",
            "s_t_r_i_n_g\n"
          ]
        }
      ]
    },
    {
      "cell_type": "markdown",
      "metadata": {
        "id": "zDmq0ExIsdtu"
      },
      "source": [
        "### center() / ljust() / rjust()\n",
        "\n",
        "* 문자열 \"String\"에 대해서 `center()`를 사용하여 너비 10에 해당하는 문자열 길이에 가운데 정렬한 문자열 '  String  '로 변환\n",
        "* 문자열 \"String\"에 대해서 `ljust()`를 사용하여 너비 10에 해당하는 문자열 길이에 왼쪽 정렬한 문자열 'String    '로 변환\n",
        "* 문자열 \"String\"에 대해서 `rjust()`를 사용하여 너비 10에 해당하는 문자열 길이에 오른쪽 정렬한 문자열 '    String'로 변환"
      ]
    },
    {
      "cell_type": "code",
      "metadata": {
        "id": "sFA02kX3sf2q",
        "colab": {
          "base_uri": "https://localhost:8080/"
        },
        "outputId": "40e0eb4e-9e41-44e6-c4cc-8dfa04b0d804"
      },
      "source": [
        "print(\"'\" + \"string\".center(10)+ \"'\")\n",
        "print(\"'\" + \"string\".ljust(10)+ \"'\")\n",
        "print(\"'\" + \"string\".rjust(10)+ \"'\")"
      ],
      "execution_count": 76,
      "outputs": [
        {
          "output_type": "stream",
          "name": "stdout",
          "text": [
            "'  string  '\n",
            "'string    '\n",
            "'    string'\n"
          ]
        }
      ]
    },
    {
      "cell_type": "markdown",
      "metadata": {
        "id": "-iP2QrFn0kWZ"
      },
      "source": [
        "### lower() / upper() / title() / swapcase()\n",
        "\n",
        "* 문자열 \"String\"을 `lower()`를 이용하여 모든 문자가 소문자로 변환된 \"string\" 반환\n",
        "* 문자열 \"String\"을 `upper()`를 이용하여 모든 문자가 대문자로 변환된 \"STRING\" 반환\n",
        "* 문자열 \"string\"을 `title()`를 이용하여 첫 문자가 대문자로 변환된 \"String\" 반환\n",
        "* 문자열 \"String\"을 `swapcase()`를 이용하여 대문자는 소문자로 변환되고 소문자는 대문자로 변환된 \"sTRING\" 반환\n"
      ]
    },
    {
      "cell_type": "code",
      "metadata": {
        "id": "K8JmvhjC0j-e",
        "colab": {
          "base_uri": "https://localhost:8080/"
        },
        "outputId": "429fe763-9a7b-4b8b-cf9b-46f0deb8db4d"
      },
      "source": [
        "print(\"String\".lower())\n",
        "print(\"String\".upper())\n",
        "print(\"String\".title())\n",
        "print(\"String\".swapcase())"
      ],
      "execution_count": 77,
      "outputs": [
        {
          "output_type": "stream",
          "name": "stdout",
          "text": [
            "string\n",
            "STRING\n",
            "String\n",
            "sTRING\n"
          ]
        }
      ]
    },
    {
      "cell_type": "markdown",
      "metadata": {
        "id": "oyk35mDo1d2M"
      },
      "source": [
        "### strip() / lstrip() / rstrip()\n",
        "\n",
        "* 양쪽 공백이 포함된 문자열 \"  String  \"을 `strip()`를 통해 공백 제거\n",
        "* 양쪽 공백이 포함된 문자열 \"  String  \"을 `lstrip()`를 통해 왼쪽 공백 제거\n",
        "* 양쪽 공백이 포함된 문자열 \"  String  \"을 `rstrip()`를 통해 오른쪽 공백 제거"
      ]
    },
    {
      "cell_type": "code",
      "metadata": {
        "id": "Y8D90szl1YOa",
        "colab": {
          "base_uri": "https://localhost:8080/"
        },
        "outputId": "2b287c91-c178-4b09-8d9c-e6f190545131"
      },
      "source": [
        "print(\"   string   \".strip())\n",
        "print(\"   string   \".lstrip())\n",
        "print(\"   string   \".rstrip())"
      ],
      "execution_count": 79,
      "outputs": [
        {
          "output_type": "stream",
          "name": "stdout",
          "text": [
            "string\n",
            "string   \n",
            "   string\n"
          ]
        }
      ]
    },
    {
      "cell_type": "markdown",
      "metadata": {
        "id": "zPLZHaXu7OYj"
      },
      "source": [
        "### partition() / rpartition()\n",
        "\n",
        "* 문자열 \"String\"을 `partition()`를 이용하여 문자 't' 기준으로 분할\n",
        "* 문자열 \"String String\"을 `rpartition()`를 이용하여 마지막 문자 'S'를 기준으로 분할"
      ]
    },
    {
      "cell_type": "code",
      "metadata": {
        "id": "fhmrvPHl4I6Q",
        "colab": {
          "base_uri": "https://localhost:8080/"
        },
        "outputId": "64b320e5-95a7-4e0a-b4bd-2ce70d3b48ca"
      },
      "source": [
        "print(\"string\".partition('t'))\n",
        "print(\"string\".rpartition('r'))\n"
      ],
      "execution_count": 83,
      "outputs": [
        {
          "output_type": "stream",
          "name": "stdout",
          "text": [
            "('s', 't', 'ring')\n",
            "('st', 'r', 'ing')\n"
          ]
        }
      ]
    },
    {
      "cell_type": "markdown",
      "metadata": {
        "id": "8YF_Rheq7fe6"
      },
      "source": [
        "### replace()\n",
        "\n",
        "* 문자열 \"String\"을 `replace()`를 이용해 문자열 \"Str\"을 문자 'R'로 교체"
      ]
    },
    {
      "cell_type": "code",
      "metadata": {
        "id": "nNuELc1q7Wwf",
        "colab": {
          "base_uri": "https://localhost:8080/"
        },
        "outputId": "e07327f1-4ffa-4b1b-9db2-8e160de2c402"
      },
      "source": [
        "print(\"String\".replace(\"Str\",\"R\"))"
      ],
      "execution_count": 84,
      "outputs": [
        {
          "output_type": "stream",
          "name": "stdout",
          "text": [
            "Ring\n"
          ]
        }
      ]
    },
    {
      "cell_type": "markdown",
      "metadata": {
        "id": "rIP8GXbM7p3w"
      },
      "source": [
        "### split() / rsplit() / splitlines()\n",
        "\n",
        "* 문자열 \"1 2 3\"을 `split()`의 기본 구분자를 이용하여 '1', '2', '3' 으로 구분\n",
        "* 문자열 \"1_2_3\"을 `split()`으로 구분자 '_'를 이용하여 '1', '2', '3' 으로 구분\n",
        "* 문자열 \"1 2 3\"을 `rsplit()`으로 구분자 '_'를 이용하여 오른쪽부터 1번만 구분하여 '1_2', '3' 으로 구분\n",
        "* 문자열 \"123\\n123\\n123\\n\"을 `splitlines()` 함수를 이용하여 라인 단위로 구분하여 '123, '123, '123 반환"
      ]
    },
    {
      "cell_type": "code",
      "metadata": {
        "id": "Ns3ZMQJ17mv7",
        "colab": {
          "base_uri": "https://localhost:8080/"
        },
        "outputId": "871d010a-a603-4612-e256-9b3acc51ed5f"
      },
      "source": [
        "print(\"1 2 3\".split())\n",
        "print(\"1_2_3\".split(\"_\"))\n",
        "print(\"1_2_3\".rsplit('_',1))\n",
        "print(\"123\\n123\\n123\".splitlines())"
      ],
      "execution_count": 91,
      "outputs": [
        {
          "output_type": "stream",
          "name": "stdout",
          "text": [
            "['1', '2', '3']\n",
            "['1', '2', '3']\n",
            "['1_2', '3']\n",
            "['123', '123', '123']\n"
          ]
        }
      ]
    },
    {
      "cell_type": "markdown",
      "metadata": {
        "id": "tx8dAOPm8DTv"
      },
      "source": [
        "### startswith() / endswith()\n",
        "\n",
        "* 문자열 \"String\"에서 시작 문자가 'S'인지 `startswith()`를 통해 확인\n",
        "* 문자열 \"String\"에서 마지막 문자가 'g'인지 `endswith()`를 통해 확인"
      ]
    },
    {
      "cell_type": "code",
      "metadata": {
        "id": "dNB3Da_x7587",
        "colab": {
          "base_uri": "https://localhost:8080/"
        },
        "outputId": "162f6850-6a2c-460e-cc68-f1396cd19503"
      },
      "source": [
        "print(\"String\".startswith('S'))\n",
        "print(\"String\".startswith('s'))\n",
        "print(\"string\".endswith('g'))"
      ],
      "execution_count": 96,
      "outputs": [
        {
          "output_type": "stream",
          "name": "stdout",
          "text": [
            "True\n",
            "False\n",
            "True\n"
          ]
        }
      ]
    },
    {
      "cell_type": "markdown",
      "metadata": {
        "id": "OZatwJSe8Svd"
      },
      "source": [
        "### zfill()\n",
        "\n",
        "* 문자열 \"123\"에서 너비 8만큼으로 늘리고 비어있는 부분에 '0'이 채워진 문자열 \"00000123\" 반환"
      ]
    },
    {
      "cell_type": "code",
      "metadata": {
        "id": "rWqlvXJV8MJF",
        "colab": {
          "base_uri": "https://localhost:8080/"
        },
        "outputId": "ad85023e-9f8b-47bf-badf-09c1357a9629"
      },
      "source": [
        "print(\"123\".zfill(8))\n"
      ],
      "execution_count": 97,
      "outputs": [
        {
          "output_type": "stream",
          "name": "stdout",
          "text": [
            "00000123\n"
          ]
        }
      ]
    },
    {
      "cell_type": "markdown",
      "metadata": {
        "id": "yjsh7OcA8fIu"
      },
      "source": [
        "\n",
        "\n",
        "---\n",
        "\n"
      ]
    },
    {
      "cell_type": "markdown",
      "metadata": {
        "id": "Og91a1bd8gd-"
      },
      "source": [
        "## 문자열 서식(String Format)\n"
      ]
    },
    {
      "cell_type": "markdown",
      "metadata": {
        "id": "U7QLYGjk8qbO"
      },
      "source": [
        "### 문자열 포맷팅(String Formatting)\n",
        "\n",
        "* 문자열 내에서 서식에 맞추어 특정 값을 삽입 또는 변경\n",
        "* 기호 % 뒤에 있는 값이 문자열 내의 서식에 순서대로 매핑"
      ]
    },
    {
      "cell_type": "code",
      "metadata": {
        "id": "_z3A1Rmu8Wex",
        "colab": {
          "base_uri": "https://localhost:8080/"
        },
        "outputId": "d5b5d9f6-4ad4-4f7c-def0-107ea4f586c3"
      },
      "source": [
        "print(\"나는 사과가 %d개 있다.\" % 2)\n",
        "print(\"나는 사과가 %s개 있다.\" % \"두\")\n",
        "print(\"파이썬은 재미%s다\" %\"있\")"
      ],
      "execution_count": 102,
      "outputs": [
        {
          "output_type": "stream",
          "name": "stdout",
          "text": [
            "나는 사과가 2개 있다.\n",
            "나는 사과가 두개 있다.\n",
            "파이썬은 재미있다\n"
          ]
        }
      ]
    },
    {
      "cell_type": "markdown",
      "metadata": {
        "id": "PP32b9L3-eVL"
      },
      "source": [
        "### 정렬, 공백, 소수점 포맷\n",
        "\n",
        "* 포맷 문자 앞에 숫자는 길이를 의미\n",
        "* -는 왼쪽 정렬을 의미\n",
        "* 소수점 ‘.’ 뒤에 숫자는 소숫점 이하 개수를 의미\n",
        "\n",
        "\n",
        "\n",
        "---\n",
        "%s : 문자열(string)\n",
        "\n",
        "%c : 문자(character)\n",
        "\n",
        "%d : 정수(integer)\n",
        "\n",
        "%f : 부동소수(floating-point)\n",
        "\n",
        "%o : 8진수\n",
        "\n",
        "%x : 16진수\n",
        "\n",
        "%% : 문자 '%'\n"
      ]
    },
    {
      "cell_type": "code",
      "metadata": {
        "id": "uG9qhf2L9K_A",
        "colab": {
          "base_uri": "https://localhost:8080/"
        },
        "outputId": "d1f0d0ad-027b-426c-9204-3d121d39ecfa"
      },
      "source": [
        "print(\"%8s\" %\"Hello\")\n",
        "print(\"%-8s대책\" %\"저출산\")\n",
        "print(\"%0.4f\" %3.141592)"
      ],
      "execution_count": 112,
      "outputs": [
        {
          "output_type": "stream",
          "name": "stdout",
          "text": [
            "   Hello\n",
            "저출산     대책\n",
            "3.1416\n"
          ]
        }
      ]
    },
    {
      "cell_type": "markdown",
      "metadata": {
        "id": "SrIx3mkM_C8G"
      },
      "source": [
        "### 문자열 format 메소드\n",
        "\n",
        "* 문자열 `format()`의 인덱스를 이용한 고급 포맷팅\n",
        "* 인덱스 번호에 따라 `format()` 함수의 각 값들이 매핑"
      ]
    },
    {
      "cell_type": "code",
      "metadata": {
        "id": "uf469Z6l-6E0",
        "colab": {
          "base_uri": "https://localhost:8080/"
        },
        "outputId": "146ff91c-7642-4fd6-abfd-49c79e90327e"
      },
      "source": [
        "print(\"나는 사과가 {0}개 있다.\".format(2))\n",
        "print(\"나는 사과가 {0}개 있다.\" .format(\"두\"))\n",
        "print(\"나는 {0}가 {1}개 있{2}다.\".format(\"사과\", 2, \"었\"))"
      ],
      "execution_count": 119,
      "outputs": [
        {
          "output_type": "stream",
          "name": "stdout",
          "text": [
            "나는 사과가 2개 있다.\n",
            "나는 사과가 두개 있다.\n",
            "나는 사과가 2개 있었다.\n"
          ]
        }
      ]
    },
    {
      "cell_type": "markdown",
      "metadata": {
        "id": "0pTK7FHW_jIn"
      },
      "source": [
        "* 문자열 `format()` 메소드의 인덱스와 변수 이름을 이용한 포맷팅\n",
        "* 변수 이름 s와 n을 지정하여 \"사과\"와 숫자 2를 매핑"
      ]
    },
    {
      "cell_type": "code",
      "metadata": {
        "id": "Bwx0XnkE_Yvn",
        "colab": {
          "base_uri": "https://localhost:8080/"
        },
        "outputId": "14c9c55a-6ed8-4611-dabb-3b74ccf4864f"
      },
      "source": [
        "print(\"나는 {s}가 {n}개 있다.\".format(s=\"사과\", n=2))"
      ],
      "execution_count": 121,
      "outputs": [
        {
          "output_type": "stream",
          "name": "stdout",
          "text": [
            "나는 사과가 2개 있다.\n"
          ]
        }
      ]
    },
    {
      "cell_type": "markdown",
      "metadata": {
        "id": "0yErNkKPAA2F"
      },
      "source": [
        "* 문자열 `format()` 함수의 정렬, 공백, 소수점\n",
        "\n",
        "---\n",
        "\n",
        "\n",
        "\n",
        "---\n",
        "\n",
        " * :8 : 길이 8\n",
        " * :< : 왼쪽 정렬\n",
        " * :> : 오른쪽 정렬\n",
        " * :^ : 가운데 정렬\n",
        " * :~ : '~'로 공백 채우기\n",
        " * :0.2f : 소수점 2자리까지\n",
        " * 8.2f : rlfdl 8, 소수점 2자리\n",
        " * {{ : '{'문자 표현\n",
        " * }} : '}'문자 표현"
      ]
    },
    {
      "cell_type": "code",
      "metadata": {
        "id": "Nfi9kAeD_z3p",
        "colab": {
          "base_uri": "https://localhost:8080/"
        },
        "outputId": "1dd28bed-b678-40e2-8b59-f2de054dcf66"
      },
      "source": [
        "from inspect import formatargspec\n",
        "formatargspec\n",
        "print(\"{0:8}\".format(\"Hello\"))\n",
        "print(\"{0:<8}\".format(\"Hello\"))\n",
        "print(\"{0:>8}\".format(\"Hello\"))\n",
        "print(\"{0:^8}\".format(\"Hello\"))\n",
        "print(\"{0:~^8}\".format(\"Hello\"))\n",
        "print(\"{0:-^8}\".format(\"Hello\"))\n",
        "print(\"{0:0.2f}\".format(3.141592))\n",
        "print(\"{0:8.4f}\".format(3.141592))\n",
        "print(\"{{}}\".format())"
      ],
      "execution_count": 127,
      "outputs": [
        {
          "output_type": "stream",
          "name": "stdout",
          "text": [
            "Hello   \n",
            "Hello   \n",
            "   Hello\n",
            " Hello  \n",
            "~Hello~~\n",
            "-Hello--\n",
            "3.14\n",
            "  3.1416\n",
            "{}\n"
          ]
        }
      ]
    },
    {
      "cell_type": "markdown",
      "metadata": {
        "id": "1GS_wR86BmtE"
      },
      "source": [
        "### f 문자열 포맷팅\n",
        "\n",
        "* 문자열 포맷팅을 위해 새롭게 나온 기능으로 문자열 앞에 f를 붙여서 구분\n",
        "* 변수 s와 n에 대해서 문자열에 포함된 이름으로 매핑하여 사용 가능\n"
      ]
    },
    {
      "cell_type": "code",
      "metadata": {
        "id": "3ffhQ807BYLf",
        "colab": {
          "base_uri": "https://localhost:8080/"
        },
        "outputId": "0ee074f9-75ad-4f86-f0bf-e12945567a52"
      },
      "source": [
        "s=\"사과\"\n",
        "n=2\n",
        "print(f\"나는 사과가 {n}개 있다.\")\n",
        "print(f\"나는 {s}가 {n}개 있다.\")"
      ],
      "execution_count": 129,
      "outputs": [
        {
          "output_type": "stream",
          "name": "stdout",
          "text": [
            "나는 사과가 2개 있다.\n",
            "나는 사과가 2개 있다.\n"
          ]
        }
      ]
    },
    {
      "cell_type": "markdown",
      "metadata": {
        "id": "9zQ6zYkRR_dt"
      },
      "source": [
        "* 기존의 문자열 포맷을 문자열 다음 기호 : 뒤에 표현하여 그대로 사용 가능"
      ]
    },
    {
      "cell_type": "code",
      "metadata": {
        "id": "UOYcnlERBxhy",
        "colab": {
          "base_uri": "https://localhost:8080/"
        },
        "outputId": "818ecc61-a71d-4a53-bea3-4a02d64deae9"
      },
      "source": [
        "print(f'{\"hello\":8}')\n",
        "print(f'{\"hello\":<8}')\n",
        "print(f'{\"hello\":>8}')"
      ],
      "execution_count": 133,
      "outputs": [
        {
          "output_type": "stream",
          "name": "stdout",
          "text": [
            "hello   \n",
            "hello   \n",
            "   hello\n"
          ]
        }
      ]
    },
    {
      "cell_type": "code",
      "source": [],
      "metadata": {
        "id": "KBTWVbFOxLOO"
      },
      "execution_count": null,
      "outputs": []
    }
  ]
}